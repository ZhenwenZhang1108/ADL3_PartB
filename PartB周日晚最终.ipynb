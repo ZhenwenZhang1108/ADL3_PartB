{
  "cells": [
    {
      "cell_type": "markdown",
      "metadata": {
        "id": "view-in-github",
        "colab_type": "text"
      },
      "source": [
        "<a href=\"https://colab.research.google.com/github/ZhenwenZhang1108/ADL3_PartB/blob/main/PartB%E5%91%A8%E6%97%A5%E6%99%9A%E6%9C%80%E7%BB%88.ipynb\" target=\"_parent\"><img src=\"https://colab.research.google.com/assets/colab-badge.svg\" alt=\"Open In Colab\"/></a>"
      ]
    },
    {
      "cell_type": "code",
      "execution_count": null,
      "metadata": {
        "colab": {
          "base_uri": "https://localhost:8080/"
        },
        "id": "RFSzq1InIxrA",
        "outputId": "ace245ca-c8e1-434c-f7b5-d66220bf55e5"
      },
      "outputs": [
        {
          "name": "stdout",
          "output_type": "stream",
          "text": [
            "Collecting torcheval\n",
            "  Downloading torcheval-0.0.7-py3-none-any.whl (179 kB)\n",
            "\u001b[2K     \u001b[90m━━━━━━━━━━━━━━━━━━━━━━━━━━━━━━━━━━━━━━━━\u001b[0m \u001b[32m179.2/179.2 kB\u001b[0m \u001b[31m1.3 MB/s\u001b[0m eta \u001b[36m0:00:00\u001b[0m\n",
            "\u001b[?25hRequirement already satisfied: typing-extensions in /usr/local/lib/python3.10/dist-packages (from torcheval) (4.11.0)\n",
            "Installing collected packages: torcheval\n",
            "Successfully installed torcheval-0.0.7\n"
          ]
        }
      ],
      "source": [
        "!pip install torcheval"
      ]
    },
    {
      "cell_type": "code",
      "execution_count": null,
      "metadata": {
        "colab": {
          "base_uri": "https://localhost:8080/"
        },
        "id": "84ZoJAjZ3NVL",
        "outputId": "79adaa23-92f3-42f5-c725-ea393ff25ff6"
      },
      "outputs": [
        {
          "name": "stdout",
          "output_type": "stream",
          "text": [
            "Mounted at /content/drive\n"
          ]
        }
      ],
      "source": [
        "import sklearn\n",
        "from sklearn.metrics import f1_score\n",
        "import torch\n",
        "import torch.nn as nn\n",
        "import torch.utils\n",
        "import torch.optim as optim\n",
        "import torch\n",
        "from torch.utils.data import Dataset,DataLoader,random_split\n",
        "from torchvision import datasets, transforms\n",
        "import numpy as np\n",
        "import matplotlib.pyplot as plt\n",
        "from torch.nn import functional as F\n",
        "from torchvision.datasets.utils import download_url\n",
        "from torch import Tensor\n",
        "from sklearn.preprocessing import OneHotEncoder\n",
        "from torcheval.metrics.functional import multiclass_f1_score\n",
        "from google.colab import drive\n",
        "from torcheval.metrics.functional.classification import binary_recall,multiclass_recall\n",
        "drive.mount('/content/drive')\n"
      ]
    },
    {
      "cell_type": "code",
      "execution_count": null,
      "metadata": {
        "colab": {
          "base_uri": "https://localhost:8080/"
        },
        "id": "HVTHNEkV3fcY",
        "outputId": "2dd34a38-380b-4f26-aadb-4638650bf3f1"
      },
      "outputs": [
        {
          "name": "stdout",
          "output_type": "stream",
          "text": [
            "[]\n"
          ]
        }
      ],
      "source": [
        "import os\n",
        "path = \"/content/drive/MyDrive/ADL32/\"\n",
        "os.chdir(path)\n",
        "print(os.listdir())"
      ]
    },
    {
      "cell_type": "code",
      "execution_count": null,
      "metadata": {
        "colab": {
          "base_uri": "https://localhost:8080/"
        },
        "id": "3HIt5eBY4ntO",
        "outputId": "c222094d-b4d5-4164-bc3c-6633f51d5085"
      },
      "outputs": [
        {
          "name": "stdout",
          "output_type": "stream",
          "text": [
            "cpu\n"
          ]
        }
      ],
      "source": [
        "device = 'cuda' if torch.cuda.is_available() else 'cpu'\n",
        "print(device)"
      ]
    },
    {
      "cell_type": "markdown",
      "metadata": {
        "id": "ezhTyJxf3mgW"
      },
      "source": [
        "创建数据库(list存两个各自的数组？一个数组里装x,另一个装y?，还是必须构建x到y的一一对应关系)。\n",
        "为每段序列添加一个标签（打标签的规则是什么？总不能随机打标签吧）。"
      ]
    },
    {
      "cell_type": "markdown",
      "metadata": {
        "id": "iN3QUjvx7Rda"
      },
      "source": [
        "对序列进行编码，abc的话采用One-hot编码应该可以。"
      ]
    },
    {
      "cell_type": "markdown",
      "metadata": {
        "id": "T4HQnqTI3w6X"
      },
      "source": [
        "对序列进行编码，只有abc三个字母的话采用One-hot编码应该可以。是否需要补齐<padding>？"
      ]
    },
    {
      "cell_type": "markdown",
      "metadata": {
        "id": "tJMXAPEiNWVz"
      },
      "source": [
        "如果我们设置batch size=1，那就不需要padding了？？？\n",
        "但如此设置，恐怕挨个挪到GPU上就会很慢了，可能就得在CPU上直接训练？"
      ]
    },
    {
      "cell_type": "code",
      "execution_count": null,
      "metadata": {
        "colab": {
          "base_uri": "https://localhost:8080/"
        },
        "id": "oQfuYo3EQwnx",
        "outputId": "65487408-ffc6-4934-fda2-d9c7c9805efc"
      },
      "outputs": [
        {
          "output_type": "stream",
          "name": "stdout",
          "text": [
            "[[0. 0. 0. 0. 0. 0. 0. 0. 0. 0. 0. 0. 0. 0. 0. 0. 0. 0.]\n",
            " [0. 0. 0. 0. 0. 0. 0. 0. 0. 0. 0. 0. 0. 0. 0. 0. 0. 0.]]\n",
            "tensor([1])\n",
            "60 1194\n",
            "[  0.   3.   6.   9.  15.  21.  27.  36.  45.  54.  66.  78.  90. 105.\n",
            " 120. 135. 153. 171.]\n",
            "[10.  0.  0. 10.  0.  0. 10.  0.  0. 10.  0.  0. 10.  0.  0. 10.  0.  0.]\n"
          ]
        }
      ],
      "source": [
        "stats = np.zeros((2,18))\n",
        "print(stats)\n",
        "#自定义一个Dataset类，必需包含init, len, getitem\n",
        "class CustomDataset(Dataset):\n",
        "    def __init__(self):\n",
        "        self.data = []\n",
        "        self.targets = []\n",
        "\n",
        "    def __len__(self):\n",
        "        return len(self.data)\n",
        "\n",
        "    def __getitem__(self, index):\n",
        "        return self.data[index], self.targets[index]\n",
        "\n",
        "    def append(self, data, target):\n",
        "        self.data.append(data)\n",
        "        self.targets.append(target)\n",
        "\n",
        "# 创建自定义数据集对象\n",
        "dataset = CustomDataset()\n",
        "sum = 0\n",
        "k=0\n",
        "# 逐个添加数据和标签\n",
        "for x in range(1,19):\n",
        "  for y in range(1,19):\n",
        "    for z in range(1,19):\n",
        "     if x+y+z>20:\n",
        "       continue\n",
        "     input_string = 'a'*x + 'b'*y + 'c'*z\n",
        "     input_array = np.array(list(input_string)).reshape(-1, 1)\n",
        "     #创建并适配 OneHotEncoder\n",
        "     encoder = OneHotEncoder(sparse_output=False)\n",
        "     data = torch.FloatTensor(encoder.fit_transform(input_array))\n",
        "     rep = 1\n",
        "     if x==y and y==z :\n",
        "      target=torch.tensor(1)\n",
        "      k+=10\n",
        "      sum+=10\n",
        "      rep = 11\n",
        "      stats[1][x+y+z-3] += 10\n",
        "     else:\n",
        "      rep=2\n",
        "      sum+=1\n",
        "      target=torch.tensor(0)\n",
        "      stats[0][x+y+z-3] += 1\n",
        "\n",
        "     for i in range(1,rep):\n",
        "        dataset.append(data, target)\n",
        "\n",
        "batch_size = 1\n",
        "dataloader = DataLoader(dataset, batch_size=batch_size, shuffle=False)\n",
        "\n",
        "print(next(iter(dataloader))[1])\n",
        "print(k,sum)\n",
        "print(stats[0])\n",
        "print(stats[1])"
      ]
    },
    {
      "cell_type": "code",
      "execution_count": null,
      "metadata": {
        "colab": {
          "base_uri": "https://localhost:8080/",
          "height": 391
        },
        "id": "dboJp0HTToq0",
        "outputId": "9c9b0ddc-08f6-4d88-a2bc-e5114fac7f6f"
      },
      "outputs": [
        {
          "output_type": "display_data",
          "data": {
            "text/plain": [
              "<Figure size 800x400 with 1 Axes>"
            ],
            "image/png": "[encoded data removed]"
          },
          "metadata": {}
        }
      ],
      "source": [
        "x_label = list()\n",
        "for x in range(3,21):\n",
        "  x_label.append(str(x))\n",
        "\n",
        "plt.figure(figsize=(8, 4))\n",
        "\n",
        "x = np.arange(len(x_label))  # x轴刻度标签位置\n",
        "width = 0.25  # 柱子的宽度\n",
        "# 计算每个柱子在x轴上的位置，保证x轴刻度标签居中\n",
        "# x - width/2，x + width/2即每组数据在x轴上的位置\n",
        "plt.bar(x - width/2, stats[0], width, label='0')\n",
        "plt.bar(x + width/2, stats[1], width, label='1')\n",
        "plt.ylabel('Number')\n",
        "plt.title('Distribution of postive/negative samples across lengths')\n",
        "plt.xticks(x, labels=x_label)\n",
        "plt.legend()\n",
        "plt.title(\"Data Distribution\")\n",
        "plt.savefig(\"./distribution.png\")"
      ]
    },
    {
      "cell_type": "code",
      "execution_count": null,
      "metadata": {
        "colab": {
          "base_uri": "https://localhost:8080/"
        },
        "id": "aC-IibjlZkGC",
        "outputId": "27a9d884-9969-4d26-84c7-6cffac8ac13f"
      },
      "outputs": [
        {
          "output_type": "stream",
          "name": "stdout",
          "text": [
            "torch.Size([17, 3])\n",
            "torch.Size([18, 3])\n",
            "torch.Size([19, 3])\n"
          ]
        }
      ],
      "source": [
        "print(dataset[121][0].shape)\n",
        "print(dataset[122][0].shape)\n",
        "print(dataset[123][0].shape)"
      ]
    },
    {
      "cell_type": "code",
      "execution_count": null,
      "metadata": {
        "id": "9gAIa2dipN20"
      },
      "outputs": [],
      "source": [
        "def train_model(model, train_loader, criterion, optimizer, num_epochs):\n",
        "    for epoch in range(num_epochs):\n",
        "        model.train()\n",
        "        running_loss = 0\n",
        "        for texts, labels in train_loader:\n",
        "            # 前向传播\n",
        "            outputs = model(texts)\n",
        "            loss = criterion(outputs, labels)\n",
        "\n",
        "            # 反向传播和优化\n",
        "            optimizer.zero_grad()\n",
        "            loss.backward()\n",
        "            optimizer.step()\n",
        "\n",
        "            running_loss += loss.item()\n",
        "\n",
        "        print(f'Epoch [{epoch + 1}/{num_epochs}], Loss: {running_loss / len(train_loader):.4f}')"
      ]
    },
    {
      "cell_type": "code",
      "execution_count": null,
      "metadata": {
        "id": "LNSm297ipJW-"
      },
      "outputs": [],
      "source": [
        "def eval_model(model,test_loader):\n",
        "    model.eval()\n",
        "    input = torch.tensor([])\n",
        "    target = torch.tensor([])\n",
        "    accstat = np.zeros((2,18))\n",
        "    sta = np.zeros((2,18))\n",
        "    with torch.no_grad():\n",
        "      for texts, labels in test_loader:\n",
        "          outputs = model(texts)\n",
        "          predicted = torch.argmax(outputs,1)\n",
        "          sta[labels.item()][texts.size(1)-3]+=1\n",
        "          if predicted == labels:\n",
        "            accstat[labels.item()][texts.size(1)-3]+=1\n",
        "          input = torch.cat((input,predicted))\n",
        "          target = torch.cat((target,labels))\n",
        "    input = input.numpy()\n",
        "    target = target.numpy()\n",
        "    accuracy = 100 * (input == target).sum() / len(target)\n",
        "   ## recall = binary_recall(input, target)\n",
        "    f1score = f1_score(y_pred=input,y_true=target)\n",
        "    print(f'Validation Accuracy: {accuracy:.2f}%')\n",
        "    print(f'Validation F1 score: {f1score:.2f}')\n",
        "    #sta里会有爆零的可能\n",
        "    return accstat/sta, accuracy, f1score"
      ]
    },
    {
      "cell_type": "markdown",
      "metadata": {
        "id": "LcS78KZDZaHn"
      },
      "source": [
        "RNN模型建立\n",
        "https://pytorch.org/docs/stable/generated/torch.nn.RNN.html"
      ]
    },
    {
      "cell_type": "code",
      "execution_count": null,
      "metadata": {
        "id": "8S2FiFj_ZZdp"
      },
      "outputs": [],
      "source": [
        "class RNNClassifier(nn.Module):\n",
        "    def __init__(self, nlayers=1, embed_size=3, hidsize=10, bidirect=False, output_size=2):\n",
        "        super(RNNClassifier, self).__init__()\n",
        "        #one-hot编码，字母本身没有额外信息需要学习，所以不需要embedding层??\n",
        "        self.embed = nn.Linear(in_features=embed_size,out_features=hidsize)\n",
        "        self.rnn = nn.RNN(input_size=hidsize, num_layers=nlayers, hidden_size=hidsize, bidirectional=bidirect, batch_first=True)\n",
        "        if bidirect==True:\n",
        "          self.bi=2\n",
        "        else:\n",
        "          self.bi=1\n",
        "        self.fc = nn.Linear(hidsize*self.bi*nlayers,output_size)\n",
        "    def forward(self, x):\n",
        "        x= self.embed(x)\n",
        "        output,h_n = self.rnn(input=x)\n",
        "        h_n = h_n.permute(1,0,2) #这里要小心，即使开了batch_first=True,第一个维度上也不是batch_size，这是pytorch.RNN的设定\n",
        "        h_n = torch.flatten(h_n,start_dim=-2)\n",
        "        out = self.fc(h_n)\n",
        "        return out #注意这里的output没做softmax"
      ]
    },
    {
      "cell_type": "code",
      "execution_count": null,
      "metadata": {
        "colab": {
          "base_uri": "https://localhost:8080/"
        },
        "id": "9Se5u2QJZWW2",
        "outputId": "1a0fb616-332e-4856-f14a-f192b80e01d1"
      },
      "outputs": [
        {
          "output_type": "stream",
          "name": "stdout",
          "text": [
            "torch.Size([6])\n"
          ]
        }
      ],
      "source": [
        "model_rnn = RNNClassifier(hidsize=100, bidirect=True).to(device)\n",
        "criterion_CE = nn.CrossEntropyLoss() #自带softmax\n",
        "optimizer_adam = optim.Adam(model_rnn.parameters(), lr=0.001)\n",
        "\n",
        "x = torch.rand(6,11,3) #(batch_size,seq_len,embed_size)\n",
        "y = model_rnn(x)\n",
        "z = torch.argmax(y,1)\n",
        "print(z.shape)"
      ]
    },
    {
      "cell_type": "code",
      "execution_count": null,
      "metadata": {
        "colab": {
          "base_uri": "https://localhost:8080/"
        },
        "id": "8MeXrZBpjPOB",
        "outputId": "2ad217a5-ead8-432d-d128-9e2a44e88f1e"
      },
      "outputs": [
        {
          "output_type": "stream",
          "name": "stdout",
          "text": [
            "835\n",
            "359\n"
          ]
        }
      ],
      "source": [
        "train_size = int(0.7 * len(dataset))\n",
        "test_size = len(dataset) - train_size\n",
        "train_dataset, test_dataset = random_split(dataset, [train_size, test_size])\n",
        "\n",
        "trainloader = DataLoader(train_dataset, batch_size=1, shuffle=True)\n",
        "testloader = DataLoader(test_dataset, batch_size=1, shuffle=False)\n",
        "\n",
        "print(len(trainloader))\n",
        "print(len(testloader))"
      ]
    },
    {
      "cell_type": "code",
      "execution_count": null,
      "metadata": {
        "colab": {
          "base_uri": "https://localhost:8080/"
        },
        "id": "t-dYEGR6hqwY",
        "outputId": "3a9b9fc5-dca9-4add-e430-8be9d3949576"
      },
      "outputs": [
        {
          "output_type": "stream",
          "name": "stdout",
          "text": [
            "Epoch [1/15], Loss: 0.2128\n",
            "Epoch [2/15], Loss: 0.1886\n",
            "Epoch [3/15], Loss: 0.1919\n",
            "Epoch [4/15], Loss: 0.1747\n",
            "Epoch [5/15], Loss: 0.1513\n",
            "Epoch [6/15], Loss: 0.1517\n",
            "Epoch [7/15], Loss: 0.1345\n",
            "Epoch [8/15], Loss: 0.1038\n",
            "Epoch [9/15], Loss: 0.1009\n",
            "Epoch [10/15], Loss: 0.1227\n",
            "Epoch [11/15], Loss: 0.1227\n",
            "Epoch [12/15], Loss: 0.1147\n",
            "Epoch [13/15], Loss: 0.1111\n",
            "Epoch [14/15], Loss: 0.1099\n",
            "Epoch [15/15], Loss: 0.1013\n"
          ]
        }
      ],
      "source": [
        "# 训练模型\n",
        "train_model(model=model_rnn, train_loader=trainloader, criterion=criterion_CE, optimizer = optimizer_adam, num_epochs=15)\n",
        "# 测试模型\n"
      ]
    },
    {
      "cell_type": "code",
      "execution_count": null,
      "metadata": {
        "colab": {
          "base_uri": "https://localhost:8080/"
        },
        "id": "LO8qW2BxIZ65",
        "outputId": "c69e4b9d-ef4a-40e0-f5a0-f562dd296408"
      },
      "outputs": [
        {
          "output_type": "stream",
          "name": "stdout",
          "text": [
            "Validation Accuracy: 96.38%\n",
            "Validation F1 score: 0.67\n"
          ]
        },
        {
          "output_type": "stream",
          "name": "stderr",
          "text": [
            "<ipython-input-41-80568ad53960>:24: RuntimeWarning: invalid value encountered in divide\n",
            "  return accstat/sta, accuracy, f1score\n"
          ]
        },
        {
          "output_type": "execute_result",
          "data": {
            "text/plain": [
              "(array([[       nan, 1.        , 1.        , 0.        , 1.        ,\n",
              "         1.        , 1.        , 1.        , 1.        , 1.        ,\n",
              "         1.        , 0.95454545, 1.        , 1.        , 1.        ,\n",
              "         0.97826087, 1.        , 0.95348837],\n",
              "        [1.        ,        nan,        nan, 1.        ,        nan,\n",
              "                nan, 0.        ,        nan,        nan, 1.        ,\n",
              "                nan,        nan, 0.        ,        nan,        nan,\n",
              "         1.        ,        nan,        nan]]),\n",
              " 96.37883008356546,\n",
              " 0.6666666666666666)"
            ]
          },
          "metadata": {},
          "execution_count": 106
        }
      ],
      "source": [
        "eval_model(model_rnn,testloader)\n",
        "#torch.save(model_rnn.state_dict(), './model_rnn1.pth')"
      ]
    },
    {
      "cell_type": "markdown",
      "metadata": {
        "id": "hb_DF49wpiOi"
      },
      "source": [
        "LSTM模型\n",
        "https://pytorch.org/docs/stable/generated/torch.nn.LSTM.html"
      ]
    },
    {
      "cell_type": "code",
      "execution_count": null,
      "metadata": {
        "id": "TKVDWVVqphgn"
      },
      "outputs": [],
      "source": [
        "class LSTMClassifier(nn.Module):\n",
        "    def __init__(self, nlayers=1, embed_size=3, hidsize=100, bidirect=False, output_size=2):\n",
        "        super(LSTMClassifier, self).__init__()\n",
        "        self.embed = nn.Linear(in_features=embed_size,out_features=hidsize)\n",
        "        self.lstm = nn.LSTM(input_size=hidsize, num_layers=nlayers, hidden_size=hidsize, bidirectional=bidirect, batch_first=True)\n",
        "        if bidirect==True:\n",
        "          self.bi=2\n",
        "        else:\n",
        "          self.bi=1\n",
        "        self.fc = nn.Linear(hidsize*self.bi*nlayers,output_size)\n",
        "    def forward(self, x):\n",
        "        x = self.embed(x)\n",
        "        output, (h_n, c_n) = self.lstm(input=x)\n",
        "        h_n = h_n.permute(1,0,2) #这里要小心，即使开了batch_first=True,第一个维度上也不是batch_size，这是pytorch.RNN的设定\n",
        "        h_n = torch.flatten(h_n,start_dim=-2)\n",
        "        out = self.fc(h_n)\n",
        "        return out #注意这里的output没做softmax"
      ]
    },
    {
      "cell_type": "code",
      "execution_count": null,
      "metadata": {
        "colab": {
          "base_uri": "https://localhost:8080/"
        },
        "id": "-2XFcu88tCg0",
        "outputId": "7ee483c9-b6d2-412f-a7c2-74bcefbae08f"
      },
      "outputs": [
        {
          "output_type": "stream",
          "name": "stdout",
          "text": [
            "torch.Size([6])\n"
          ]
        }
      ],
      "source": [
        "model_lstm = LSTMClassifier().to(device)\n",
        "criterion_CE = nn.CrossEntropyLoss() #自带softmax\n",
        "optimizer_adam = optim.Adam(model_lstm.parameters(), lr=0.001)\n",
        "\n",
        "x = torch.rand(6,11,3) #(batch_size,seq_len,embed_size)\n",
        "y = model_lstm(x)\n",
        "z = torch.argmax(y,1)\n",
        "print(z.shape)"
      ]
    },
    {
      "cell_type": "code",
      "execution_count": null,
      "metadata": {
        "colab": {
          "base_uri": "https://localhost:8080/"
        },
        "id": "3WI97-PTpCde",
        "outputId": "2fcd6e0a-bff7-46c8-b788-1774f37d9b0e"
      },
      "outputs": [
        {
          "output_type": "stream",
          "name": "stdout",
          "text": [
            "Epoch [1/10], Loss: 0.1995\n",
            "Epoch [2/10], Loss: 0.1791\n",
            "Epoch [3/10], Loss: 0.1598\n",
            "Epoch [4/10], Loss: 0.1486\n",
            "Epoch [5/10], Loss: 0.1244\n",
            "Epoch [6/10], Loss: 0.0756\n",
            "Epoch [7/10], Loss: 0.0500\n",
            "Epoch [8/10], Loss: 0.0325\n",
            "Epoch [9/10], Loss: 0.0149\n",
            "Epoch [10/10], Loss: 0.0596\n"
          ]
        }
      ],
      "source": [
        "train_model(model=model_lstm, train_loader=trainloader, criterion=criterion_CE, optimizer = optimizer_adam, num_epochs=10)\n",
        "# 测试模型"
      ]
    },
    {
      "cell_type": "code",
      "execution_count": null,
      "metadata": {
        "colab": {
          "base_uri": "https://localhost:8080/"
        },
        "id": "649hYRcNJD5-",
        "outputId": "6d1b1ec7-7f88-4502-d721-22b7751a09ae"
      },
      "outputs": [
        {
          "output_type": "stream",
          "name": "stdout",
          "text": [
            "Validation Accuracy: 99.44%\n",
            "Validation F1 score: 0.95\n"
          ]
        },
        {
          "output_type": "stream",
          "name": "stderr",
          "text": [
            "<ipython-input-41-80568ad53960>:24: RuntimeWarning: invalid value encountered in divide\n",
            "  return accstat/sta, accuracy, f1score\n"
          ]
        },
        {
          "output_type": "execute_result",
          "data": {
            "text/plain": [
              "(array([[nan, nan,  1.,  1.,  1.,  1.,  1.,  1.,  1.,  1.,  1.,  1.,  1.,\n",
              "          1.,  1.,  1.,  1.,  1.],\n",
              "        [ 1., nan, nan,  1., nan, nan,  1., nan, nan,  1., nan, nan,  1.,\n",
              "         nan, nan,  0., nan, nan]]),\n",
              " 99.44289693593315,\n",
              " 0.9500000000000001)"
            ]
          },
          "metadata": {},
          "execution_count": 51
        }
      ],
      "source": [
        "eval_model(model_lstm,testloader)"
      ]
    },
    {
      "cell_type": "code",
      "execution_count": null,
      "metadata": {
        "id": "krV-DRxJczzU"
      },
      "outputs": [],
      "source": [
        "torch.save(model_lstm.state_dict(), './model_lstm1.pth')"
      ]
    },
    {
      "cell_type": "code",
      "execution_count": null,
      "metadata": {
        "colab": {
          "base_uri": "https://localhost:8080/"
        },
        "id": "Ybyjq04dY7HP",
        "outputId": "686f8ea4-70cf-47d8-91b3-92304e193164"
      },
      "outputs": [
        {
          "output_type": "stream",
          "name": "stdout",
          "text": [
            "Validation Accuracy: 96.38%\n",
            "Validation F1 score: 0.55\n"
          ]
        },
        {
          "output_type": "stream",
          "name": "stderr",
          "text": [
            "<ipython-input-41-80568ad53960>:24: RuntimeWarning: invalid value encountered in divide\n",
            "  return accstat/sta, accuracy, f1score\n"
          ]
        },
        {
          "output_type": "stream",
          "name": "stdout",
          "text": [
            "Validation Accuracy: 99.44%\n",
            "Validation F1 score: 0.95\n"
          ]
        },
        {
          "output_type": "stream",
          "name": "stderr",
          "text": [
            "<ipython-input-41-80568ad53960>:24: RuntimeWarning: invalid value encountered in divide\n",
            "  return accstat/sta, accuracy, f1score\n"
          ]
        }
      ],
      "source": [
        "#model_rnn.load_state_dict(torch.load(\"./model_rnn1.pth\"))\n",
        "#通过 load_state_dict 函数加载参数，torch.load() 函数中重要的一步是反序列化。\n",
        "#model_lstm.load_state_dict(torch.load(\"./model_lstm1.pth\"))\n",
        "\n",
        "acc_rnn,_,_ = eval_model(model_rnn,testloader)\n",
        "acc_lstm,_,_ = eval_model(model_lstm,testloader)\n",
        "\n"
      ]
    },
    {
      "cell_type": "code",
      "execution_count": null,
      "metadata": {
        "colab": {
          "base_uri": "https://localhost:8080/",
          "height": 391
        },
        "id": "IlHHGSzZaOlQ",
        "outputId": "5813259e-88bf-4df2-a2f6-a901c763e721"
      },
      "outputs": [
        {
          "output_type": "display_data",
          "data": {
            "text/plain": [
              "<Figure size 800x400 with 1 Axes>"
            ],
            "image/png": "[encoded data removed]"
          },
          "metadata": {}
        }
      ],
      "source": [
        "plt.figure(figsize=(8, 4))\n",
        "\n",
        "x = np.arange(len(x_label))  # x轴刻度标签位置\n",
        "width = 0.25  # 柱子的宽度\n",
        "# 计算每个柱子在x轴上的位置，保证x轴刻度标签居中\n",
        "# x - width/2，x + width/2即每组数据在x轴上的位置\n",
        "plt.bar(x - width/2, acc_lstm[0], width, label='True Negative')\n",
        "plt.bar(x + width/2, acc_lstm[1], width, label='True Positive')\n",
        "plt.ylabel('Accuacy')\n",
        "plt.xticks(x, labels=x_label)\n",
        "plt.ylim(0,1.3)\n",
        "plt.legend()\n",
        "plt.title(\"Lstm ACC Distribution\")\n",
        "plt.savefig(\"./lstm_distribution.png\")"
      ]
    },
    {
      "cell_type": "code",
      "execution_count": null,
      "metadata": {
        "colab": {
          "base_uri": "https://localhost:8080/",
          "height": 391
        },
        "id": "suVAK2-siHq4",
        "outputId": "e8df501b-9a99-4da6-e957-8918cb1aa0e2"
      },
      "outputs": [
        {
          "output_type": "display_data",
          "data": {
            "text/plain": [
              "<Figure size 800x400 with 1 Axes>"
            ],
            "image/png": "[encoded data removed]"
          },
          "metadata": {}
        }
      ],
      "source": [
        "plt.figure(figsize=(8, 4))\n",
        "\n",
        "x = np.arange(len(x_label))  # x轴刻度标签位置\n",
        "width = 0.25  # 柱子的宽度\n",
        "# 计算每个柱子在x轴上的位置，保证x轴刻度标签居中\n",
        "# x - width/2，x + width/2即每组数据在x轴上的位置\n",
        "plt.bar(x - width/2, acc_rnn[0], width, label='True Negative')\n",
        "plt.bar(x + width/2, acc_rnn[1], width, label='True Positive')\n",
        "plt.ylabel('Accuracy')\n",
        "plt.title('2 datasets')\n",
        "plt.xticks(x, labels=x_label)\n",
        "plt.ylim(0,1.3)\n",
        "plt.legend()\n",
        "plt.title(\"Rnn ACC Distribution\")\n",
        "plt.savefig(\"./Rnn_distribution.png\")"
      ]
    },
    {
      "cell_type": "markdown",
      "metadata": {
        "id": "NJrsLfzWcb1H"
      },
      "source": [
        "参数优化：是否进行embedding; hidden_size取50，75，100.。。。。"
      ]
    },
    {
      "cell_type": "code",
      "execution_count": null,
      "metadata": {
        "colab": {
          "base_uri": "https://localhost:8080/"
        },
        "id": "PbnM6v__kl-p",
        "outputId": "ac710b43-278e-44b6-9894-0c7ae0ff6932"
      },
      "outputs": [
        {
          "output_type": "stream",
          "name": "stdout",
          "text": [
            "\u001b[2K     \u001b[90m━━━━━━━━━━━━━━━━━━━━━━━━━━━━━━━━━━━━━━━━\u001b[0m \u001b[32m6.7/6.7 MB\u001b[0m \u001b[31m20.1 MB/s\u001b[0m eta \u001b[36m0:00:00\u001b[0m\n",
            "\u001b[2K     \u001b[90m━━━━━━━━━━━━━━━━━━━━━━━━━━━━━━━━━━━━━━━━\u001b[0m \u001b[32m207.3/207.3 kB\u001b[0m \u001b[31m20.2 MB/s\u001b[0m eta \u001b[36m0:00:00\u001b[0m\n",
            "\u001b[2K     \u001b[90m━━━━━━━━━━━━━━━━━━━━━━━━━━━━━━━━━━━━━━━━\u001b[0m \u001b[32m289.0/289.0 kB\u001b[0m \u001b[31m25.2 MB/s\u001b[0m eta \u001b[36m0:00:00\u001b[0m\n",
            "\u001b[2K     \u001b[90m━━━━━━━━━━━━━━━━━━━━━━━━━━━━━━━━━━━━━━━━\u001b[0m \u001b[32m62.7/62.7 kB\u001b[0m \u001b[31m6.6 MB/s\u001b[0m eta \u001b[36m0:00:00\u001b[0m\n",
            "\u001b[?25h"
          ]
        }
      ],
      "source": [
        "!pip install --quiet wandb\n",
        "import wandb"
      ]
    },
    {
      "cell_type": "code",
      "execution_count": null,
      "metadata": {
        "colab": {
          "base_uri": "https://localhost:8080/"
        },
        "id": "jPp2_E50k2m2",
        "outputId": "4a4fea1e-24a6-478f-b188-5b53fe7fd823"
      },
      "outputs": [
        {
          "output_type": "stream",
          "name": "stdout",
          "text": [
            "Create sweep with ID: 0p6m1v2n\n",
            "Sweep URL: https://wandb.ai/adlh5g3/RNN3_sweep/sweeps/0p6m1v2n\n"
          ]
        }
      ],
      "source": [
        "import math\n",
        "sweep_rnn_config = {\n",
        "                'method': 'random',\n",
        "                'metric': {'goal': 'minimize', 'name': 'loss'},\n",
        "                'parameters': {\n",
        "                    'nlayers': {'values':[1,2]},\n",
        "                    'hidsize': {'values':[50,75,100]},\n",
        "                    'bidirect': {'values': [True,False]},\n",
        "                    'epochs': {'values': [10,15,20]}\n",
        "                }\n",
        " }\n",
        "\n",
        "sweep_rnn_id = wandb.sweep(sweep_rnn_config, project=\"RNN3_sweep\")"
      ]
    },
    {
      "cell_type": "code",
      "execution_count": null,
      "metadata": {
        "collapsed": true,
        "id": "BN3CWlVcW3PS"
      },
      "outputs": [],
      "source": [
        "def train_rnn_sweep(config=None):\n",
        "    with wandb.init(project='RNN3_sweep', config=config):\n",
        "        config = wandb.config\n",
        "        net = RNNClassifier(nlayers=config.nlayers, hidsize=config.hidsize, bidirect=config.bidirect)\n",
        "        loss = nn.CrossEntropyLoss() #自带softmax\n",
        "        optimizer = optim.Adam(net.parameters(), lr=0.001)\n",
        "\n",
        "        wandb.watch(net, loss, log=\"all\")\n",
        "\n",
        "        train_model(model=net, train_loader=trainloader, criterion=loss, optimizer = optimizer, num_epochs=config.epochs)\n",
        "\n",
        "        _,acc,f1 = eval_model(model=net, test_loader=testloader)\n",
        "        wandb.log({'f1_val': f1, 'acc_val': acc})\n",
        "        print('Finished Training')\n",
        "\n",
        "wandb.agent(sweep_rnn_id, function=train_rnn_sweep, count=15)"
      ]
    },
    {
      "cell_type": "code",
      "source": [
        "sweep_lstm_config = {\n",
        "                'method': 'random',\n",
        "                'metric': {'goal': 'minimize', 'name': 'loss'},\n",
        "                'parameters': {\n",
        "                    'nlayers': {'values':[1,2]},\n",
        "                    'hidsize': {'values':[50,75,100]},\n",
        "                    'bidirect': {'values': [True,False]},\n",
        "                    'epochs': {'values': [10,15,20]}\n",
        "                }\n",
        " }\n",
        "\n",
        "sweep_lstm_id = wandb.sweep(sweep_lstm_config, project=\"LSTM3_sweep\")\n",
        "def train_lstm_sweep(config=None):\n",
        "    with wandb.init(project='LSTM3_sweep', config=config):\n",
        "        config = wandb.config\n",
        "        net = LSTMClassifier(nlayers=config.nlayers, hidsize=config.hidsize, bidirect=config.bidirect)\n",
        "        loss = nn.CrossEntropyLoss() #自带softmax\n",
        "        optimizer = optim.Adam(net.parameters(), lr=0.001)\n",
        "\n",
        "        wandb.watch(net, loss, log=\"all\")\n",
        "\n",
        "        train_model(model=net, train_loader=trainloader, criterion=loss, optimizer = optimizer, num_epochs=config.epochs)\n",
        "\n",
        "        _,acc,f1 = eval_model(model=net, test_loader=testloader)\n",
        "        wandb.log({'f1_val': f1, 'acc_val': acc})\n",
        "        print('Finished Training')\n",
        "\n",
        "wandb.agent(sweep_lstm_id, function=train_lstm_sweep, count=15)"
      ],
      "metadata": {
        "id": "DAz4Tx1R9w-D"
      },
      "execution_count": null,
      "outputs": []
    },
    {
      "cell_type": "markdown",
      "metadata": {
        "id": "RYFxNKlpcWDG"
      },
      "source": [
        "泛化能力评估：长度21-50"
      ]
    },
    {
      "cell_type": "code",
      "execution_count": null,
      "metadata": {
        "id": "spV_EvpK_0dH"
      },
      "outputs": [],
      "source": [
        "#自定义一个Dataset类，必需包含init, len, getitem\n",
        "class CustomDataset(Dataset):\n",
        "    def __init__(self):\n",
        "        self.data = []\n",
        "        self.targets = []\n",
        "\n",
        "    def __len__(self):\n",
        "        return len(self.data)\n",
        "\n",
        "    def __getitem__(self, index):\n",
        "        return self.data[index], self.targets[index]\n",
        "\n",
        "    def append(self, data, target):\n",
        "        self.data.append(data)\n",
        "        self.targets.append(target)\n"
      ]
    },
    {
      "cell_type": "code",
      "execution_count": null,
      "metadata": {
        "colab": {
          "base_uri": "https://localhost:8080/"
        },
        "id": "bO1m1FrI__g1",
        "outputId": "5970bc48-b157-48fd-8909-f5637bbb87f9"
      },
      "outputs": [
        {
          "output_type": "stream",
          "name": "stdout",
          "text": [
            "18460 10\n",
            "18460\n"
          ]
        }
      ],
      "source": [
        "stats_general = np.zeros((2,30))\n",
        "\n",
        "# 创建自定义数据集对象\n",
        "dataset_general = CustomDataset()\n",
        "sum = 0\n",
        "k=0\n",
        "# 逐个添加数据和标签\n",
        "for x in range(1,50):\n",
        "  for y in range(1,50):\n",
        "    for z in range(1,50):\n",
        "     if x+y+z<21 or x+y+z>50:\n",
        "       continue\n",
        "     input_string = 'a'*x + 'b'*y + 'c'*z\n",
        "     sum+=1\n",
        "     input_array = np.array(list(input_string)).reshape(-1, 1)\n",
        "     #创建并适配 OneHotEncoder\n",
        "     encoder = OneHotEncoder(sparse_output=False)\n",
        "     data = torch.FloatTensor(encoder.fit_transform(input_array))\n",
        "     if x==y and y==z :\n",
        "      target=torch.tensor(1)\n",
        "      k+=1\n",
        "      stats_general[1][x+y+z-21] += 1\n",
        "     else:\n",
        "      target=torch.tensor(0)\n",
        "      stats_general[0][x+y+z-21] += 1\n",
        "\n",
        "     dataset_general.append(data, target)\n",
        "\n",
        "print(sum,k)\n",
        "print(len(dataset_general))"
      ]
    },
    {
      "cell_type": "code",
      "execution_count": null,
      "metadata": {
        "colab": {
          "base_uri": "https://localhost:8080/"
        },
        "id": "X9_FiBjNCN8h",
        "outputId": "1a44e5d3-2b59-4595-b70e-3f79a0375297"
      },
      "outputs": [
        {
          "output_type": "stream",
          "name": "stdout",
          "text": [
            "18460\n"
          ]
        }
      ],
      "source": [
        "# 创建 DataLoader\n",
        "general_dataloader = DataLoader(dataset_general, batch_size=1)\n",
        "\n",
        "print(len(general_dataloader))\n"
      ]
    },
    {
      "cell_type": "code",
      "execution_count": null,
      "metadata": {
        "id": "9zCRmXnPFV01"
      },
      "outputs": [],
      "source": [
        "def eval_general_model(model,test_loader):\n",
        "    model.eval()\n",
        "    input = torch.tensor([])\n",
        "    target = torch.tensor([])\n",
        "    accstat = np.zeros((2,30))\n",
        "    sta = np.zeros((2,30))\n",
        "    with torch.no_grad():\n",
        "      for texts, labels in test_loader:\n",
        "          outputs = model(texts)\n",
        "          predicted = torch.argmax(outputs,1)\n",
        "          sta[labels.item()][texts.size(1)-21]+=1\n",
        "          if predicted == labels:\n",
        "            accstat[labels.item()][texts.size(1)-21]+=1\n",
        "          input = torch.cat((input,predicted))\n",
        "          target = torch.cat((target,labels))\n",
        "    input = input.numpy()\n",
        "    target = target.numpy()\n",
        "    accuracy = 100 * (input == target).sum() / len(target)\n",
        "   ## recall = binary_recall(input, target)\n",
        "    f1score = f1_score(y_pred=input,y_true=target)\n",
        "    #sta里会有爆零的可能\n",
        "    return accstat/sta, accuracy, f1score"
      ]
    },
    {
      "cell_type": "code",
      "execution_count": null,
      "metadata": {
        "colab": {
          "base_uri": "https://localhost:8080/"
        },
        "id": "oapQ85JsDbwE",
        "outputId": "09ab9266-21aa-4b2a-b793-eddceb8f46f6"
      },
      "outputs": [
        {
          "output_type": "stream",
          "name": "stderr",
          "text": [
            "<ipython-input-76-748824fa47ff>:22: RuntimeWarning: invalid value encountered in divide\n",
            "  return accstat/sta, accuracy, f1score\n"
          ]
        }
      ],
      "source": [
        "#model_rnn.load_state_dict(torch.load(\"./model_rnn1.pth\"))\n",
        "#通过 load_state_dict 函数加载参数，torch.load() 函数中重要的一步是反序列化。\n",
        "#model_lstm.load_state_dict(torch.load(\"./model_lstm1.pth\"))\n",
        "\n",
        "acc_rnn,_,_ = eval_general_model(model_rnn,general_dataloader)\n",
        "#acc_lstm,_,_ = eval_general_model(model_lstm,general_dataloader)"
      ]
    },
    {
      "cell_type": "code",
      "execution_count": null,
      "metadata": {
        "id": "_WAGlTquGqUP"
      },
      "outputs": [],
      "source": [
        "x_general_label = list()\n",
        "for x in range(21,51):\n",
        "  x_general_label.append(str(x))"
      ]
    },
    {
      "cell_type": "code",
      "execution_count": null,
      "metadata": {
        "colab": {
          "base_uri": "https://localhost:8080/",
          "height": 266
        },
        "id": "SOGxgjR6Fx0F",
        "outputId": "b1d6f60b-9c88-48a3-f306-b074d6d39cb2"
      },
      "outputs": [
        {
          "output_type": "display_data",
          "data": {
            "text/plain": [
              "<Figure size 1500x400 with 1 Axes>"
            ],
            "image/png": "[encoded data removed]"
          },
          "metadata": {}
        }
      ],
      "source": [
        "plt.figure(figsize=(15, 4))\n",
        "\n",
        "x = np.arange(len(x_general_label))  # x轴刻度标签位置\n",
        "width = 0.25  # 柱子的宽度\n",
        "# 计算每个柱子在x轴上的位置，保证x轴刻度标签居中\n",
        "# x - width/2，x + width/2即每组数据在x轴上的位置\n",
        "plt.bar(x - width/2, acc_lstm[0], width, label='True Negative')\n",
        "plt.bar(x + width/2, acc_lstm[1], width, label='True Positive')\n",
        "plt.ylabel('Accuacy')\n",
        "plt.xticks(x, labels=x_general_label)\n",
        "plt.ylim(0.95,1.05)\n",
        "plt.legend()\n",
        "plt.title(\"Lstm ACC Distribution\")\n",
        "plt.savefig(\"./lstm_general_distribution.png\")"
      ]
    },
    {
      "cell_type": "code",
      "execution_count": null,
      "metadata": {
        "colab": {
          "base_uri": "https://localhost:8080/",
          "height": 266
        },
        "id": "YaOQ_3fyF3i-",
        "outputId": "bb64cc00-bd01-44cd-9f1c-d2db1328f5cc"
      },
      "outputs": [
        {
          "output_type": "display_data",
          "data": {
            "text/plain": [
              "<Figure size 1500x400 with 1 Axes>"
            ],
            "image/png": "[encoded data removed]"
          },
          "metadata": {}
        }
      ],
      "source": [
        "plt.figure(figsize=(15, 4))\n",
        "\n",
        "x = np.arange(len(x_general_label))  # x轴刻度标签位置\n",
        "width = 0.25  # 柱子的宽度\n",
        "# 计算每个柱子在x轴上的位置，保证x轴刻度标签居中\n",
        "# x - width/2，x + width/2即每组数据在x轴上的位置\n",
        "plt.bar(x - width/2, acc_rnn[0], width, label='True Negative')\n",
        "plt.bar(x + width/2, acc_rnn[1], width, label='True Positive')\n",
        "plt.ylabel('Accuracy')\n",
        "plt.xticks(x, labels=x_general_label)\n",
        "plt.ylim(0.95,1.05)\n",
        "plt.legend()\n",
        "plt.title(\"Rnn ACC Distribution\")\n",
        "plt.savefig(\"./Rnn_general_distribution.png\")"
      ]
    },
    {
      "cell_type": "code",
      "execution_count": null,
      "metadata": {
        "colab": {
          "base_uri": "https://localhost:8080/"
        },
        "id": "RaLARSVtv1lW",
        "outputId": "16cd634a-9739-4e29-961f-2b60d6452fc5"
      },
      "outputs": [
        {
          "output_type": "stream",
          "name": "stdout",
          "text": [
            "LSTMClassifier(\n",
            "  (embed): Linear(in_features=3, out_features=100, bias=True)\n",
            "  (lstm): LSTM(100, 100, batch_first=True)\n",
            "  (fc): Linear(in_features=100, out_features=2, bias=True)\n",
            ")\n",
            "RNNClassifier(\n",
            "  (embed): Linear(in_features=3, out_features=100, bias=True)\n",
            "  (rnn): RNN(100, 100, batch_first=True, bidirectional=True)\n",
            "  (fc): Linear(in_features=200, out_features=2, bias=True)\n",
            ")\n"
          ]
        }
      ],
      "source": [
        "print(model_lstm)\n",
        "print(model_rnn)"
      ]
    }
  ],
  "metadata": {
    "colab": {
      "provenance": [],
      "authorship_tag": "ABX9TyMDVNhtUQhorhzYoRpnbyx/",
      "include_colab_link": true
    },
    "kernelspec": {
      "display_name": "Python 3",
      "name": "python3"
    },
    "language_info": {
      "name": "python"
    }
  },
  "nbformat": 4,
  "nbformat_minor": 0
}