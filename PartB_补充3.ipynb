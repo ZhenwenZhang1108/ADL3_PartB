{
  "cells": [
    {
      "cell_type": "markdown",
      "metadata": {
        "id": "view-in-github",
        "colab_type": "text"
      },
      "source": [
        "<a href=\"https://colab.research.google.com/github/ZhenwenZhang1108/ADL3_PartB/blob/main/PartB_%E8%A1%A5%E5%85%853.ipynb\" target=\"_parent\"><img src=\"https://colab.research.google.com/assets/colab-badge.svg\" alt=\"Open In Colab\"/></a>"
      ]
    },
    {
      "cell_type": "code",
      "execution_count": 1,
      "metadata": {
        "id": "RFSzq1InIxrA",
        "colab": {
          "base_uri": "https://localhost:8080/"
        },
        "outputId": "392b4215-60b7-4454-b35a-a3151fdce539"
      },
      "outputs": [
        {
          "output_type": "stream",
          "name": "stdout",
          "text": [
            "Collecting torcheval\n",
            "  Downloading torcheval-0.0.7-py3-none-any.whl (179 kB)\n",
            "\u001b[2K     \u001b[90m━━━━━━━━━━━━━━━━━━━━━━━━━━━━━━━━━━━━━━━━\u001b[0m \u001b[32m179.2/179.2 kB\u001b[0m \u001b[31m3.2 MB/s\u001b[0m eta \u001b[36m0:00:00\u001b[0m\n",
            "\u001b[?25hRequirement already satisfied: typing-extensions in /usr/local/lib/python3.10/dist-packages (from torcheval) (4.11.0)\n",
            "Installing collected packages: torcheval\n",
            "Successfully installed torcheval-0.0.7\n"
          ]
        }
      ],
      "source": [
        "!pip install torcheval"
      ]
    },
    {
      "cell_type": "code",
      "execution_count": 2,
      "metadata": {
        "id": "84ZoJAjZ3NVL",
        "colab": {
          "base_uri": "https://localhost:8080/"
        },
        "outputId": "90990357-3988-46c5-fbc2-aac0e6305762"
      },
      "outputs": [
        {
          "output_type": "stream",
          "name": "stdout",
          "text": [
            "Mounted at /content/drive\n"
          ]
        }
      ],
      "source": [
        "import sklearn\n",
        "from sklearn.metrics import f1_score\n",
        "import torch\n",
        "import torch.nn as nn\n",
        "import torch.utils\n",
        "import torch.optim as optim\n",
        "import torch\n",
        "from torch.utils.data import Dataset,DataLoader,random_split\n",
        "from torchvision import datasets, transforms\n",
        "import numpy as np\n",
        "import matplotlib.pyplot as plt\n",
        "from torch.nn import functional as F\n",
        "from torchvision.datasets.utils import download_url\n",
        "from torch import Tensor\n",
        "from sklearn.preprocessing import OneHotEncoder\n",
        "from torcheval.metrics.functional import multiclass_f1_score\n",
        "from google.colab import drive\n",
        "from torcheval.metrics.functional.classification import binary_recall,multiclass_recall\n",
        "drive.mount('/content/drive')\n"
      ]
    },
    {
      "cell_type": "code",
      "execution_count": 3,
      "metadata": {
        "id": "HVTHNEkV3fcY",
        "colab": {
          "base_uri": "https://localhost:8080/"
        },
        "outputId": "b74198d3-2702-4e05-dea5-f11d03ebcf13"
      },
      "outputs": [
        {
          "output_type": "stream",
          "name": "stdout",
          "text": [
            "['model_lstm1.pth', 'model_rnn1.pth', 'distribution.png', 'lstm_distribution.png', 'Rnn_distribution.png', 'wandb']\n"
          ]
        }
      ],
      "source": [
        "import os\n",
        "path = \"/content/drive/MyDrive/adl3/\"\n",
        "os.chdir(path)\n",
        "print(os.listdir())"
      ]
    },
    {
      "cell_type": "code",
      "execution_count": 4,
      "metadata": {
        "id": "3HIt5eBY4ntO",
        "colab": {
          "base_uri": "https://localhost:8080/"
        },
        "outputId": "0b12cf0f-aba0-468d-9a46-10bf0b33b7a0"
      },
      "outputs": [
        {
          "output_type": "stream",
          "name": "stdout",
          "text": [
            "cpu\n"
          ]
        }
      ],
      "source": [
        "device = 'cuda' if torch.cuda.is_available() else 'cpu'\n",
        "print(device)"
      ]
    },
    {
      "cell_type": "markdown",
      "metadata": {
        "id": "ezhTyJxf3mgW"
      },
      "source": [
        "创建数据库(list存两个各自的数组？一个数组里装x,另一个装y?，还是必须构建x到y的一一对应关系)。\n",
        "为每段序列添加一个标签（打标签的规则是什么？总不能随机打标签吧）。"
      ]
    },
    {
      "cell_type": "markdown",
      "metadata": {
        "id": "iN3QUjvx7Rda"
      },
      "source": [
        "对序列进行编码，abc的话采用One-hot编码应该可以。"
      ]
    },
    {
      "cell_type": "markdown",
      "metadata": {
        "id": "T4HQnqTI3w6X"
      },
      "source": [
        "对序列进行编码，只有abc三个字母的话采用One-hot编码应该可以。是否需要补齐<padding>？"
      ]
    },
    {
      "cell_type": "markdown",
      "metadata": {
        "id": "tJMXAPEiNWVz"
      },
      "source": [
        "如果我们设置batch size=1，那就不需要padding了？？？\n",
        "但如此设置，恐怕挨个挪到GPU上就会很慢了，可能就得在CPU上直接训练？"
      ]
    },
    {
      "cell_type": "code",
      "source": [
        "stats = np.zeros((2,18))\n",
        "print(stats)"
      ],
      "metadata": {
        "colab": {
          "base_uri": "https://localhost:8080/"
        },
        "id": "Jtk_p2jhSPb3",
        "outputId": "c1c7f1bd-c125-4920-e63f-db9301df4a2e"
      },
      "execution_count": null,
      "outputs": [
        {
          "output_type": "stream",
          "name": "stdout",
          "text": [
            "[[0. 0. 0. 0. 0. 0. 0. 0. 0. 0. 0. 0. 0. 0. 0. 0. 0. 0.]\n",
            " [0. 0. 0. 0. 0. 0. 0. 0. 0. 0. 0. 0. 0. 0. 0. 0. 0. 0.]]\n"
          ]
        }
      ]
    },
    {
      "cell_type": "code",
      "execution_count": null,
      "metadata": {
        "id": "oQfuYo3EQwnx",
        "colab": {
          "base_uri": "https://localhost:8080/"
        },
        "outputId": "a911ef72-660e-48e4-f7e8-e849d609eff5"
      },
      "outputs": [
        {
          "output_type": "stream",
          "name": "stdout",
          "text": [
            "tensor([1])\n",
            "258\n",
            "[  0.   0.   0.   6.   6.  12.  18.  24.  30.  42.  48.  60.  72.  84.\n",
            "  96. 114. 126. 144.]\n",
            "[ 1.  3.  6.  4.  9.  9. 10. 12. 15. 13. 18. 18. 19. 21. 24. 22. 27. 27.]\n"
          ]
        }
      ],
      "source": [
        "\n",
        "#自定义一个Dataset类，必需包含init, len, getitem\n",
        "class CustomDataset(Dataset):\n",
        "    def __init__(self):\n",
        "        self.data = []\n",
        "        self.targets = []\n",
        "\n",
        "    def __len__(self):\n",
        "        return len(self.data)\n",
        "\n",
        "    def __getitem__(self, index):\n",
        "        return self.data[index], self.targets[index]\n",
        "\n",
        "    def append(self, data, target):\n",
        "        self.data.append(data)\n",
        "        self.targets.append(target)\n",
        "\n",
        "# 创建自定义数据集对象\n",
        "dataset = CustomDataset()\n",
        "sum = 0\n",
        "k=0\n",
        "# 逐个添加数据和标签\n",
        "for x in range(1,19):\n",
        "  for y in range(1,19):\n",
        "    for z in range(1,19):\n",
        "     if x+y+z>20:\n",
        "       continue\n",
        "     input_string = 'a'*x + 'b'*y + 'c'*z\n",
        "     sum+=1\n",
        "     input_array = np.array(list(input_string)).reshape(-1, 1)\n",
        "     #创建并适配 OneHotEncoder\n",
        "     encoder = OneHotEncoder(sparse_output=False)\n",
        "     data = torch.FloatTensor(encoder.fit_transform(input_array))\n",
        "     if x==y or y==z or x==z :\n",
        "      target=torch.tensor(1)\n",
        "      k+=1\n",
        "      stats[1][x+y+z-3] += 1\n",
        "     else:\n",
        "      target=torch.tensor(0)\n",
        "      stats[0][x+y+z-3] += 1\n",
        "     dataset.append(data, target)\n",
        "\n",
        "batch_size = 1\n",
        "dataloader = DataLoader(dataset, batch_size=batch_size, shuffle=False)\n",
        "\n",
        "print(next(iter(dataloader))[1])\n",
        "print(k)\n",
        "print(stats[0])\n",
        "print(stats[1])"
      ]
    },
    {
      "cell_type": "code",
      "source": [
        "x_label = list()\n",
        "for x in range(3,21):\n",
        "  x_label.append(str(x))\n",
        "\n",
        "plt.figure(figsize=(8, 4))\n",
        "\n",
        "x = np.arange(len(x_label))  # x轴刻度标签位置\n",
        "width = 0.25  # 柱子的宽度\n",
        "# 计算每个柱子在x轴上的位置，保证x轴刻度标签居中\n",
        "# x - width/2，x + width/2即每组数据在x轴上的位置\n",
        "plt.bar(x - width/2, stats[0], width, label='0')\n",
        "plt.bar(x + width/2, stats[1], width, label='1')\n",
        "plt.ylabel('Scores')\n",
        "plt.title('2 datasets')\n",
        "plt.xticks(x, labels=x_label)\n",
        "plt.legend()\n",
        "plt.title(\"Data Distribution\")\n",
        "plt.savefig(\"./distribution.png\")"
      ],
      "metadata": {
        "colab": {
          "base_uri": "https://localhost:8080/",
          "height": 391
        },
        "id": "dboJp0HTToq0",
        "outputId": "c48e509e-8df1-4283-ac98-c11deda34e09"
      },
      "execution_count": null,
      "outputs": [
        {
          "output_type": "display_data",
          "data": {
            "text/plain": [
              "<Figure size 800x400 with 1 Axes>"
            ],
            "image/png": "[encoded data removed]"
          },
          "metadata": {}
        }
      ]
    },
    {
      "cell_type": "code",
      "execution_count": null,
      "metadata": {
        "id": "aC-IibjlZkGC",
        "colab": {
          "base_uri": "https://localhost:8080/"
        },
        "outputId": "2f3f318d-5b64-4afa-c91c-de653d2cbd86"
      },
      "outputs": [
        {
          "output_type": "stream",
          "name": "stdout",
          "text": [
            "torch.Size([14, 3])\n",
            "torch.Size([15, 3])\n",
            "torch.Size([16, 3])\n"
          ]
        }
      ],
      "source": [
        "print(dataset[11][0].shape)\n",
        "print(dataset[12][0].shape)\n",
        "print(dataset[13][0].shape)"
      ]
    },
    {
      "cell_type": "code",
      "execution_count": 22,
      "metadata": {
        "id": "9gAIa2dipN20"
      },
      "outputs": [],
      "source": [
        "def train_model(model, train_loader, criterion, optimizer, num_epochs):\n",
        "    for epoch in range(num_epochs):\n",
        "        model.train()\n",
        "        running_loss = 0\n",
        "        for texts, labels in train_loader:\n",
        "            # 前向传播\n",
        "            outputs = model(texts)\n",
        "            loss = criterion(outputs, labels)\n",
        "\n",
        "            # 反向传播和优化\n",
        "            optimizer.zero_grad()\n",
        "            loss.backward()\n",
        "            optimizer.step()\n",
        "\n",
        "            running_loss += loss.item()\n",
        "\n",
        "        print(f'Epoch [{epoch + 1}/{num_epochs}], Loss: {running_loss / len(train_loader):.4f}')"
      ]
    },
    {
      "cell_type": "code",
      "execution_count": 23,
      "metadata": {
        "id": "LNSm297ipJW-"
      },
      "outputs": [],
      "source": [
        "def eval_model(model,test_loader):\n",
        "    model.eval()\n",
        "    input = torch.tensor([])\n",
        "    target = torch.tensor([])\n",
        "    accstat = np.zeros((2,18))\n",
        "    sta = np.zeros((2,18))\n",
        "    with torch.no_grad():\n",
        "      for texts, labels in test_loader:\n",
        "          outputs = model(texts)\n",
        "          predicted = torch.argmax(outputs,1)\n",
        "          sta[labels.item()][texts.size(1)-3]+=1\n",
        "          if predicted == labels:\n",
        "            accstat[labels.item()][texts.size(1)-3]+=1\n",
        "          input = torch.cat((input,predicted))\n",
        "          target = torch.cat((target,labels))\n",
        "    input = input.numpy()\n",
        "    target = target.numpy()\n",
        "    accuracy = 100 * (input == target).sum() / len(target)\n",
        "   ## recall = binary_recall(input, target)\n",
        "    f1score = f1_score(y_pred=input,y_true=target)\n",
        "    print(f'Validation Accuracy: {accuracy:.2f}%')\n",
        "    print(f'Validation F1 score: {f1score:.2f}')\n",
        "    #sta里会有爆零的可能\n",
        "    return accstat/sta, accuracy, f1score"
      ]
    },
    {
      "cell_type": "markdown",
      "metadata": {
        "id": "LcS78KZDZaHn"
      },
      "source": [
        "RNN模型建立\n",
        "https://pytorch.org/docs/stable/generated/torch.nn.RNN.html"
      ]
    },
    {
      "cell_type": "code",
      "execution_count": 20,
      "metadata": {
        "id": "8S2FiFj_ZZdp"
      },
      "outputs": [],
      "source": [
        "class RNNClassifier(nn.Module):\n",
        "    def __init__(self, nlayers=1, embed_size=3, hidsize=10, bidirect=False, output_size=2):\n",
        "        super(RNNClassifier, self).__init__()\n",
        "        #one-hot编码，字母本身没有额外信息需要学习，所以不需要embedding层??\n",
        "        self.embed = nn.Linear(in_features=embed_size,out_features=hidsize)\n",
        "        self.rnn = nn.RNN(input_size=hidsize, num_layers=nlayers, hidden_size=hidsize, bidirectional=bidirect, batch_first=True)\n",
        "        if bidirect==True:\n",
        "          self.bi=2\n",
        "        else:\n",
        "          self.bi=1\n",
        "        self.fc = nn.Linear(hidsize*self.bi*nlayers,output_size)\n",
        "    def forward(self, x):\n",
        "        x= self.embed(x)\n",
        "        output,h_n = self.rnn(input=x)\n",
        "        h_n = h_n.permute(1,0,2) #这里要小心，即使开了batch_first=True,第一个维度上也不是batch_size，这是pytorch.RNN的设定\n",
        "        h_n = torch.flatten(h_n,start_dim=-2)\n",
        "        out = self.fc(h_n)\n",
        "        return out #注意这里的output没做softmax"
      ]
    },
    {
      "cell_type": "code",
      "execution_count": 24,
      "metadata": {
        "id": "9Se5u2QJZWW2",
        "colab": {
          "base_uri": "https://localhost:8080/"
        },
        "outputId": "bc8615c9-b5a3-4181-838b-4d98a6a59c03"
      },
      "outputs": [
        {
          "output_type": "stream",
          "name": "stdout",
          "text": [
            "torch.Size([6])\n"
          ]
        }
      ],
      "source": [
        "model_rnn = RNNClassifier(hidsize=100, bidirect=True).to(device)\n",
        "criterion_CE = nn.CrossEntropyLoss() #自带softmax\n",
        "optimizer_adam = optim.Adam(model_rnn.parameters(), lr=0.001)\n",
        "\n",
        "x = torch.rand(6,11,3) #(batch_size,seq_len,embed_size)\n",
        "y = model_rnn(x)\n",
        "z = torch.argmax(y,1)\n",
        "print(z.shape)"
      ]
    },
    {
      "cell_type": "code",
      "execution_count": null,
      "metadata": {
        "id": "8MeXrZBpjPOB",
        "colab": {
          "base_uri": "https://localhost:8080/"
        },
        "outputId": "52e8c93e-3794-4138-8332-e7724363d859"
      },
      "outputs": [
        {
          "output_type": "stream",
          "name": "stdout",
          "text": [
            "798\n",
            "342\n"
          ]
        }
      ],
      "source": [
        "train_size = int(0.7 * len(dataset))\n",
        "test_size = len(dataset) - train_size\n",
        "train_dataset, test_dataset = random_split(dataset, [train_size, test_size])\n",
        "\n",
        "trainloader = DataLoader(train_dataset, batch_size=1, shuffle=True)\n",
        "testloader = DataLoader(test_dataset, batch_size=1, shuffle=False)\n",
        "\n",
        "print(len(trainloader))\n",
        "print(len(testloader))"
      ]
    },
    {
      "cell_type": "code",
      "execution_count": null,
      "metadata": {
        "colab": {
          "base_uri": "https://localhost:8080/"
        },
        "id": "t-dYEGR6hqwY",
        "outputId": "3500909c-269b-4066-88f2-be24fb8b9ed1"
      },
      "outputs": [
        {
          "output_type": "stream",
          "name": "stdout",
          "text": [
            "Epoch [1/20], Loss: 0.5743\n",
            "Epoch [2/20], Loss: 0.5297\n",
            "Epoch [3/20], Loss: 0.5201\n",
            "Epoch [4/20], Loss: 0.5081\n",
            "Epoch [5/20], Loss: 0.5037\n",
            "Epoch [6/20], Loss: 0.5061\n",
            "Epoch [7/20], Loss: 0.5096\n",
            "Epoch [8/20], Loss: 0.4979\n",
            "Epoch [9/20], Loss: 0.5164\n",
            "Epoch [10/20], Loss: 0.4931\n",
            "Epoch [11/20], Loss: 0.5244\n",
            "Epoch [12/20], Loss: 0.5320\n",
            "Epoch [13/20], Loss: 0.5181\n",
            "Epoch [14/20], Loss: 0.4710\n",
            "Epoch [15/20], Loss: 0.4809\n",
            "Epoch [16/20], Loss: 0.4604\n",
            "Epoch [17/20], Loss: 0.4311\n",
            "Epoch [18/20], Loss: 0.4221\n",
            "Epoch [19/20], Loss: 0.4227\n",
            "Epoch [20/20], Loss: 0.4238\n"
          ]
        }
      ],
      "source": [
        "# 训练模型\n",
        "train_model(model=model_rnn, train_loader=trainloader, criterion=criterion_CE, optimizer = optimizer_adam, num_epochs=20)\n",
        "# 测试模型\n"
      ]
    },
    {
      "cell_type": "code",
      "execution_count": null,
      "metadata": {
        "colab": {
          "base_uri": "https://localhost:8080/"
        },
        "id": "LO8qW2BxIZ65",
        "outputId": "7c80ac5e-1a6d-4e59-838a-217344dba977"
      },
      "outputs": [
        {
          "output_type": "stream",
          "name": "stdout",
          "text": [
            "Validation Accuracy: 83.33%\n",
            "Validation F1 score: 0.45\n",
            "(342,)\n",
            "(342,)\n"
          ]
        }
      ],
      "source": [
        "eval_model(model_rnn,testloader)\n",
        "torch.save(model_rnn.state_dict(), './model_rnn1.pth')"
      ]
    },
    {
      "cell_type": "markdown",
      "metadata": {
        "id": "hb_DF49wpiOi"
      },
      "source": [
        "LSTM模型\n",
        "https://pytorch.org/docs/stable/generated/torch.nn.LSTM.html"
      ]
    },
    {
      "cell_type": "code",
      "execution_count": 21,
      "metadata": {
        "id": "TKVDWVVqphgn"
      },
      "outputs": [],
      "source": [
        "class LSTMClassifier(nn.Module):\n",
        "    def __init__(self, nlayers=1, embed_size=3, hidsize=100, bidirect=False, output_size=2):\n",
        "        super(LSTMClassifier, self).__init__()\n",
        "        self.embed = nn.Linear(in_features=embed_size,out_features=hidsize)\n",
        "        self.lstm = nn.LSTM(input_size=hidsize, num_layers=nlayers, hidden_size=hidsize, bidirectional=bidirect, batch_first=True)\n",
        "        if bidirect==True:\n",
        "          self.bi=2\n",
        "        else:\n",
        "          self.bi=1\n",
        "        self.fc = nn.Linear(hidsize*self.bi*nlayers,output_size)\n",
        "    def forward(self, x):\n",
        "        x = self.embed(x)\n",
        "        output, (h_n, c_n) = self.lstm(input=x)\n",
        "        h_n = h_n.permute(1,0,2) #这里要小心，即使开了batch_first=True,第一个维度上也不是batch_size，这是pytorch.RNN的设定\n",
        "        h_n = torch.flatten(h_n,start_dim=-2)\n",
        "        out = self.fc(h_n)\n",
        "        return out #注意这里的output没做softmax"
      ]
    },
    {
      "cell_type": "code",
      "execution_count": 25,
      "metadata": {
        "colab": {
          "base_uri": "https://localhost:8080/"
        },
        "id": "-2XFcu88tCg0",
        "outputId": "4c332b64-6ea8-47e3-bcb1-1e988b502691"
      },
      "outputs": [
        {
          "output_type": "stream",
          "name": "stdout",
          "text": [
            "torch.Size([6])\n"
          ]
        }
      ],
      "source": [
        "model_lstm = LSTMClassifier().to(device)\n",
        "criterion_CE = nn.CrossEntropyLoss() #自带softmax\n",
        "optimizer_adam = optim.Adam(model_lstm.parameters(), lr=0.001)\n",
        "\n",
        "x = torch.rand(6,11,3) #(batch_size,seq_len,embed_size)\n",
        "y = model_lstm(x)\n",
        "z = torch.argmax(y,1)\n",
        "print(z.shape)"
      ]
    },
    {
      "cell_type": "code",
      "execution_count": null,
      "metadata": {
        "id": "3WI97-PTpCde",
        "colab": {
          "base_uri": "https://localhost:8080/"
        },
        "outputId": "d87acf98-86ea-4936-a87b-3586a5d273c1"
      },
      "outputs": [
        {
          "output_type": "stream",
          "name": "stdout",
          "text": [
            "Epoch [1/20], Loss: 0.5399\n",
            "Epoch [2/20], Loss: 0.5217\n",
            "Epoch [3/20], Loss: 0.5114\n",
            "Epoch [4/20], Loss: 0.4941\n",
            "Epoch [5/20], Loss: 0.4876\n",
            "Epoch [6/20], Loss: 0.4608\n",
            "Epoch [7/20], Loss: 0.4437\n",
            "Epoch [8/20], Loss: 0.3989\n",
            "Epoch [9/20], Loss: 0.3743\n",
            "Epoch [10/20], Loss: 0.3530\n",
            "Epoch [11/20], Loss: 0.3404\n",
            "Epoch [12/20], Loss: 0.3183\n",
            "Epoch [13/20], Loss: 0.2957\n",
            "Epoch [14/20], Loss: 0.2517\n",
            "Epoch [15/20], Loss: 0.1719\n",
            "Epoch [16/20], Loss: 0.1429\n",
            "Epoch [17/20], Loss: 0.0928\n",
            "Epoch [18/20], Loss: 0.0856\n",
            "Epoch [19/20], Loss: 0.0330\n",
            "Epoch [20/20], Loss: 0.0346\n"
          ]
        }
      ],
      "source": [
        "train_model(model=model_lstm, train_loader=trainloader, criterion=criterion_CE, optimizer = optimizer_adam, num_epochs=20)\n",
        "# 测试模型"
      ]
    },
    {
      "cell_type": "code",
      "execution_count": null,
      "metadata": {
        "colab": {
          "base_uri": "https://localhost:8080/"
        },
        "id": "649hYRcNJD5-",
        "outputId": "90dba546-e423-4767-9cb9-7da49aa47c54"
      },
      "outputs": [
        {
          "output_type": "stream",
          "name": "stdout",
          "text": [
            "Validation Accuracy: 98.54%\n",
            "Validation F1 score: 0.97\n",
            "(342,)\n",
            "(342,)\n"
          ]
        }
      ],
      "source": [
        "eval_model(model_lstm,testloader)"
      ]
    },
    {
      "cell_type": "code",
      "source": [
        "torch.save(model_lstm.state_dict(), './model_lstm1.pth')"
      ],
      "metadata": {
        "id": "krV-DRxJczzU"
      },
      "execution_count": null,
      "outputs": []
    },
    {
      "cell_type": "code",
      "source": [
        "model_rnn.load_state_dict(torch.load(\"./model_rnn1.pth\"))\n",
        "#通过 load_state_dict 函数加载参数，torch.load() 函数中重要的一步是反序列化。\n",
        "model_lstm.load_state_dict(torch.load(\"./model_lstm1.pth\"))\n",
        "\n",
        "acc_rnn,_,_ = eval_model(model_rnn,testloader)\n",
        "acc_lstm,_,_ = eval_model(model_lstm,testloader)\n",
        "\n"
      ],
      "metadata": {
        "colab": {
          "base_uri": "https://localhost:8080/"
        },
        "id": "Ybyjq04dY7HP",
        "outputId": "5d7b0ca3-e7cf-4af1-f39d-17f1c9e57c43"
      },
      "execution_count": null,
      "outputs": [
        {
          "output_type": "stream",
          "name": "stdout",
          "text": [
            "Validation Accuracy: 85.09%\n",
            "Validation F1 score: 0.53\n"
          ]
        },
        {
          "output_type": "stream",
          "name": "stderr",
          "text": [
            "<ipython-input-105-e0d6967d27da>:24: RuntimeWarning: invalid value encountered in divide\n",
            "  return accstat/sta, accuracy, f1score\n"
          ]
        },
        {
          "output_type": "stream",
          "name": "stdout",
          "text": [
            "Validation Accuracy: 99.12%\n",
            "Validation F1 score: 0.98\n"
          ]
        },
        {
          "output_type": "stream",
          "name": "stderr",
          "text": [
            "<ipython-input-105-e0d6967d27da>:24: RuntimeWarning: invalid value encountered in divide\n",
            "  return accstat/sta, accuracy, f1score\n"
          ]
        }
      ]
    },
    {
      "cell_type": "code",
      "source": [
        "plt.figure(figsize=(8, 4))\n",
        "\n",
        "x = np.arange(len(x_label))  # x轴刻度标签位置\n",
        "width = 0.25  # 柱子的宽度\n",
        "# 计算每个柱子在x轴上的位置，保证x轴刻度标签居中\n",
        "# x - width/2，x + width/2即每组数据在x轴上的位置\n",
        "plt.bar(x - width/2, acc_lstm[0], width, label='True Negative')\n",
        "plt.bar(x + width/2, acc_lstm[1], width, label='True Positive')\n",
        "plt.ylabel('Accuacy')\n",
        "plt.title('2 datasets')\n",
        "plt.xticks(x, labels=x_label)\n",
        "plt.ylim(0,1.3)\n",
        "plt.legend()\n",
        "plt.title(\"Lstm ACC Distribution\")\n",
        "plt.savefig(\"./lstm_distribution.png\")"
      ],
      "metadata": {
        "colab": {
          "base_uri": "https://localhost:8080/",
          "height": 391
        },
        "id": "IlHHGSzZaOlQ",
        "outputId": "7d764f85-9596-4d3a-8e25-afa76f5e5ff4"
      },
      "execution_count": null,
      "outputs": [
        {
          "output_type": "display_data",
          "data": {
            "text/plain": [
              "<Figure size 800x400 with 1 Axes>"
            ],
            "image/png": "[encoded data removed]"
          },
          "metadata": {}
        }
      ]
    },
    {
      "cell_type": "code",
      "source": [
        "plt.figure(figsize=(8, 4))\n",
        "\n",
        "x = np.arange(len(x_label))  # x轴刻度标签位置\n",
        "width = 0.25  # 柱子的宽度\n",
        "# 计算每个柱子在x轴上的位置，保证x轴刻度标签居中\n",
        "# x - width/2，x + width/2即每组数据在x轴上的位置\n",
        "plt.bar(x - width/2, acc_rnn[0], width, label='True Negative')\n",
        "plt.bar(x + width/2, acc_rnn[1], width, label='True Positive')\n",
        "plt.ylabel('Accuracy')\n",
        "plt.title('2 datasets')\n",
        "plt.xticks(x, labels=x_label)\n",
        "plt.ylim(0,1.3)\n",
        "plt.legend()\n",
        "plt.title(\"Rnn ACC Distribution\")\n",
        "plt.savefig(\"./Rnn_distribution.png\")"
      ],
      "metadata": {
        "colab": {
          "base_uri": "https://localhost:8080/",
          "height": 391
        },
        "id": "suVAK2-siHq4",
        "outputId": "1c7057c5-9ecf-4207-82cc-60d94ed0ed15"
      },
      "execution_count": null,
      "outputs": [
        {
          "output_type": "display_data",
          "data": {
            "text/plain": [
              "<Figure size 800x400 with 1 Axes>"
            ],
            "image/png": "[encoded data removed]"
          },
          "metadata": {}
        }
      ]
    },
    {
      "cell_type": "markdown",
      "source": [
        "参数优化：是否进行embedding; hidden_size取50，75，100.。。。。"
      ],
      "metadata": {
        "id": "NJrsLfzWcb1H"
      }
    },
    {
      "cell_type": "code",
      "source": [
        "!pip install --quiet wandb\n",
        "import wandb"
      ],
      "metadata": {
        "colab": {
          "base_uri": "https://localhost:8080/"
        },
        "id": "PbnM6v__kl-p",
        "outputId": "360dc891-025f-4046-d2e2-21913a13d386"
      },
      "execution_count": null,
      "outputs": [
        {
          "output_type": "stream",
          "name": "stdout",
          "text": [
            "\u001b[2K     \u001b[90m━━━━━━━━━━━━━━━━━━━━━━━━━━━━━━━━━━━━━━━━\u001b[0m \u001b[32m6.7/6.7 MB\u001b[0m \u001b[31m17.2 MB/s\u001b[0m eta \u001b[36m0:00:00\u001b[0m\n",
            "\u001b[2K     \u001b[90m━━━━━━━━━━━━━━━━━━━━━━━━━━━━━━━━━━━━━━━━\u001b[0m \u001b[32m207.3/207.3 kB\u001b[0m \u001b[31m19.3 MB/s\u001b[0m eta \u001b[36m0:00:00\u001b[0m\n",
            "\u001b[2K     \u001b[90m━━━━━━━━━━━━━━━━━━━━━━━━━━━━━━━━━━━━━━━━\u001b[0m \u001b[32m281.1/281.1 kB\u001b[0m \u001b[31m24.2 MB/s\u001b[0m eta \u001b[36m0:00:00\u001b[0m\n",
            "\u001b[2K     \u001b[90m━━━━━━━━━━━━━━━━━━━━━━━━━━━━━━━━━━━━━━━━\u001b[0m \u001b[32m62.7/62.7 kB\u001b[0m \u001b[31m6.1 MB/s\u001b[0m eta \u001b[36m0:00:00\u001b[0m\n",
            "\u001b[?25h"
          ]
        }
      ]
    },
    {
      "cell_type": "code",
      "source": [
        "import math\n",
        "sweep_rnn_config = {\n",
        "                'method': 'random',\n",
        "                'metric': {'goal': 'minimize', 'name': 'loss'},\n",
        "                'parameters': {\n",
        "                    'nlayers': {'values':[1,2]},\n",
        "                    'hidsize': {'values':[50,75,100]},\n",
        "                    'bidirect': {'values': [True,False]},\n",
        "                    'epochs': {'values': [10,15,20]}\n",
        "                }\n",
        " }\n",
        "\n",
        "sweep_rnn_id = wandb.sweep(sweep_rnn_config, project=\"RNN_sweep\")"
      ],
      "metadata": {
        "colab": {
          "base_uri": "https://localhost:8080/",
          "height": 138
        },
        "id": "jPp2_E50k2m2",
        "outputId": "d7d543e8-67b4-4b25-fe3e-014f8c73880d"
      },
      "execution_count": null,
      "outputs": [
        {
          "output_type": "display_data",
          "data": {
            "text/plain": [
              "<IPython.core.display.Javascript object>"
            ],
            "application/javascript": [
              "\n",
              "        window._wandbApiKey = new Promise((resolve, reject) => {\n",
              "            function loadScript(url) {\n",
              "            return new Promise(function(resolve, reject) {\n",
              "                let newScript = document.createElement(\"script\");\n",
              "                newScript.onerror = reject;\n",
              "                newScript.onload = resolve;\n",
              "                document.body.appendChild(newScript);\n",
              "                newScript.src = url;\n",
              "            });\n",
              "            }\n",
              "            loadScript(\"https://cdn.jsdelivr.net/npm/postmate/build/postmate.min.js\").then(() => {\n",
              "            const iframe = document.createElement('iframe')\n",
              "            iframe.style.cssText = \"width:0;height:0;border:none\"\n",
              "            document.body.appendChild(iframe)\n",
              "            const handshake = new Postmate({\n",
              "                container: iframe,\n",
              "                url: 'https://wandb.ai/authorize'\n",
              "            });\n",
              "            const timeout = setTimeout(() => reject(\"Couldn't auto authenticate\"), 5000)\n",
              "            handshake.then(function(child) {\n",
              "                child.on('authorize', data => {\n",
              "                    clearTimeout(timeout)\n",
              "                    resolve(data)\n",
              "                });\n",
              "            });\n",
              "            })\n",
              "        });\n",
              "    "
            ]
          },
          "metadata": {}
        },
        {
          "output_type": "stream",
          "name": "stderr",
          "text": [
            "\u001b[34m\u001b[1mwandb\u001b[0m: Logging into wandb.ai. (Learn how to deploy a W&B server locally: https://wandb.me/wandb-server)\n",
            "\u001b[34m\u001b[1mwandb\u001b[0m: You can find your API key in your browser here: https://wandb.ai/authorize\n",
            "wandb: Paste an API key from your profile and hit enter, or press ctrl+c to quit:"
          ]
        },
        {
          "name": "stdout",
          "output_type": "stream",
          "text": [
            " ··········\n"
          ]
        },
        {
          "output_type": "stream",
          "name": "stderr",
          "text": [
            "\u001b[34m\u001b[1mwandb\u001b[0m: Appending key for api.wandb.ai to your netrc file: /root/.netrc\n"
          ]
        },
        {
          "output_type": "stream",
          "name": "stdout",
          "text": [
            "Create sweep with ID: xvtv7dy0\n",
            "Sweep URL: https://wandb.ai/adlh5g3/RNN_sweep/sweeps/xvtv7dy0\n"
          ]
        }
      ]
    },
    {
      "cell_type": "code",
      "execution_count": null,
      "metadata": {
        "id": "BN3CWlVcW3PS",
        "colab": {
          "base_uri": "https://localhost:8080/",
          "height": 1000,
          "referenced_widgets": [
            "1e7ff96e9d674e63a62c3f2bca483f16",
            "ad6ef7d376d64a9798c1f671906f5629",
            "0eccc835c61142ada5d1b52542499117",
            "bdda3eb691af4ed6a7965275b2b9aef1",
            "123586d4534740b8987e84a747b1a607",
            "348eaea947b54a6f89602f92c9bcc948",
            "767b1edca9524e6881a1edae2c62dc21",
            "87557269a1ce46d881d327f6709844aa",
            "f680e205f1394cb1833c091192c24be8",
            "75979b666fc04a8eb7e358e17605be11",
            "0ba51afccad5404bbf224e5eeed87ce4",
            "31a94dbf1a154362a014ebcbb9cd20ee",
            "d9570802d18a4bdca20d904469155933",
            "62c8fef5395947d1ac5bc19442426cd2",
            "1f73ea19996d478ba2528e2d39c01e38",
            "87074974bef34e289f5f7db13843d350",
            "94e96e94275e4715a3874ff15ab6e3b4",
            "644dbcdf604e436c83479f37fe23216c",
            "6a40f9fcd9e0480a94b9ac149c826dc2",
            "c3f9ad4923d749a29c21ac010a99e171",
            "bfcb1f71f2194d06ad66570483e423f0",
            "59382f647d9044e4a0035508aaf77d9a",
            "fe36dc1abacb49eda55cbf693e519657",
            "36aa0aeae97049e0aed1295da6ebf415",
            "4beb6e2a9a0a4f8fa7205d5291f23074",
            "eee9921dceea4827a78d326c02881d6c",
            "d503c455edd344939a8a3a4a602abb58",
            "a9d43b0e82724df7b191870b8dd48ff2",
            "efed8dcba79845888d90ca77b5e03a04",
            "8db86510a88141378693e9a70d54b174",
            "3ac8a849ead143d3a14cc612edfae8fe",
            "8d70019dd415434aa6da96f5d88ac769",
            "33cb2d26ff9b4d86a9d331575304a085",
            "f5926bdd752c4280957dc961909ba14f",
            "de2afea924b74759b00b9defa0ee5d24",
            "1a497d5a3dff4eb7bcca10ce584dbccf",
            "a269a2a3cf5d4430a27e288940bf39f0",
            "b2e15dc6f1714e618430805071695cc9",
            "3374ed174a4a42e389d5c803127fe1ac",
            "72809a002b1649b8a0ad77d3d5de1b35",
            "4dd13ed6e4eb45fab83aa622a2f172cc",
            "75b318f8e14440ad914aadd69d5f2f50",
            "74261f4c8a6f4d0ab9e1c6320e7a3949",
            "d9f9fa8a68d74b4db47419e408ff6387",
            "f492d2a4a59e4a1d892dd07d770c0d74",
            "0774176fe8904080b03f8aaffb2b7374",
            "d7307171c5484ec4bc6cfe962f087b6c",
            "b93de814ebd14dd3b8f9576f56a12512",
            "fb647403a7ad47cfa794128cfb370ab8",
            "3006679b67f8496a917ba4b80bd76833",
            "a6b19a952f09495488c11377679c9bc9",
            "d206d8b25d61472b893bf8f4def0485d",
            "921c3c36db34458186eb5996742df241",
            "24ce42ec37ef4dde90290b56c1141b6b",
            "699ece005ea74a7fa3e947868c4c8439",
            "3e89019b50e141ed985669dd22e69da1",
            "090e679dcd0e4314ad9f3dc278fe45c8",
            "89979d973c36486cbfd3b6d05cbdd67f",
            "9093e18a5de548c9a94f880f386aec18",
            "e41ce8c18ccc48d8a4da18f070f4ee15",
            "245034b1124d408ebf8054ae2f14fbaf",
            "33845e112cc643e2a00bf2725cd9535e",
            "ce3bdc6d75f047b1a97c095cd80ffb7f",
            "cdd2896e8b084c5d83ff63190486dcc2",
            "3f7433384e204b9ba9b4880a8f8a1b35",
            "048a9f9ca8fa4022aab2117b5580bee7",
            "0945487d7b974628b487a4d703d3e446",
            "dbbe8c3a35764e7c8bced305f0df7901",
            "8524795f315f45eda70f3170b6cbcf44",
            "4f04df7a5c75467c9a4fe64c6caf7692",
            "d4a331c32aab477595fcb6d6a3ac837b",
            "f9215141bc274474bf600cf7bf4dab5c",
            "52d94d99e6a941c1a5b420c40bebeb27",
            "1d5f54db2fd04384a939889bc465e793",
            "b35316121dda41028458dd66aa4bd989",
            "0cb381016c394d7595e847f5df12ab72",
            "3faacd27c86e42608b9d275aa78d9b0b",
            "66819842e4b54b2d80d65189159ab8dd",
            "23403fc1444245909bb5ec076d007e67",
            "f7839d3cb1574c458a094f68fd794861",
            "784e36604b6a407ca9665ff6bbbe54f6",
            "8f3f317c703a4d3aa2118c3a2750613c",
            "b768411de1da41a49639dd1006f97f0c",
            "037bfbc1c2424f198fc12be20f19a86d",
            "c03087e85b034de4a4181fcb0b05c634",
            "7a34b570b90c4a2784f1a893ec86dd4a",
            "b98250ec286640f2be8ddfc5dcaa2516",
            "d8bee4a431304466b9c9afc7aac39f3f",
            "738822ddda55436a8e5917a9a66aef8b",
            "b29f9272491b4ca4b99c63d49a017468",
            "04977f4ab77f4d688cd87d1934003bb8",
            "a8875fa02ae4442593f6c04bba1dece3",
            "4f39fe56279a400ea8cbfd6e8049d7f7",
            "e211cd7175294c25b25f2f067c615c63",
            "4289e6d80159492f89d0e1afc7c3d524",
            "7e34fb95cc93497faa36280ab77b8b04",
            "f04a8f77efc646d1821ab6b2d4d6f929",
            "58affabc81ff43dda7649174a87211cb",
            "ae9aad0f116b41b0b693a712ce200ea9",
            "be09a7b3704c4d17b6a36d4eadc82fe4",
            "f02e883f9360474fa0a8dacce886655c",
            "bf8747aecc754fdeb427621afa729867",
            "61bbd1e1d42c4bdcae2bfa09dc41389f",
            "b4c613fbb8004dcfb833a22f7d4af640",
            "21cac28df6914d55bcb80478a5f69ccf",
            "775f1cea23b44b0da157b7d84bc406d0",
            "d2d94c1dba934659bd1171be3171f7f3",
            "43e27b55eda6441892b4d1ae21605b69",
            "d2c5239bcbe649399d015ee711424a89",
            "a9d36c49bc0d47d0b079d69a91ca4d88",
            "f81c4b038ae04b3ead2500ebdea253ee",
            "9c5c9ec84f8a498d8759742196bc16d0",
            "31b1d4cf55ff42149dc2041589fcd332",
            "284ea9267a96474ba19e01197d67188d",
            "cd5a66189bfa4bedb635daf252c01379",
            "0c4e58308bb84c90bb54e732b48aa751",
            "1eb8f397cab1409f992000dcba193125",
            "a49bb66ad1fb4579b295ecbc453d628d",
            "982de5c5ad9f4fc8beb711ee4ce0d370",
            "c359698de33742dbb0560183b4e2acb6"
          ]
        },
        "outputId": "aa5d56a2-989a-42c5-b887-63329cb60ce9",
        "collapsed": true
      },
      "outputs": [
        {
          "output_type": "stream",
          "name": "stderr",
          "text": [
            "\u001b[34m\u001b[1mwandb\u001b[0m: Agent Starting Run: cg5klghv with config:\n",
            "\u001b[34m\u001b[1mwandb\u001b[0m: \tbidirect: False\n",
            "\u001b[34m\u001b[1mwandb\u001b[0m: \tepochs: 10\n",
            "\u001b[34m\u001b[1mwandb\u001b[0m: \thidsize: 100\n",
            "\u001b[34m\u001b[1mwandb\u001b[0m: \tnlayers: 2\n",
            "\u001b[34m\u001b[1mwandb\u001b[0m: \u001b[33mWARNING\u001b[0m Ignored wandb.init() arg project when running a sweep.\n"
          ]
        },
        {
          "output_type": "display_data",
          "data": {
            "text/plain": [
              "<IPython.core.display.HTML object>"
            ],
            "text/html": [
              "Tracking run with wandb version 0.17.0"
            ]
          },
          "metadata": {}
        },
        {
          "output_type": "display_data",
          "data": {
            "text/plain": [
              "<IPython.core.display.HTML object>"
            ],
            "text/html": [
              "Run data is saved locally in <code>/content/drive/MyDrive/adl3/wandb/run-20240517_134511-cg5klghv</code>"
            ]
          },
          "metadata": {}
        },
        {
          "output_type": "display_data",
          "data": {
            "text/plain": [
              "<IPython.core.display.HTML object>"
            ],
            "text/html": [
              "Syncing run <strong><a href='https://wandb.ai/adlh5g3/RNN_sweep/runs/cg5klghv' target=\"_blank\">celestial-sweep-14</a></strong> to <a href='https://wandb.ai/adlh5g3/RNN_sweep' target=\"_blank\">Weights & Biases</a> (<a href='https://wandb.me/run' target=\"_blank\">docs</a>)<br/>Sweep page: <a href='https://wandb.ai/adlh5g3/RNN_sweep/sweeps/xvtv7dy0' target=\"_blank\">https://wandb.ai/adlh5g3/RNN_sweep/sweeps/xvtv7dy0</a>"
            ]
          },
          "metadata": {}
        },
        {
          "output_type": "display_data",
          "data": {
            "text/plain": [
              "<IPython.core.display.HTML object>"
            ],
            "text/html": [
              " View project at <a href='https://wandb.ai/adlh5g3/RNN_sweep' target=\"_blank\">https://wandb.ai/adlh5g3/RNN_sweep</a>"
            ]
          },
          "metadata": {}
        },
        {
          "output_type": "display_data",
          "data": {
            "text/plain": [
              "<IPython.core.display.HTML object>"
            ],
            "text/html": [
              " View sweep at <a href='https://wandb.ai/adlh5g3/RNN_sweep/sweeps/xvtv7dy0' target=\"_blank\">https://wandb.ai/adlh5g3/RNN_sweep/sweeps/xvtv7dy0</a>"
            ]
          },
          "metadata": {}
        },
        {
          "output_type": "display_data",
          "data": {
            "text/plain": [
              "<IPython.core.display.HTML object>"
            ],
            "text/html": [
              " View run at <a href='https://wandb.ai/adlh5g3/RNN_sweep/runs/cg5klghv' target=\"_blank\">https://wandb.ai/adlh5g3/RNN_sweep/runs/cg5klghv</a>"
            ]
          },
          "metadata": {}
        },
        {
          "output_type": "stream",
          "name": "stdout",
          "text": [
            "Epoch [1/10], Loss: 0.5659\n",
            "Epoch [2/10], Loss: 0.5795\n",
            "Epoch [3/10], Loss: 0.5709\n",
            "Epoch [4/10], Loss: 0.5530\n",
            "Epoch [5/10], Loss: 0.5620\n",
            "Epoch [6/10], Loss: 0.5672\n",
            "Epoch [7/10], Loss: 0.5625\n",
            "Epoch [8/10], Loss: 0.5841\n",
            "Epoch [9/10], Loss: 0.5591\n",
            "Epoch [10/10], Loss: 0.5695\n",
            "Validation Accuracy: 76.61%\n",
            "Validation F1 score: 0.00\n",
            "Finished Training\n"
          ]
        },
        {
          "output_type": "stream",
          "name": "stderr",
          "text": [
            "<ipython-input-105-e0d6967d27da>:24: RuntimeWarning: invalid value encountered in divide\n",
            "  return accstat/sta, accuracy, f1score\n"
          ]
        },
        {
          "output_type": "display_data",
          "data": {
            "text/plain": [
              "VBox(children=(Label(value='0.001 MB of 0.001 MB uploaded\\r'), FloatProgress(value=1.0, max=1.0)))"
            ],
            "application/vnd.jupyter.widget-view+json": {
              "version_major": 2,
              "version_minor": 0,
              "model_id": "1e7ff96e9d674e63a62c3f2bca483f16"
            }
          },
          "metadata": {}
        },
        {
          "output_type": "display_data",
          "data": {
            "text/plain": [
              "<IPython.core.display.HTML object>"
            ],
            "text/html": [
              "<style>\n",
              "    table.wandb td:nth-child(1) { padding: 0 10px; text-align: left ; width: auto;} td:nth-child(2) {text-align: left ; width: 100%}\n",
              "    .wandb-row { display: flex; flex-direction: row; flex-wrap: wrap; justify-content: flex-start; width: 100% }\n",
              "    .wandb-col { display: flex; flex-direction: column; flex-basis: 100%; flex: 1; padding: 10px; }\n",
              "    </style>\n",
              "<div class=\"wandb-row\"><div class=\"wandb-col\"><h3>Run history:</h3><br/><table class=\"wandb\"><tr><td>acc_val</td><td>▁</td></tr><tr><td>f1_val</td><td>▁</td></tr></table><br/></div><div class=\"wandb-col\"><h3>Run summary:</h3><br/><table class=\"wandb\"><tr><td>acc_val</td><td>76.60819</td></tr><tr><td>f1_val</td><td>0.0</td></tr></table><br/></div></div>"
            ]
          },
          "metadata": {}
        },
        {
          "output_type": "display_data",
          "data": {
            "text/plain": [
              "<IPython.core.display.HTML object>"
            ],
            "text/html": [
              " View run <strong style=\"color:#cdcd00\">celestial-sweep-14</strong> at: <a href='https://wandb.ai/adlh5g3/RNN_sweep/runs/cg5klghv' target=\"_blank\">https://wandb.ai/adlh5g3/RNN_sweep/runs/cg5klghv</a><br/> View project at: <a href='https://wandb.ai/adlh5g3/RNN_sweep' target=\"_blank\">https://wandb.ai/adlh5g3/RNN_sweep</a><br/>Synced 5 W&B file(s), 0 media file(s), 0 artifact file(s) and 0 other file(s)"
            ]
          },
          "metadata": {}
        },
        {
          "output_type": "display_data",
          "data": {
            "text/plain": [
              "<IPython.core.display.HTML object>"
            ],
            "text/html": [
              "Find logs at: <code>./wandb/run-20240517_134511-cg5klghv/logs</code>"
            ]
          },
          "metadata": {}
        },
        {
          "output_type": "stream",
          "name": "stderr",
          "text": [
            "\u001b[34m\u001b[1mwandb\u001b[0m: Agent Starting Run: qmshumhj with config:\n",
            "\u001b[34m\u001b[1mwandb\u001b[0m: \tbidirect: False\n",
            "\u001b[34m\u001b[1mwandb\u001b[0m: \tepochs: 10\n",
            "\u001b[34m\u001b[1mwandb\u001b[0m: \thidsize: 75\n",
            "\u001b[34m\u001b[1mwandb\u001b[0m: \tnlayers: 2\n",
            "\u001b[34m\u001b[1mwandb\u001b[0m: \u001b[33mWARNING\u001b[0m Ignored wandb.init() arg project when running a sweep.\n"
          ]
        },
        {
          "output_type": "display_data",
          "data": {
            "text/plain": [
              "<IPython.core.display.HTML object>"
            ],
            "text/html": [
              "Tracking run with wandb version 0.17.0"
            ]
          },
          "metadata": {}
        },
        {
          "output_type": "display_data",
          "data": {
            "text/plain": [
              "<IPython.core.display.HTML object>"
            ],
            "text/html": [
              "Run data is saved locally in <code>/content/drive/MyDrive/adl3/wandb/run-20240517_134612-qmshumhj</code>"
            ]
          },
          "metadata": {}
        },
        {
          "output_type": "display_data",
          "data": {
            "text/plain": [
              "<IPython.core.display.HTML object>"
            ],
            "text/html": [
              "Syncing run <strong><a href='https://wandb.ai/adlh5g3/RNN_sweep/runs/qmshumhj' target=\"_blank\">ruby-sweep-15</a></strong> to <a href='https://wandb.ai/adlh5g3/RNN_sweep' target=\"_blank\">Weights & Biases</a> (<a href='https://wandb.me/run' target=\"_blank\">docs</a>)<br/>Sweep page: <a href='https://wandb.ai/adlh5g3/RNN_sweep/sweeps/xvtv7dy0' target=\"_blank\">https://wandb.ai/adlh5g3/RNN_sweep/sweeps/xvtv7dy0</a>"
            ]
          },
          "metadata": {}
        },
        {
          "output_type": "display_data",
          "data": {
            "text/plain": [
              "<IPython.core.display.HTML object>"
            ],
            "text/html": [
              " View project at <a href='https://wandb.ai/adlh5g3/RNN_sweep' target=\"_blank\">https://wandb.ai/adlh5g3/RNN_sweep</a>"
            ]
          },
          "metadata": {}
        },
        {
          "output_type": "display_data",
          "data": {
            "text/plain": [
              "<IPython.core.display.HTML object>"
            ],
            "text/html": [
              " View sweep at <a href='https://wandb.ai/adlh5g3/RNN_sweep/sweeps/xvtv7dy0' target=\"_blank\">https://wandb.ai/adlh5g3/RNN_sweep/sweeps/xvtv7dy0</a>"
            ]
          },
          "metadata": {}
        },
        {
          "output_type": "display_data",
          "data": {
            "text/plain": [
              "<IPython.core.display.HTML object>"
            ],
            "text/html": [
              " View run at <a href='https://wandb.ai/adlh5g3/RNN_sweep/runs/qmshumhj' target=\"_blank\">https://wandb.ai/adlh5g3/RNN_sweep/runs/qmshumhj</a>"
            ]
          },
          "metadata": {}
        },
        {
          "output_type": "stream",
          "name": "stdout",
          "text": [
            "Epoch [1/10], Loss: 0.5651\n",
            "Epoch [2/10], Loss: 0.5402\n",
            "Epoch [3/10], Loss: 0.5481\n",
            "Epoch [4/10], Loss: 0.5567\n",
            "Epoch [5/10], Loss: 0.5467\n",
            "Epoch [6/10], Loss: 0.5595\n",
            "Epoch [7/10], Loss: 0.5468\n",
            "Epoch [8/10], Loss: 0.5380\n",
            "Epoch [9/10], Loss: 0.5416\n",
            "Epoch [10/10], Loss: 0.5409\n",
            "Validation Accuracy: 79.24%\n",
            "Validation F1 score: 0.20\n",
            "Finished Training\n"
          ]
        },
        {
          "output_type": "stream",
          "name": "stderr",
          "text": [
            "<ipython-input-105-e0d6967d27da>:24: RuntimeWarning: invalid value encountered in divide\n",
            "  return accstat/sta, accuracy, f1score\n"
          ]
        },
        {
          "output_type": "display_data",
          "data": {
            "text/plain": [
              "VBox(children=(Label(value='0.001 MB of 0.001 MB uploaded\\r'), FloatProgress(value=1.0, max=1.0)))"
            ],
            "application/vnd.jupyter.widget-view+json": {
              "version_major": 2,
              "version_minor": 0,
              "model_id": "f680e205f1394cb1833c091192c24be8"
            }
          },
          "metadata": {}
        },
        {
          "output_type": "display_data",
          "data": {
            "text/plain": [
              "<IPython.core.display.HTML object>"
            ],
            "text/html": [
              "<style>\n",
              "    table.wandb td:nth-child(1) { padding: 0 10px; text-align: left ; width: auto;} td:nth-child(2) {text-align: left ; width: 100%}\n",
              "    .wandb-row { display: flex; flex-direction: row; flex-wrap: wrap; justify-content: flex-start; width: 100% }\n",
              "    .wandb-col { display: flex; flex-direction: column; flex-basis: 100%; flex: 1; padding: 10px; }\n",
              "    </style>\n",
              "<div class=\"wandb-row\"><div class=\"wandb-col\"><h3>Run history:</h3><br/><table class=\"wandb\"><tr><td>acc_val</td><td>▁</td></tr><tr><td>f1_val</td><td>▁</td></tr></table><br/></div><div class=\"wandb-col\"><h3>Run summary:</h3><br/><table class=\"wandb\"><tr><td>acc_val</td><td>79.23977</td></tr><tr><td>f1_val</td><td>0.20225</td></tr></table><br/></div></div>"
            ]
          },
          "metadata": {}
        },
        {
          "output_type": "display_data",
          "data": {
            "text/plain": [
              "<IPython.core.display.HTML object>"
            ],
            "text/html": [
              " View run <strong style=\"color:#cdcd00\">ruby-sweep-15</strong> at: <a href='https://wandb.ai/adlh5g3/RNN_sweep/runs/qmshumhj' target=\"_blank\">https://wandb.ai/adlh5g3/RNN_sweep/runs/qmshumhj</a><br/> View project at: <a href='https://wandb.ai/adlh5g3/RNN_sweep' target=\"_blank\">https://wandb.ai/adlh5g3/RNN_sweep</a><br/>Synced 5 W&B file(s), 0 media file(s), 0 artifact file(s) and 0 other file(s)"
            ]
          },
          "metadata": {}
        },
        {
          "output_type": "display_data",
          "data": {
            "text/plain": [
              "<IPython.core.display.HTML object>"
            ],
            "text/html": [
              "Find logs at: <code>./wandb/run-20240517_134612-qmshumhj/logs</code>"
            ]
          },
          "metadata": {}
        },
        {
          "output_type": "stream",
          "name": "stderr",
          "text": [
            "\u001b[34m\u001b[1mwandb\u001b[0m: Agent Starting Run: 0qu39e9k with config:\n",
            "\u001b[34m\u001b[1mwandb\u001b[0m: \tbidirect: True\n",
            "\u001b[34m\u001b[1mwandb\u001b[0m: \tepochs: 20\n",
            "\u001b[34m\u001b[1mwandb\u001b[0m: \thidsize: 75\n",
            "\u001b[34m\u001b[1mwandb\u001b[0m: \tnlayers: 1\n",
            "\u001b[34m\u001b[1mwandb\u001b[0m: \u001b[33mWARNING\u001b[0m Ignored wandb.init() arg project when running a sweep.\n"
          ]
        },
        {
          "output_type": "display_data",
          "data": {
            "text/plain": [
              "<IPython.core.display.HTML object>"
            ],
            "text/html": [
              "Tracking run with wandb version 0.17.0"
            ]
          },
          "metadata": {}
        },
        {
          "output_type": "display_data",
          "data": {
            "text/plain": [
              "<IPython.core.display.HTML object>"
            ],
            "text/html": [
              "Run data is saved locally in <code>/content/drive/MyDrive/adl3/wandb/run-20240517_134713-0qu39e9k</code>"
            ]
          },
          "metadata": {}
        },
        {
          "output_type": "display_data",
          "data": {
            "text/plain": [
              "<IPython.core.display.HTML object>"
            ],
            "text/html": [
              "Syncing run <strong><a href='https://wandb.ai/adlh5g3/RNN_sweep/runs/0qu39e9k' target=\"_blank\">fresh-sweep-16</a></strong> to <a href='https://wandb.ai/adlh5g3/RNN_sweep' target=\"_blank\">Weights & Biases</a> (<a href='https://wandb.me/run' target=\"_blank\">docs</a>)<br/>Sweep page: <a href='https://wandb.ai/adlh5g3/RNN_sweep/sweeps/xvtv7dy0' target=\"_blank\">https://wandb.ai/adlh5g3/RNN_sweep/sweeps/xvtv7dy0</a>"
            ]
          },
          "metadata": {}
        },
        {
          "output_type": "display_data",
          "data": {
            "text/plain": [
              "<IPython.core.display.HTML object>"
            ],
            "text/html": [
              " View project at <a href='https://wandb.ai/adlh5g3/RNN_sweep' target=\"_blank\">https://wandb.ai/adlh5g3/RNN_sweep</a>"
            ]
          },
          "metadata": {}
        },
        {
          "output_type": "display_data",
          "data": {
            "text/plain": [
              "<IPython.core.display.HTML object>"
            ],
            "text/html": [
              " View sweep at <a href='https://wandb.ai/adlh5g3/RNN_sweep/sweeps/xvtv7dy0' target=\"_blank\">https://wandb.ai/adlh5g3/RNN_sweep/sweeps/xvtv7dy0</a>"
            ]
          },
          "metadata": {}
        },
        {
          "output_type": "display_data",
          "data": {
            "text/plain": [
              "<IPython.core.display.HTML object>"
            ],
            "text/html": [
              " View run at <a href='https://wandb.ai/adlh5g3/RNN_sweep/runs/0qu39e9k' target=\"_blank\">https://wandb.ai/adlh5g3/RNN_sweep/runs/0qu39e9k</a>"
            ]
          },
          "metadata": {}
        },
        {
          "output_type": "stream",
          "name": "stdout",
          "text": [
            "Epoch [1/20], Loss: 0.5500\n",
            "Epoch [2/20], Loss: 0.5474\n",
            "Epoch [3/20], Loss: 0.5347\n",
            "Epoch [4/20], Loss: 0.5302\n",
            "Epoch [5/20], Loss: 0.5298\n",
            "Epoch [6/20], Loss: 0.5338\n",
            "Epoch [7/20], Loss: 0.5273\n",
            "Epoch [8/20], Loss: 0.5362\n",
            "Epoch [9/20], Loss: 0.5747\n",
            "Epoch [10/20], Loss: 0.5257\n",
            "Epoch [11/20], Loss: 0.5319\n",
            "Epoch [12/20], Loss: 0.5216\n",
            "Epoch [13/20], Loss: 0.5531\n",
            "Epoch [14/20], Loss: 0.5283\n",
            "Epoch [15/20], Loss: 0.5357\n",
            "Epoch [16/20], Loss: 0.5246\n",
            "Epoch [17/20], Loss: 0.5333\n",
            "Epoch [18/20], Loss: 0.5344\n",
            "Epoch [19/20], Loss: 0.5250\n",
            "Epoch [20/20], Loss: 0.5264\n",
            "Validation Accuracy: 80.12%\n",
            "Validation F1 score: 0.29\n",
            "Finished Training\n"
          ]
        },
        {
          "output_type": "stream",
          "name": "stderr",
          "text": [
            "<ipython-input-105-e0d6967d27da>:24: RuntimeWarning: invalid value encountered in divide\n",
            "  return accstat/sta, accuracy, f1score\n"
          ]
        },
        {
          "output_type": "display_data",
          "data": {
            "text/plain": [
              "VBox(children=(Label(value='0.001 MB of 0.001 MB uploaded\\r'), FloatProgress(value=1.0, max=1.0)))"
            ],
            "application/vnd.jupyter.widget-view+json": {
              "version_major": 2,
              "version_minor": 0,
              "model_id": "94e96e94275e4715a3874ff15ab6e3b4"
            }
          },
          "metadata": {}
        },
        {
          "output_type": "display_data",
          "data": {
            "text/plain": [
              "<IPython.core.display.HTML object>"
            ],
            "text/html": [
              "<style>\n",
              "    table.wandb td:nth-child(1) { padding: 0 10px; text-align: left ; width: auto;} td:nth-child(2) {text-align: left ; width: 100%}\n",
              "    .wandb-row { display: flex; flex-direction: row; flex-wrap: wrap; justify-content: flex-start; width: 100% }\n",
              "    .wandb-col { display: flex; flex-direction: column; flex-basis: 100%; flex: 1; padding: 10px; }\n",
              "    </style>\n",
              "<div class=\"wandb-row\"><div class=\"wandb-col\"><h3>Run history:</h3><br/><table class=\"wandb\"><tr><td>acc_val</td><td>▁</td></tr><tr><td>f1_val</td><td>▁</td></tr></table><br/></div><div class=\"wandb-col\"><h3>Run summary:</h3><br/><table class=\"wandb\"><tr><td>acc_val</td><td>80.11696</td></tr><tr><td>f1_val</td><td>0.29167</td></tr></table><br/></div></div>"
            ]
          },
          "metadata": {}
        },
        {
          "output_type": "display_data",
          "data": {
            "text/plain": [
              "<IPython.core.display.HTML object>"
            ],
            "text/html": [
              " View run <strong style=\"color:#cdcd00\">fresh-sweep-16</strong> at: <a href='https://wandb.ai/adlh5g3/RNN_sweep/runs/0qu39e9k' target=\"_blank\">https://wandb.ai/adlh5g3/RNN_sweep/runs/0qu39e9k</a><br/> View project at: <a href='https://wandb.ai/adlh5g3/RNN_sweep' target=\"_blank\">https://wandb.ai/adlh5g3/RNN_sweep</a><br/>Synced 5 W&B file(s), 0 media file(s), 0 artifact file(s) and 0 other file(s)"
            ]
          },
          "metadata": {}
        },
        {
          "output_type": "display_data",
          "data": {
            "text/plain": [
              "<IPython.core.display.HTML object>"
            ],
            "text/html": [
              "Find logs at: <code>./wandb/run-20240517_134713-0qu39e9k/logs</code>"
            ]
          },
          "metadata": {}
        },
        {
          "output_type": "stream",
          "name": "stderr",
          "text": [
            "\u001b[34m\u001b[1mwandb\u001b[0m: Agent Starting Run: 7uuwxujq with config:\n",
            "\u001b[34m\u001b[1mwandb\u001b[0m: \tbidirect: False\n",
            "\u001b[34m\u001b[1mwandb\u001b[0m: \tepochs: 15\n",
            "\u001b[34m\u001b[1mwandb\u001b[0m: \thidsize: 75\n",
            "\u001b[34m\u001b[1mwandb\u001b[0m: \tnlayers: 1\n",
            "\u001b[34m\u001b[1mwandb\u001b[0m: \u001b[33mWARNING\u001b[0m Ignored wandb.init() arg project when running a sweep.\n"
          ]
        },
        {
          "output_type": "display_data",
          "data": {
            "text/plain": [
              "<IPython.core.display.HTML object>"
            ],
            "text/html": [
              "Tracking run with wandb version 0.17.0"
            ]
          },
          "metadata": {}
        },
        {
          "output_type": "display_data",
          "data": {
            "text/plain": [
              "<IPython.core.display.HTML object>"
            ],
            "text/html": [
              "Run data is saved locally in <code>/content/drive/MyDrive/adl3/wandb/run-20240517_134904-7uuwxujq</code>"
            ]
          },
          "metadata": {}
        },
        {
          "output_type": "display_data",
          "data": {
            "text/plain": [
              "<IPython.core.display.HTML object>"
            ],
            "text/html": [
              "Syncing run <strong><a href='https://wandb.ai/adlh5g3/RNN_sweep/runs/7uuwxujq' target=\"_blank\">bumbling-sweep-17</a></strong> to <a href='https://wandb.ai/adlh5g3/RNN_sweep' target=\"_blank\">Weights & Biases</a> (<a href='https://wandb.me/run' target=\"_blank\">docs</a>)<br/>Sweep page: <a href='https://wandb.ai/adlh5g3/RNN_sweep/sweeps/xvtv7dy0' target=\"_blank\">https://wandb.ai/adlh5g3/RNN_sweep/sweeps/xvtv7dy0</a>"
            ]
          },
          "metadata": {}
        },
        {
          "output_type": "display_data",
          "data": {
            "text/plain": [
              "<IPython.core.display.HTML object>"
            ],
            "text/html": [
              " View project at <a href='https://wandb.ai/adlh5g3/RNN_sweep' target=\"_blank\">https://wandb.ai/adlh5g3/RNN_sweep</a>"
            ]
          },
          "metadata": {}
        },
        {
          "output_type": "display_data",
          "data": {
            "text/plain": [
              "<IPython.core.display.HTML object>"
            ],
            "text/html": [
              " View sweep at <a href='https://wandb.ai/adlh5g3/RNN_sweep/sweeps/xvtv7dy0' target=\"_blank\">https://wandb.ai/adlh5g3/RNN_sweep/sweeps/xvtv7dy0</a>"
            ]
          },
          "metadata": {}
        },
        {
          "output_type": "display_data",
          "data": {
            "text/plain": [
              "<IPython.core.display.HTML object>"
            ],
            "text/html": [
              " View run at <a href='https://wandb.ai/adlh5g3/RNN_sweep/runs/7uuwxujq' target=\"_blank\">https://wandb.ai/adlh5g3/RNN_sweep/runs/7uuwxujq</a>"
            ]
          },
          "metadata": {}
        },
        {
          "output_type": "stream",
          "name": "stdout",
          "text": [
            "Epoch [1/15], Loss: 0.5466\n",
            "Epoch [2/15], Loss: 0.5471\n",
            "Epoch [3/15], Loss: 0.5351\n",
            "Epoch [4/15], Loss: 0.5266\n",
            "Epoch [5/15], Loss: 0.5275\n",
            "Epoch [6/15], Loss: 0.5241\n",
            "Epoch [7/15], Loss: 0.5181\n",
            "Epoch [8/15], Loss: 0.5249\n",
            "Epoch [9/15], Loss: 0.5207\n",
            "Epoch [10/15], Loss: 0.5248\n",
            "Epoch [11/15], Loss: 0.5143\n",
            "Epoch [12/15], Loss: 0.5023\n",
            "Epoch [13/15], Loss: 0.5148\n",
            "Epoch [14/15], Loss: 0.5375\n",
            "Epoch [15/15], Loss: 0.5242\n",
            "Validation Accuracy: 79.24%\n",
            "Validation F1 score: 0.20\n",
            "Finished Training\n"
          ]
        },
        {
          "output_type": "stream",
          "name": "stderr",
          "text": [
            "<ipython-input-105-e0d6967d27da>:24: RuntimeWarning: invalid value encountered in divide\n",
            "  return accstat/sta, accuracy, f1score\n"
          ]
        },
        {
          "output_type": "display_data",
          "data": {
            "text/plain": [
              "VBox(children=(Label(value='0.001 MB of 0.001 MB uploaded\\r'), FloatProgress(value=1.0, max=1.0)))"
            ],
            "application/vnd.jupyter.widget-view+json": {
              "version_major": 2,
              "version_minor": 0,
              "model_id": "4beb6e2a9a0a4f8fa7205d5291f23074"
            }
          },
          "metadata": {}
        },
        {
          "output_type": "display_data",
          "data": {
            "text/plain": [
              "<IPython.core.display.HTML object>"
            ],
            "text/html": [
              "<style>\n",
              "    table.wandb td:nth-child(1) { padding: 0 10px; text-align: left ; width: auto;} td:nth-child(2) {text-align: left ; width: 100%}\n",
              "    .wandb-row { display: flex; flex-direction: row; flex-wrap: wrap; justify-content: flex-start; width: 100% }\n",
              "    .wandb-col { display: flex; flex-direction: column; flex-basis: 100%; flex: 1; padding: 10px; }\n",
              "    </style>\n",
              "<div class=\"wandb-row\"><div class=\"wandb-col\"><h3>Run history:</h3><br/><table class=\"wandb\"><tr><td>acc_val</td><td>▁</td></tr><tr><td>f1_val</td><td>▁</td></tr></table><br/></div><div class=\"wandb-col\"><h3>Run summary:</h3><br/><table class=\"wandb\"><tr><td>acc_val</td><td>79.23977</td></tr><tr><td>f1_val</td><td>0.20225</td></tr></table><br/></div></div>"
            ]
          },
          "metadata": {}
        },
        {
          "output_type": "display_data",
          "data": {
            "text/plain": [
              "<IPython.core.display.HTML object>"
            ],
            "text/html": [
              " View run <strong style=\"color:#cdcd00\">bumbling-sweep-17</strong> at: <a href='https://wandb.ai/adlh5g3/RNN_sweep/runs/7uuwxujq' target=\"_blank\">https://wandb.ai/adlh5g3/RNN_sweep/runs/7uuwxujq</a><br/> View project at: <a href='https://wandb.ai/adlh5g3/RNN_sweep' target=\"_blank\">https://wandb.ai/adlh5g3/RNN_sweep</a><br/>Synced 5 W&B file(s), 0 media file(s), 0 artifact file(s) and 0 other file(s)"
            ]
          },
          "metadata": {}
        },
        {
          "output_type": "display_data",
          "data": {
            "text/plain": [
              "<IPython.core.display.HTML object>"
            ],
            "text/html": [
              "Find logs at: <code>./wandb/run-20240517_134904-7uuwxujq/logs</code>"
            ]
          },
          "metadata": {}
        },
        {
          "output_type": "stream",
          "name": "stderr",
          "text": [
            "\u001b[34m\u001b[1mwandb\u001b[0m: Agent Starting Run: 74j645w3 with config:\n",
            "\u001b[34m\u001b[1mwandb\u001b[0m: \tbidirect: True\n",
            "\u001b[34m\u001b[1mwandb\u001b[0m: \tepochs: 20\n",
            "\u001b[34m\u001b[1mwandb\u001b[0m: \thidsize: 75\n",
            "\u001b[34m\u001b[1mwandb\u001b[0m: \tnlayers: 2\n",
            "\u001b[34m\u001b[1mwandb\u001b[0m: \u001b[33mWARNING\u001b[0m Ignored wandb.init() arg project when running a sweep.\n"
          ]
        },
        {
          "output_type": "display_data",
          "data": {
            "text/plain": [
              "<IPython.core.display.HTML object>"
            ],
            "text/html": [
              "Tracking run with wandb version 0.17.0"
            ]
          },
          "metadata": {}
        },
        {
          "output_type": "display_data",
          "data": {
            "text/plain": [
              "<IPython.core.display.HTML object>"
            ],
            "text/html": [
              "Run data is saved locally in <code>/content/drive/MyDrive/adl3/wandb/run-20240517_135004-74j645w3</code>"
            ]
          },
          "metadata": {}
        },
        {
          "output_type": "display_data",
          "data": {
            "text/plain": [
              "<IPython.core.display.HTML object>"
            ],
            "text/html": [
              "Syncing run <strong><a href='https://wandb.ai/adlh5g3/RNN_sweep/runs/74j645w3' target=\"_blank\">still-sweep-18</a></strong> to <a href='https://wandb.ai/adlh5g3/RNN_sweep' target=\"_blank\">Weights & Biases</a> (<a href='https://wandb.me/run' target=\"_blank\">docs</a>)<br/>Sweep page: <a href='https://wandb.ai/adlh5g3/RNN_sweep/sweeps/xvtv7dy0' target=\"_blank\">https://wandb.ai/adlh5g3/RNN_sweep/sweeps/xvtv7dy0</a>"
            ]
          },
          "metadata": {}
        },
        {
          "output_type": "display_data",
          "data": {
            "text/plain": [
              "<IPython.core.display.HTML object>"
            ],
            "text/html": [
              " View project at <a href='https://wandb.ai/adlh5g3/RNN_sweep' target=\"_blank\">https://wandb.ai/adlh5g3/RNN_sweep</a>"
            ]
          },
          "metadata": {}
        },
        {
          "output_type": "display_data",
          "data": {
            "text/plain": [
              "<IPython.core.display.HTML object>"
            ],
            "text/html": [
              " View sweep at <a href='https://wandb.ai/adlh5g3/RNN_sweep/sweeps/xvtv7dy0' target=\"_blank\">https://wandb.ai/adlh5g3/RNN_sweep/sweeps/xvtv7dy0</a>"
            ]
          },
          "metadata": {}
        },
        {
          "output_type": "display_data",
          "data": {
            "text/plain": [
              "<IPython.core.display.HTML object>"
            ],
            "text/html": [
              " View run at <a href='https://wandb.ai/adlh5g3/RNN_sweep/runs/74j645w3' target=\"_blank\">https://wandb.ai/adlh5g3/RNN_sweep/runs/74j645w3</a>"
            ]
          },
          "metadata": {}
        },
        {
          "output_type": "stream",
          "name": "stdout",
          "text": [
            "Epoch [1/20], Loss: 0.5677\n",
            "Epoch [2/20], Loss: 0.5488\n",
            "Epoch [3/20], Loss: 0.5644\n",
            "Epoch [4/20], Loss: 0.5652\n",
            "Epoch [5/20], Loss: 0.5456\n",
            "Epoch [6/20], Loss: 0.5461\n",
            "Epoch [7/20], Loss: 0.5435\n",
            "Epoch [8/20], Loss: 0.5524\n",
            "Epoch [9/20], Loss: 0.5561\n",
            "Epoch [10/20], Loss: 0.5519\n",
            "Epoch [11/20], Loss: 0.5461\n",
            "Epoch [12/20], Loss: 0.5622\n",
            "Epoch [13/20], Loss: 0.5368\n",
            "Epoch [14/20], Loss: 0.5350\n",
            "Epoch [15/20], Loss: 0.5276\n",
            "Epoch [16/20], Loss: 0.5423\n",
            "Epoch [17/20], Loss: 0.5198\n",
            "Epoch [18/20], Loss: 0.5025\n",
            "Epoch [19/20], Loss: 0.4979\n",
            "Epoch [20/20], Loss: 0.4747\n",
            "Validation Accuracy: 83.33%\n",
            "Validation F1 score: 0.45\n",
            "Finished Training\n"
          ]
        },
        {
          "output_type": "stream",
          "name": "stderr",
          "text": [
            "<ipython-input-105-e0d6967d27da>:24: RuntimeWarning: invalid value encountered in divide\n",
            "  return accstat/sta, accuracy, f1score\n"
          ]
        },
        {
          "output_type": "display_data",
          "data": {
            "text/plain": [
              "VBox(children=(Label(value='0.001 MB of 0.001 MB uploaded\\r'), FloatProgress(value=1.0, max=1.0)))"
            ],
            "application/vnd.jupyter.widget-view+json": {
              "version_major": 2,
              "version_minor": 0,
              "model_id": "33cb2d26ff9b4d86a9d331575304a085"
            }
          },
          "metadata": {}
        },
        {
          "output_type": "display_data",
          "data": {
            "text/plain": [
              "<IPython.core.display.HTML object>"
            ],
            "text/html": [
              "<style>\n",
              "    table.wandb td:nth-child(1) { padding: 0 10px; text-align: left ; width: auto;} td:nth-child(2) {text-align: left ; width: 100%}\n",
              "    .wandb-row { display: flex; flex-direction: row; flex-wrap: wrap; justify-content: flex-start; width: 100% }\n",
              "    .wandb-col { display: flex; flex-direction: column; flex-basis: 100%; flex: 1; padding: 10px; }\n",
              "    </style>\n",
              "<div class=\"wandb-row\"><div class=\"wandb-col\"><h3>Run history:</h3><br/><table class=\"wandb\"><tr><td>acc_val</td><td>▁</td></tr><tr><td>f1_val</td><td>▁</td></tr></table><br/></div><div class=\"wandb-col\"><h3>Run summary:</h3><br/><table class=\"wandb\"><tr><td>acc_val</td><td>83.33333</td></tr><tr><td>f1_val</td><td>0.4466</td></tr></table><br/></div></div>"
            ]
          },
          "metadata": {}
        },
        {
          "output_type": "display_data",
          "data": {
            "text/plain": [
              "<IPython.core.display.HTML object>"
            ],
            "text/html": [
              " View run <strong style=\"color:#cdcd00\">still-sweep-18</strong> at: <a href='https://wandb.ai/adlh5g3/RNN_sweep/runs/74j645w3' target=\"_blank\">https://wandb.ai/adlh5g3/RNN_sweep/runs/74j645w3</a><br/> View project at: <a href='https://wandb.ai/adlh5g3/RNN_sweep' target=\"_blank\">https://wandb.ai/adlh5g3/RNN_sweep</a><br/>Synced 5 W&B file(s), 0 media file(s), 0 artifact file(s) and 0 other file(s)"
            ]
          },
          "metadata": {}
        },
        {
          "output_type": "display_data",
          "data": {
            "text/plain": [
              "<IPython.core.display.HTML object>"
            ],
            "text/html": [
              "Find logs at: <code>./wandb/run-20240517_135004-74j645w3/logs</code>"
            ]
          },
          "metadata": {}
        },
        {
          "output_type": "stream",
          "name": "stderr",
          "text": [
            "\u001b[34m\u001b[1mwandb\u001b[0m: Agent Starting Run: pbmwvsw2 with config:\n",
            "\u001b[34m\u001b[1mwandb\u001b[0m: \tbidirect: False\n",
            "\u001b[34m\u001b[1mwandb\u001b[0m: \tepochs: 15\n",
            "\u001b[34m\u001b[1mwandb\u001b[0m: \thidsize: 50\n",
            "\u001b[34m\u001b[1mwandb\u001b[0m: \tnlayers: 2\n",
            "\u001b[34m\u001b[1mwandb\u001b[0m: \u001b[33mWARNING\u001b[0m Ignored wandb.init() arg project when running a sweep.\n"
          ]
        },
        {
          "output_type": "display_data",
          "data": {
            "text/plain": [
              "<IPython.core.display.HTML object>"
            ],
            "text/html": [
              "Tracking run with wandb version 0.17.0"
            ]
          },
          "metadata": {}
        },
        {
          "output_type": "display_data",
          "data": {
            "text/plain": [
              "<IPython.core.display.HTML object>"
            ],
            "text/html": [
              "Run data is saved locally in <code>/content/drive/MyDrive/adl3/wandb/run-20240517_135315-pbmwvsw2</code>"
            ]
          },
          "metadata": {}
        },
        {
          "output_type": "display_data",
          "data": {
            "text/plain": [
              "<IPython.core.display.HTML object>"
            ],
            "text/html": [
              "Syncing run <strong><a href='https://wandb.ai/adlh5g3/RNN_sweep/runs/pbmwvsw2' target=\"_blank\">ethereal-sweep-19</a></strong> to <a href='https://wandb.ai/adlh5g3/RNN_sweep' target=\"_blank\">Weights & Biases</a> (<a href='https://wandb.me/run' target=\"_blank\">docs</a>)<br/>Sweep page: <a href='https://wandb.ai/adlh5g3/RNN_sweep/sweeps/xvtv7dy0' target=\"_blank\">https://wandb.ai/adlh5g3/RNN_sweep/sweeps/xvtv7dy0</a>"
            ]
          },
          "metadata": {}
        },
        {
          "output_type": "display_data",
          "data": {
            "text/plain": [
              "<IPython.core.display.HTML object>"
            ],
            "text/html": [
              " View project at <a href='https://wandb.ai/adlh5g3/RNN_sweep' target=\"_blank\">https://wandb.ai/adlh5g3/RNN_sweep</a>"
            ]
          },
          "metadata": {}
        },
        {
          "output_type": "display_data",
          "data": {
            "text/plain": [
              "<IPython.core.display.HTML object>"
            ],
            "text/html": [
              " View sweep at <a href='https://wandb.ai/adlh5g3/RNN_sweep/sweeps/xvtv7dy0' target=\"_blank\">https://wandb.ai/adlh5g3/RNN_sweep/sweeps/xvtv7dy0</a>"
            ]
          },
          "metadata": {}
        },
        {
          "output_type": "display_data",
          "data": {
            "text/plain": [
              "<IPython.core.display.HTML object>"
            ],
            "text/html": [
              " View run at <a href='https://wandb.ai/adlh5g3/RNN_sweep/runs/pbmwvsw2' target=\"_blank\">https://wandb.ai/adlh5g3/RNN_sweep/runs/pbmwvsw2</a>"
            ]
          },
          "metadata": {}
        },
        {
          "output_type": "stream",
          "name": "stdout",
          "text": [
            "Epoch [1/15], Loss: 0.5448\n",
            "Epoch [2/15], Loss: 0.5328\n",
            "Epoch [3/15], Loss: 0.5254\n",
            "Epoch [4/15], Loss: 0.5196\n",
            "Epoch [5/15], Loss: 0.5134\n",
            "Epoch [6/15], Loss: 0.5139\n",
            "Epoch [7/15], Loss: 0.5181\n",
            "Epoch [8/15], Loss: 0.5105\n",
            "Epoch [9/15], Loss: 0.5163\n",
            "Epoch [10/15], Loss: 0.5071\n",
            "Epoch [11/15], Loss: 0.5047\n",
            "Epoch [12/15], Loss: 0.5113\n",
            "Epoch [13/15], Loss: 0.5108\n",
            "Epoch [14/15], Loss: 0.5024\n",
            "Epoch [15/15], Loss: 0.4941\n",
            "Validation Accuracy: 81.58%\n",
            "Validation F1 score: 0.35\n",
            "Finished Training\n"
          ]
        },
        {
          "output_type": "stream",
          "name": "stderr",
          "text": [
            "<ipython-input-105-e0d6967d27da>:24: RuntimeWarning: invalid value encountered in divide\n",
            "  return accstat/sta, accuracy, f1score\n"
          ]
        },
        {
          "output_type": "display_data",
          "data": {
            "text/plain": [
              "VBox(children=(Label(value='0.001 MB of 0.001 MB uploaded\\r'), FloatProgress(value=1.0, max=1.0)))"
            ],
            "application/vnd.jupyter.widget-view+json": {
              "version_major": 2,
              "version_minor": 0,
              "model_id": "4dd13ed6e4eb45fab83aa622a2f172cc"
            }
          },
          "metadata": {}
        },
        {
          "output_type": "display_data",
          "data": {
            "text/plain": [
              "<IPython.core.display.HTML object>"
            ],
            "text/html": [
              "<style>\n",
              "    table.wandb td:nth-child(1) { padding: 0 10px; text-align: left ; width: auto;} td:nth-child(2) {text-align: left ; width: 100%}\n",
              "    .wandb-row { display: flex; flex-direction: row; flex-wrap: wrap; justify-content: flex-start; width: 100% }\n",
              "    .wandb-col { display: flex; flex-direction: column; flex-basis: 100%; flex: 1; padding: 10px; }\n",
              "    </style>\n",
              "<div class=\"wandb-row\"><div class=\"wandb-col\"><h3>Run history:</h3><br/><table class=\"wandb\"><tr><td>acc_val</td><td>▁</td></tr><tr><td>f1_val</td><td>▁</td></tr></table><br/></div><div class=\"wandb-col\"><h3>Run summary:</h3><br/><table class=\"wandb\"><tr><td>acc_val</td><td>81.57895</td></tr><tr><td>f1_val</td><td>0.35052</td></tr></table><br/></div></div>"
            ]
          },
          "metadata": {}
        },
        {
          "output_type": "display_data",
          "data": {
            "text/plain": [
              "<IPython.core.display.HTML object>"
            ],
            "text/html": [
              " View run <strong style=\"color:#cdcd00\">ethereal-sweep-19</strong> at: <a href='https://wandb.ai/adlh5g3/RNN_sweep/runs/pbmwvsw2' target=\"_blank\">https://wandb.ai/adlh5g3/RNN_sweep/runs/pbmwvsw2</a><br/> View project at: <a href='https://wandb.ai/adlh5g3/RNN_sweep' target=\"_blank\">https://wandb.ai/adlh5g3/RNN_sweep</a><br/>Synced 5 W&B file(s), 0 media file(s), 0 artifact file(s) and 0 other file(s)"
            ]
          },
          "metadata": {}
        },
        {
          "output_type": "display_data",
          "data": {
            "text/plain": [
              "<IPython.core.display.HTML object>"
            ],
            "text/html": [
              "Find logs at: <code>./wandb/run-20240517_135315-pbmwvsw2/logs</code>"
            ]
          },
          "metadata": {}
        },
        {
          "output_type": "stream",
          "name": "stderr",
          "text": [
            "\u001b[34m\u001b[1mwandb\u001b[0m: Agent Starting Run: ss339x5z with config:\n",
            "\u001b[34m\u001b[1mwandb\u001b[0m: \tbidirect: False\n",
            "\u001b[34m\u001b[1mwandb\u001b[0m: \tepochs: 20\n",
            "\u001b[34m\u001b[1mwandb\u001b[0m: \thidsize: 100\n",
            "\u001b[34m\u001b[1mwandb\u001b[0m: \tnlayers: 2\n",
            "\u001b[34m\u001b[1mwandb\u001b[0m: \u001b[33mWARNING\u001b[0m Ignored wandb.init() arg project when running a sweep.\n"
          ]
        },
        {
          "output_type": "display_data",
          "data": {
            "text/plain": [
              "<IPython.core.display.HTML object>"
            ],
            "text/html": [
              "Tracking run with wandb version 0.17.0"
            ]
          },
          "metadata": {}
        },
        {
          "output_type": "display_data",
          "data": {
            "text/plain": [
              "<IPython.core.display.HTML object>"
            ],
            "text/html": [
              "Run data is saved locally in <code>/content/drive/MyDrive/adl3/wandb/run-20240517_135440-ss339x5z</code>"
            ]
          },
          "metadata": {}
        },
        {
          "output_type": "display_data",
          "data": {
            "text/plain": [
              "<IPython.core.display.HTML object>"
            ],
            "text/html": [
              "Syncing run <strong><a href='https://wandb.ai/adlh5g3/RNN_sweep/runs/ss339x5z' target=\"_blank\">different-sweep-20</a></strong> to <a href='https://wandb.ai/adlh5g3/RNN_sweep' target=\"_blank\">Weights & Biases</a> (<a href='https://wandb.me/run' target=\"_blank\">docs</a>)<br/>Sweep page: <a href='https://wandb.ai/adlh5g3/RNN_sweep/sweeps/xvtv7dy0' target=\"_blank\">https://wandb.ai/adlh5g3/RNN_sweep/sweeps/xvtv7dy0</a>"
            ]
          },
          "metadata": {}
        },
        {
          "output_type": "display_data",
          "data": {
            "text/plain": [
              "<IPython.core.display.HTML object>"
            ],
            "text/html": [
              " View project at <a href='https://wandb.ai/adlh5g3/RNN_sweep' target=\"_blank\">https://wandb.ai/adlh5g3/RNN_sweep</a>"
            ]
          },
          "metadata": {}
        },
        {
          "output_type": "display_data",
          "data": {
            "text/plain": [
              "<IPython.core.display.HTML object>"
            ],
            "text/html": [
              " View sweep at <a href='https://wandb.ai/adlh5g3/RNN_sweep/sweeps/xvtv7dy0' target=\"_blank\">https://wandb.ai/adlh5g3/RNN_sweep/sweeps/xvtv7dy0</a>"
            ]
          },
          "metadata": {}
        },
        {
          "output_type": "display_data",
          "data": {
            "text/plain": [
              "<IPython.core.display.HTML object>"
            ],
            "text/html": [
              " View run at <a href='https://wandb.ai/adlh5g3/RNN_sweep/runs/ss339x5z' target=\"_blank\">https://wandb.ai/adlh5g3/RNN_sweep/runs/ss339x5z</a>"
            ]
          },
          "metadata": {}
        },
        {
          "output_type": "stream",
          "name": "stdout",
          "text": [
            "Epoch [1/20], Loss: 0.5590\n",
            "Epoch [2/20], Loss: 0.5595\n",
            "Epoch [3/20], Loss: 0.5628\n",
            "Epoch [4/20], Loss: 0.5638\n",
            "Epoch [5/20], Loss: 0.5804\n",
            "Epoch [6/20], Loss: 0.5631\n",
            "Epoch [7/20], Loss: 0.5633\n",
            "Epoch [8/20], Loss: 0.5626\n",
            "Epoch [9/20], Loss: 0.5481\n",
            "Epoch [10/20], Loss: 0.5582\n",
            "Epoch [11/20], Loss: 0.5534\n",
            "Epoch [12/20], Loss: 0.5644\n",
            "Epoch [13/20], Loss: 0.5664\n",
            "Epoch [14/20], Loss: 0.5626\n",
            "Epoch [15/20], Loss: 0.5521\n",
            "Epoch [16/20], Loss: 0.5460\n",
            "Epoch [17/20], Loss: 0.5366\n",
            "Epoch [18/20], Loss: 0.5455\n",
            "Epoch [19/20], Loss: 0.5508\n",
            "Epoch [20/20], Loss: 0.5432\n",
            "Validation Accuracy: 78.36%\n",
            "Validation F1 score: 0.37\n",
            "Finished Training\n"
          ]
        },
        {
          "output_type": "stream",
          "name": "stderr",
          "text": [
            "<ipython-input-105-e0d6967d27da>:24: RuntimeWarning: invalid value encountered in divide\n",
            "  return accstat/sta, accuracy, f1score\n"
          ]
        },
        {
          "output_type": "display_data",
          "data": {
            "text/plain": [
              "VBox(children=(Label(value='0.054 MB of 0.054 MB uploaded\\r'), FloatProgress(value=1.0, max=1.0)))"
            ],
            "application/vnd.jupyter.widget-view+json": {
              "version_major": 2,
              "version_minor": 0,
              "model_id": "fb647403a7ad47cfa794128cfb370ab8"
            }
          },
          "metadata": {}
        },
        {
          "output_type": "display_data",
          "data": {
            "text/plain": [
              "<IPython.core.display.HTML object>"
            ],
            "text/html": [
              "<style>\n",
              "    table.wandb td:nth-child(1) { padding: 0 10px; text-align: left ; width: auto;} td:nth-child(2) {text-align: left ; width: 100%}\n",
              "    .wandb-row { display: flex; flex-direction: row; flex-wrap: wrap; justify-content: flex-start; width: 100% }\n",
              "    .wandb-col { display: flex; flex-direction: column; flex-basis: 100%; flex: 1; padding: 10px; }\n",
              "    </style>\n",
              "<div class=\"wandb-row\"><div class=\"wandb-col\"><h3>Run history:</h3><br/><table class=\"wandb\"><tr><td>acc_val</td><td>▁</td></tr><tr><td>f1_val</td><td>▁</td></tr></table><br/></div><div class=\"wandb-col\"><h3>Run summary:</h3><br/><table class=\"wandb\"><tr><td>acc_val</td><td>78.36257</td></tr><tr><td>f1_val</td><td>0.37288</td></tr></table><br/></div></div>"
            ]
          },
          "metadata": {}
        },
        {
          "output_type": "display_data",
          "data": {
            "text/plain": [
              "<IPython.core.display.HTML object>"
            ],
            "text/html": [
              " View run <strong style=\"color:#cdcd00\">different-sweep-20</strong> at: <a href='https://wandb.ai/adlh5g3/RNN_sweep/runs/ss339x5z' target=\"_blank\">https://wandb.ai/adlh5g3/RNN_sweep/runs/ss339x5z</a><br/> View project at: <a href='https://wandb.ai/adlh5g3/RNN_sweep' target=\"_blank\">https://wandb.ai/adlh5g3/RNN_sweep</a><br/>Synced 5 W&B file(s), 0 media file(s), 0 artifact file(s) and 0 other file(s)"
            ]
          },
          "metadata": {}
        },
        {
          "output_type": "display_data",
          "data": {
            "text/plain": [
              "<IPython.core.display.HTML object>"
            ],
            "text/html": [
              "Find logs at: <code>./wandb/run-20240517_135440-ss339x5z/logs</code>"
            ]
          },
          "metadata": {}
        },
        {
          "output_type": "stream",
          "name": "stderr",
          "text": [
            "\u001b[34m\u001b[1mwandb\u001b[0m: Agent Starting Run: 3e5xgzxr with config:\n",
            "\u001b[34m\u001b[1mwandb\u001b[0m: \tbidirect: True\n",
            "\u001b[34m\u001b[1mwandb\u001b[0m: \tepochs: 15\n",
            "\u001b[34m\u001b[1mwandb\u001b[0m: \thidsize: 100\n",
            "\u001b[34m\u001b[1mwandb\u001b[0m: \tnlayers: 2\n",
            "\u001b[34m\u001b[1mwandb\u001b[0m: \u001b[33mWARNING\u001b[0m Ignored wandb.init() arg project when running a sweep.\n"
          ]
        },
        {
          "output_type": "display_data",
          "data": {
            "text/plain": [
              "<IPython.core.display.HTML object>"
            ],
            "text/html": [
              "Tracking run with wandb version 0.17.0"
            ]
          },
          "metadata": {}
        },
        {
          "output_type": "display_data",
          "data": {
            "text/plain": [
              "<IPython.core.display.HTML object>"
            ],
            "text/html": [
              "Run data is saved locally in <code>/content/drive/MyDrive/adl3/wandb/run-20240517_135632-3e5xgzxr</code>"
            ]
          },
          "metadata": {}
        },
        {
          "output_type": "display_data",
          "data": {
            "text/plain": [
              "<IPython.core.display.HTML object>"
            ],
            "text/html": [
              "Syncing run <strong><a href='https://wandb.ai/adlh5g3/RNN_sweep/runs/3e5xgzxr' target=\"_blank\">pious-sweep-21</a></strong> to <a href='https://wandb.ai/adlh5g3/RNN_sweep' target=\"_blank\">Weights & Biases</a> (<a href='https://wandb.me/run' target=\"_blank\">docs</a>)<br/>Sweep page: <a href='https://wandb.ai/adlh5g3/RNN_sweep/sweeps/xvtv7dy0' target=\"_blank\">https://wandb.ai/adlh5g3/RNN_sweep/sweeps/xvtv7dy0</a>"
            ]
          },
          "metadata": {}
        },
        {
          "output_type": "display_data",
          "data": {
            "text/plain": [
              "<IPython.core.display.HTML object>"
            ],
            "text/html": [
              " View project at <a href='https://wandb.ai/adlh5g3/RNN_sweep' target=\"_blank\">https://wandb.ai/adlh5g3/RNN_sweep</a>"
            ]
          },
          "metadata": {}
        },
        {
          "output_type": "display_data",
          "data": {
            "text/plain": [
              "<IPython.core.display.HTML object>"
            ],
            "text/html": [
              " View sweep at <a href='https://wandb.ai/adlh5g3/RNN_sweep/sweeps/xvtv7dy0' target=\"_blank\">https://wandb.ai/adlh5g3/RNN_sweep/sweeps/xvtv7dy0</a>"
            ]
          },
          "metadata": {}
        },
        {
          "output_type": "display_data",
          "data": {
            "text/plain": [
              "<IPython.core.display.HTML object>"
            ],
            "text/html": [
              " View run at <a href='https://wandb.ai/adlh5g3/RNN_sweep/runs/3e5xgzxr' target=\"_blank\">https://wandb.ai/adlh5g3/RNN_sweep/runs/3e5xgzxr</a>"
            ]
          },
          "metadata": {}
        },
        {
          "output_type": "stream",
          "name": "stdout",
          "text": [
            "Epoch [1/15], Loss: 0.5978\n",
            "Epoch [2/15], Loss: 0.6159\n",
            "Epoch [3/15], Loss: 0.5842\n",
            "Epoch [4/15], Loss: 0.6053\n",
            "Epoch [5/15], Loss: 0.5981\n",
            "Epoch [6/15], Loss: 0.6130\n",
            "Epoch [7/15], Loss: 0.5674\n",
            "Epoch [8/15], Loss: 0.5860\n",
            "Epoch [9/15], Loss: 0.5957\n",
            "Epoch [10/15], Loss: 0.5902\n",
            "Epoch [11/15], Loss: 0.5671\n",
            "Epoch [12/15], Loss: 0.5987\n",
            "Epoch [13/15], Loss: 0.6045\n",
            "Epoch [14/15], Loss: 0.5896\n",
            "Epoch [15/15], Loss: 0.5952\n",
            "Validation Accuracy: 78.36%\n",
            "Validation F1 score: 0.14\n",
            "Finished Training\n"
          ]
        },
        {
          "output_type": "stream",
          "name": "stderr",
          "text": [
            "<ipython-input-105-e0d6967d27da>:24: RuntimeWarning: invalid value encountered in divide\n",
            "  return accstat/sta, accuracy, f1score\n"
          ]
        },
        {
          "output_type": "display_data",
          "data": {
            "text/plain": [
              "VBox(children=(Label(value='0.001 MB of 0.001 MB uploaded\\r'), FloatProgress(value=1.0, max=1.0)))"
            ],
            "application/vnd.jupyter.widget-view+json": {
              "version_major": 2,
              "version_minor": 0,
              "model_id": "090e679dcd0e4314ad9f3dc278fe45c8"
            }
          },
          "metadata": {}
        },
        {
          "output_type": "display_data",
          "data": {
            "text/plain": [
              "<IPython.core.display.HTML object>"
            ],
            "text/html": [
              "<style>\n",
              "    table.wandb td:nth-child(1) { padding: 0 10px; text-align: left ; width: auto;} td:nth-child(2) {text-align: left ; width: 100%}\n",
              "    .wandb-row { display: flex; flex-direction: row; flex-wrap: wrap; justify-content: flex-start; width: 100% }\n",
              "    .wandb-col { display: flex; flex-direction: column; flex-basis: 100%; flex: 1; padding: 10px; }\n",
              "    </style>\n",
              "<div class=\"wandb-row\"><div class=\"wandb-col\"><h3>Run history:</h3><br/><table class=\"wandb\"><tr><td>acc_val</td><td>▁</td></tr><tr><td>f1_val</td><td>▁</td></tr></table><br/></div><div class=\"wandb-col\"><h3>Run summary:</h3><br/><table class=\"wandb\"><tr><td>acc_val</td><td>78.36257</td></tr><tr><td>f1_val</td><td>0.13953</td></tr></table><br/></div></div>"
            ]
          },
          "metadata": {}
        },
        {
          "output_type": "display_data",
          "data": {
            "text/plain": [
              "<IPython.core.display.HTML object>"
            ],
            "text/html": [
              " View run <strong style=\"color:#cdcd00\">pious-sweep-21</strong> at: <a href='https://wandb.ai/adlh5g3/RNN_sweep/runs/3e5xgzxr' target=\"_blank\">https://wandb.ai/adlh5g3/RNN_sweep/runs/3e5xgzxr</a><br/> View project at: <a href='https://wandb.ai/adlh5g3/RNN_sweep' target=\"_blank\">https://wandb.ai/adlh5g3/RNN_sweep</a><br/>Synced 5 W&B file(s), 0 media file(s), 0 artifact file(s) and 0 other file(s)"
            ]
          },
          "metadata": {}
        },
        {
          "output_type": "display_data",
          "data": {
            "text/plain": [
              "<IPython.core.display.HTML object>"
            ],
            "text/html": [
              "Find logs at: <code>./wandb/run-20240517_135632-3e5xgzxr/logs</code>"
            ]
          },
          "metadata": {}
        },
        {
          "output_type": "stream",
          "name": "stderr",
          "text": [
            "\u001b[34m\u001b[1mwandb\u001b[0m: Agent Starting Run: n8mv210q with config:\n",
            "\u001b[34m\u001b[1mwandb\u001b[0m: \tbidirect: True\n",
            "\u001b[34m\u001b[1mwandb\u001b[0m: \tepochs: 20\n",
            "\u001b[34m\u001b[1mwandb\u001b[0m: \thidsize: 50\n",
            "\u001b[34m\u001b[1mwandb\u001b[0m: \tnlayers: 1\n",
            "\u001b[34m\u001b[1mwandb\u001b[0m: \u001b[33mWARNING\u001b[0m Ignored wandb.init() arg project when running a sweep.\n"
          ]
        },
        {
          "output_type": "display_data",
          "data": {
            "text/plain": [
              "<IPython.core.display.HTML object>"
            ],
            "text/html": [
              "Tracking run with wandb version 0.17.0"
            ]
          },
          "metadata": {}
        },
        {
          "output_type": "display_data",
          "data": {
            "text/plain": [
              "<IPython.core.display.HTML object>"
            ],
            "text/html": [
              "Run data is saved locally in <code>/content/drive/MyDrive/adl3/wandb/run-20240517_135903-n8mv210q</code>"
            ]
          },
          "metadata": {}
        },
        {
          "output_type": "display_data",
          "data": {
            "text/plain": [
              "<IPython.core.display.HTML object>"
            ],
            "text/html": [
              "Syncing run <strong><a href='https://wandb.ai/adlh5g3/RNN_sweep/runs/n8mv210q' target=\"_blank\">devoted-sweep-22</a></strong> to <a href='https://wandb.ai/adlh5g3/RNN_sweep' target=\"_blank\">Weights & Biases</a> (<a href='https://wandb.me/run' target=\"_blank\">docs</a>)<br/>Sweep page: <a href='https://wandb.ai/adlh5g3/RNN_sweep/sweeps/xvtv7dy0' target=\"_blank\">https://wandb.ai/adlh5g3/RNN_sweep/sweeps/xvtv7dy0</a>"
            ]
          },
          "metadata": {}
        },
        {
          "output_type": "display_data",
          "data": {
            "text/plain": [
              "<IPython.core.display.HTML object>"
            ],
            "text/html": [
              " View project at <a href='https://wandb.ai/adlh5g3/RNN_sweep' target=\"_blank\">https://wandb.ai/adlh5g3/RNN_sweep</a>"
            ]
          },
          "metadata": {}
        },
        {
          "output_type": "display_data",
          "data": {
            "text/plain": [
              "<IPython.core.display.HTML object>"
            ],
            "text/html": [
              " View sweep at <a href='https://wandb.ai/adlh5g3/RNN_sweep/sweeps/xvtv7dy0' target=\"_blank\">https://wandb.ai/adlh5g3/RNN_sweep/sweeps/xvtv7dy0</a>"
            ]
          },
          "metadata": {}
        },
        {
          "output_type": "display_data",
          "data": {
            "text/plain": [
              "<IPython.core.display.HTML object>"
            ],
            "text/html": [
              " View run at <a href='https://wandb.ai/adlh5g3/RNN_sweep/runs/n8mv210q' target=\"_blank\">https://wandb.ai/adlh5g3/RNN_sweep/runs/n8mv210q</a>"
            ]
          },
          "metadata": {}
        },
        {
          "output_type": "stream",
          "name": "stdout",
          "text": [
            "Epoch [1/20], Loss: 0.5430\n",
            "Epoch [2/20], Loss: 0.5270\n",
            "Epoch [3/20], Loss: 0.5183\n",
            "Epoch [4/20], Loss: 0.5014\n",
            "Epoch [5/20], Loss: 0.5091\n",
            "Epoch [6/20], Loss: 0.5223\n",
            "Epoch [7/20], Loss: 0.5350\n",
            "Epoch [8/20], Loss: 0.5269\n",
            "Epoch [9/20], Loss: 0.5143\n",
            "Epoch [10/20], Loss: 0.5048\n",
            "Epoch [11/20], Loss: 0.4894\n",
            "Epoch [12/20], Loss: 0.4708\n",
            "Epoch [13/20], Loss: 0.4814\n",
            "Epoch [14/20], Loss: 0.4668\n",
            "Epoch [15/20], Loss: 0.4563\n",
            "Epoch [16/20], Loss: 0.4438\n",
            "Epoch [17/20], Loss: 0.4201\n",
            "Epoch [18/20], Loss: 0.4598\n",
            "Epoch [19/20], Loss: 0.4554\n",
            "Epoch [20/20], Loss: 0.4267\n",
            "Validation Accuracy: 85.96%\n",
            "Validation F1 score: 0.59\n",
            "Finished Training\n"
          ]
        },
        {
          "output_type": "stream",
          "name": "stderr",
          "text": [
            "<ipython-input-105-e0d6967d27da>:24: RuntimeWarning: invalid value encountered in divide\n",
            "  return accstat/sta, accuracy, f1score\n"
          ]
        },
        {
          "output_type": "display_data",
          "data": {
            "text/plain": [
              "VBox(children=(Label(value='0.001 MB of 0.001 MB uploaded\\r'), FloatProgress(value=1.0, max=1.0)))"
            ],
            "application/vnd.jupyter.widget-view+json": {
              "version_major": 2,
              "version_minor": 0,
              "model_id": "3f7433384e204b9ba9b4880a8f8a1b35"
            }
          },
          "metadata": {}
        },
        {
          "output_type": "display_data",
          "data": {
            "text/plain": [
              "<IPython.core.display.HTML object>"
            ],
            "text/html": [
              "<style>\n",
              "    table.wandb td:nth-child(1) { padding: 0 10px; text-align: left ; width: auto;} td:nth-child(2) {text-align: left ; width: 100%}\n",
              "    .wandb-row { display: flex; flex-direction: row; flex-wrap: wrap; justify-content: flex-start; width: 100% }\n",
              "    .wandb-col { display: flex; flex-direction: column; flex-basis: 100%; flex: 1; padding: 10px; }\n",
              "    </style>\n",
              "<div class=\"wandb-row\"><div class=\"wandb-col\"><h3>Run history:</h3><br/><table class=\"wandb\"><tr><td>acc_val</td><td>▁</td></tr><tr><td>f1_val</td><td>▁</td></tr></table><br/></div><div class=\"wandb-col\"><h3>Run summary:</h3><br/><table class=\"wandb\"><tr><td>acc_val</td><td>85.96491</td></tr><tr><td>f1_val</td><td>0.58621</td></tr></table><br/></div></div>"
            ]
          },
          "metadata": {}
        },
        {
          "output_type": "display_data",
          "data": {
            "text/plain": [
              "<IPython.core.display.HTML object>"
            ],
            "text/html": [
              " View run <strong style=\"color:#cdcd00\">devoted-sweep-22</strong> at: <a href='https://wandb.ai/adlh5g3/RNN_sweep/runs/n8mv210q' target=\"_blank\">https://wandb.ai/adlh5g3/RNN_sweep/runs/n8mv210q</a><br/> View project at: <a href='https://wandb.ai/adlh5g3/RNN_sweep' target=\"_blank\">https://wandb.ai/adlh5g3/RNN_sweep</a><br/>Synced 5 W&B file(s), 0 media file(s), 0 artifact file(s) and 0 other file(s)"
            ]
          },
          "metadata": {}
        },
        {
          "output_type": "display_data",
          "data": {
            "text/plain": [
              "<IPython.core.display.HTML object>"
            ],
            "text/html": [
              "Find logs at: <code>./wandb/run-20240517_135903-n8mv210q/logs</code>"
            ]
          },
          "metadata": {}
        },
        {
          "output_type": "stream",
          "name": "stderr",
          "text": [
            "\u001b[34m\u001b[1mwandb\u001b[0m: Agent Starting Run: xi16jxeg with config:\n",
            "\u001b[34m\u001b[1mwandb\u001b[0m: \tbidirect: True\n",
            "\u001b[34m\u001b[1mwandb\u001b[0m: \tepochs: 15\n",
            "\u001b[34m\u001b[1mwandb\u001b[0m: \thidsize: 75\n",
            "\u001b[34m\u001b[1mwandb\u001b[0m: \tnlayers: 2\n",
            "\u001b[34m\u001b[1mwandb\u001b[0m: \u001b[33mWARNING\u001b[0m Ignored wandb.init() arg project when running a sweep.\n"
          ]
        },
        {
          "output_type": "display_data",
          "data": {
            "text/plain": [
              "<IPython.core.display.HTML object>"
            ],
            "text/html": [
              "Tracking run with wandb version 0.17.0"
            ]
          },
          "metadata": {}
        },
        {
          "output_type": "display_data",
          "data": {
            "text/plain": [
              "<IPython.core.display.HTML object>"
            ],
            "text/html": [
              "Run data is saved locally in <code>/content/drive/MyDrive/adl3/wandb/run-20240517_140049-xi16jxeg</code>"
            ]
          },
          "metadata": {}
        },
        {
          "output_type": "display_data",
          "data": {
            "text/plain": [
              "<IPython.core.display.HTML object>"
            ],
            "text/html": [
              "Syncing run <strong><a href='https://wandb.ai/adlh5g3/RNN_sweep/runs/xi16jxeg' target=\"_blank\">charmed-sweep-23</a></strong> to <a href='https://wandb.ai/adlh5g3/RNN_sweep' target=\"_blank\">Weights & Biases</a> (<a href='https://wandb.me/run' target=\"_blank\">docs</a>)<br/>Sweep page: <a href='https://wandb.ai/adlh5g3/RNN_sweep/sweeps/xvtv7dy0' target=\"_blank\">https://wandb.ai/adlh5g3/RNN_sweep/sweeps/xvtv7dy0</a>"
            ]
          },
          "metadata": {}
        },
        {
          "output_type": "display_data",
          "data": {
            "text/plain": [
              "<IPython.core.display.HTML object>"
            ],
            "text/html": [
              " View project at <a href='https://wandb.ai/adlh5g3/RNN_sweep' target=\"_blank\">https://wandb.ai/adlh5g3/RNN_sweep</a>"
            ]
          },
          "metadata": {}
        },
        {
          "output_type": "display_data",
          "data": {
            "text/plain": [
              "<IPython.core.display.HTML object>"
            ],
            "text/html": [
              " View sweep at <a href='https://wandb.ai/adlh5g3/RNN_sweep/sweeps/xvtv7dy0' target=\"_blank\">https://wandb.ai/adlh5g3/RNN_sweep/sweeps/xvtv7dy0</a>"
            ]
          },
          "metadata": {}
        },
        {
          "output_type": "display_data",
          "data": {
            "text/plain": [
              "<IPython.core.display.HTML object>"
            ],
            "text/html": [
              " View run at <a href='https://wandb.ai/adlh5g3/RNN_sweep/runs/xi16jxeg' target=\"_blank\">https://wandb.ai/adlh5g3/RNN_sweep/runs/xi16jxeg</a>"
            ]
          },
          "metadata": {}
        },
        {
          "output_type": "stream",
          "name": "stdout",
          "text": [
            "Epoch [1/15], Loss: 0.5824\n",
            "Epoch [2/15], Loss: 0.5869\n",
            "Epoch [3/15], Loss: 0.5632\n",
            "Epoch [4/15], Loss: 0.5998\n",
            "Epoch [5/15], Loss: 0.5909\n",
            "Epoch [6/15], Loss: 0.5993\n",
            "Epoch [7/15], Loss: 0.5694\n",
            "Epoch [8/15], Loss: 0.5746\n",
            "Epoch [9/15], Loss: 0.5829\n",
            "Epoch [10/15], Loss: 0.5772\n",
            "Epoch [11/15], Loss: 0.5690\n",
            "Epoch [12/15], Loss: 0.5505\n",
            "Epoch [13/15], Loss: 0.5682\n",
            "Epoch [14/15], Loss: 0.5696\n",
            "Epoch [15/15], Loss: 0.5375\n",
            "Validation Accuracy: 77.78%\n",
            "Validation F1 score: 0.10\n",
            "Finished Training\n"
          ]
        },
        {
          "output_type": "stream",
          "name": "stderr",
          "text": [
            "<ipython-input-105-e0d6967d27da>:24: RuntimeWarning: invalid value encountered in divide\n",
            "  return accstat/sta, accuracy, f1score\n"
          ]
        },
        {
          "output_type": "display_data",
          "data": {
            "text/plain": [
              "VBox(children=(Label(value='0.001 MB of 0.001 MB uploaded\\r'), FloatProgress(value=1.0, max=1.0)))"
            ],
            "application/vnd.jupyter.widget-view+json": {
              "version_major": 2,
              "version_minor": 0,
              "model_id": "52d94d99e6a941c1a5b420c40bebeb27"
            }
          },
          "metadata": {}
        },
        {
          "output_type": "display_data",
          "data": {
            "text/plain": [
              "<IPython.core.display.HTML object>"
            ],
            "text/html": [
              "<style>\n",
              "    table.wandb td:nth-child(1) { padding: 0 10px; text-align: left ; width: auto;} td:nth-child(2) {text-align: left ; width: 100%}\n",
              "    .wandb-row { display: flex; flex-direction: row; flex-wrap: wrap; justify-content: flex-start; width: 100% }\n",
              "    .wandb-col { display: flex; flex-direction: column; flex-basis: 100%; flex: 1; padding: 10px; }\n",
              "    </style>\n",
              "<div class=\"wandb-row\"><div class=\"wandb-col\"><h3>Run history:</h3><br/><table class=\"wandb\"><tr><td>acc_val</td><td>▁</td></tr><tr><td>f1_val</td><td>▁</td></tr></table><br/></div><div class=\"wandb-col\"><h3>Run summary:</h3><br/><table class=\"wandb\"><tr><td>acc_val</td><td>77.77778</td></tr><tr><td>f1_val</td><td>0.09524</td></tr></table><br/></div></div>"
            ]
          },
          "metadata": {}
        },
        {
          "output_type": "display_data",
          "data": {
            "text/plain": [
              "<IPython.core.display.HTML object>"
            ],
            "text/html": [
              " View run <strong style=\"color:#cdcd00\">charmed-sweep-23</strong> at: <a href='https://wandb.ai/adlh5g3/RNN_sweep/runs/xi16jxeg' target=\"_blank\">https://wandb.ai/adlh5g3/RNN_sweep/runs/xi16jxeg</a><br/> View project at: <a href='https://wandb.ai/adlh5g3/RNN_sweep' target=\"_blank\">https://wandb.ai/adlh5g3/RNN_sweep</a><br/>Synced 5 W&B file(s), 0 media file(s), 0 artifact file(s) and 0 other file(s)"
            ]
          },
          "metadata": {}
        },
        {
          "output_type": "display_data",
          "data": {
            "text/plain": [
              "<IPython.core.display.HTML object>"
            ],
            "text/html": [
              "Find logs at: <code>./wandb/run-20240517_140049-xi16jxeg/logs</code>"
            ]
          },
          "metadata": {}
        },
        {
          "output_type": "stream",
          "name": "stderr",
          "text": [
            "\u001b[34m\u001b[1mwandb\u001b[0m: Agent Starting Run: zhh1ioqn with config:\n",
            "\u001b[34m\u001b[1mwandb\u001b[0m: \tbidirect: False\n",
            "\u001b[34m\u001b[1mwandb\u001b[0m: \tepochs: 10\n",
            "\u001b[34m\u001b[1mwandb\u001b[0m: \thidsize: 50\n",
            "\u001b[34m\u001b[1mwandb\u001b[0m: \tnlayers: 2\n",
            "\u001b[34m\u001b[1mwandb\u001b[0m: \u001b[33mWARNING\u001b[0m Ignored wandb.init() arg project when running a sweep.\n"
          ]
        },
        {
          "output_type": "display_data",
          "data": {
            "text/plain": [
              "<IPython.core.display.HTML object>"
            ],
            "text/html": [
              "Tracking run with wandb version 0.17.0"
            ]
          },
          "metadata": {}
        },
        {
          "output_type": "display_data",
          "data": {
            "text/plain": [
              "<IPython.core.display.HTML object>"
            ],
            "text/html": [
              "Run data is saved locally in <code>/content/drive/MyDrive/adl3/wandb/run-20240517_140315-zhh1ioqn</code>"
            ]
          },
          "metadata": {}
        },
        {
          "output_type": "display_data",
          "data": {
            "text/plain": [
              "<IPython.core.display.HTML object>"
            ],
            "text/html": [
              "Syncing run <strong><a href='https://wandb.ai/adlh5g3/RNN_sweep/runs/zhh1ioqn' target=\"_blank\">bumbling-sweep-24</a></strong> to <a href='https://wandb.ai/adlh5g3/RNN_sweep' target=\"_blank\">Weights & Biases</a> (<a href='https://wandb.me/run' target=\"_blank\">docs</a>)<br/>Sweep page: <a href='https://wandb.ai/adlh5g3/RNN_sweep/sweeps/xvtv7dy0' target=\"_blank\">https://wandb.ai/adlh5g3/RNN_sweep/sweeps/xvtv7dy0</a>"
            ]
          },
          "metadata": {}
        },
        {
          "output_type": "display_data",
          "data": {
            "text/plain": [
              "<IPython.core.display.HTML object>"
            ],
            "text/html": [
              " View project at <a href='https://wandb.ai/adlh5g3/RNN_sweep' target=\"_blank\">https://wandb.ai/adlh5g3/RNN_sweep</a>"
            ]
          },
          "metadata": {}
        },
        {
          "output_type": "display_data",
          "data": {
            "text/plain": [
              "<IPython.core.display.HTML object>"
            ],
            "text/html": [
              " View sweep at <a href='https://wandb.ai/adlh5g3/RNN_sweep/sweeps/xvtv7dy0' target=\"_blank\">https://wandb.ai/adlh5g3/RNN_sweep/sweeps/xvtv7dy0</a>"
            ]
          },
          "metadata": {}
        },
        {
          "output_type": "display_data",
          "data": {
            "text/plain": [
              "<IPython.core.display.HTML object>"
            ],
            "text/html": [
              " View run at <a href='https://wandb.ai/adlh5g3/RNN_sweep/runs/zhh1ioqn' target=\"_blank\">https://wandb.ai/adlh5g3/RNN_sweep/runs/zhh1ioqn</a>"
            ]
          },
          "metadata": {}
        },
        {
          "output_type": "stream",
          "name": "stdout",
          "text": [
            "Epoch [1/10], Loss: 0.5463\n",
            "Epoch [2/10], Loss: 0.5309\n",
            "Epoch [3/10], Loss: 0.5212\n",
            "Epoch [4/10], Loss: 0.5221\n",
            "Epoch [5/10], Loss: 0.5177\n",
            "Epoch [6/10], Loss: 0.5325\n",
            "Epoch [7/10], Loss: 0.5264\n",
            "Epoch [8/10], Loss: 0.5220\n",
            "Epoch [9/10], Loss: 0.5200\n",
            "Epoch [10/10], Loss: 0.5197\n",
            "Validation Accuracy: 79.24%\n",
            "Validation F1 score: 0.20\n",
            "Finished Training\n"
          ]
        },
        {
          "output_type": "stream",
          "name": "stderr",
          "text": [
            "<ipython-input-105-e0d6967d27da>:24: RuntimeWarning: invalid value encountered in divide\n",
            "  return accstat/sta, accuracy, f1score\n"
          ]
        },
        {
          "output_type": "display_data",
          "data": {
            "text/plain": [
              "VBox(children=(Label(value='0.001 MB of 0.001 MB uploaded\\r'), FloatProgress(value=1.0, max=1.0)))"
            ],
            "application/vnd.jupyter.widget-view+json": {
              "version_major": 2,
              "version_minor": 0,
              "model_id": "784e36604b6a407ca9665ff6bbbe54f6"
            }
          },
          "metadata": {}
        },
        {
          "output_type": "display_data",
          "data": {
            "text/plain": [
              "<IPython.core.display.HTML object>"
            ],
            "text/html": [
              "<style>\n",
              "    table.wandb td:nth-child(1) { padding: 0 10px; text-align: left ; width: auto;} td:nth-child(2) {text-align: left ; width: 100%}\n",
              "    .wandb-row { display: flex; flex-direction: row; flex-wrap: wrap; justify-content: flex-start; width: 100% }\n",
              "    .wandb-col { display: flex; flex-direction: column; flex-basis: 100%; flex: 1; padding: 10px; }\n",
              "    </style>\n",
              "<div class=\"wandb-row\"><div class=\"wandb-col\"><h3>Run history:</h3><br/><table class=\"wandb\"><tr><td>acc_val</td><td>▁</td></tr><tr><td>f1_val</td><td>▁</td></tr></table><br/></div><div class=\"wandb-col\"><h3>Run summary:</h3><br/><table class=\"wandb\"><tr><td>acc_val</td><td>79.23977</td></tr><tr><td>f1_val</td><td>0.20225</td></tr></table><br/></div></div>"
            ]
          },
          "metadata": {}
        },
        {
          "output_type": "display_data",
          "data": {
            "text/plain": [
              "<IPython.core.display.HTML object>"
            ],
            "text/html": [
              " View run <strong style=\"color:#cdcd00\">bumbling-sweep-24</strong> at: <a href='https://wandb.ai/adlh5g3/RNN_sweep/runs/zhh1ioqn' target=\"_blank\">https://wandb.ai/adlh5g3/RNN_sweep/runs/zhh1ioqn</a><br/> View project at: <a href='https://wandb.ai/adlh5g3/RNN_sweep' target=\"_blank\">https://wandb.ai/adlh5g3/RNN_sweep</a><br/>Synced 5 W&B file(s), 0 media file(s), 0 artifact file(s) and 0 other file(s)"
            ]
          },
          "metadata": {}
        },
        {
          "output_type": "display_data",
          "data": {
            "text/plain": [
              "<IPython.core.display.HTML object>"
            ],
            "text/html": [
              "Find logs at: <code>./wandb/run-20240517_140315-zhh1ioqn/logs</code>"
            ]
          },
          "metadata": {}
        },
        {
          "output_type": "stream",
          "name": "stderr",
          "text": [
            "\u001b[34m\u001b[1mwandb\u001b[0m: Agent Starting Run: q19pckf0 with config:\n",
            "\u001b[34m\u001b[1mwandb\u001b[0m: \tbidirect: False\n",
            "\u001b[34m\u001b[1mwandb\u001b[0m: \tepochs: 20\n",
            "\u001b[34m\u001b[1mwandb\u001b[0m: \thidsize: 75\n",
            "\u001b[34m\u001b[1mwandb\u001b[0m: \tnlayers: 2\n",
            "\u001b[34m\u001b[1mwandb\u001b[0m: \u001b[33mWARNING\u001b[0m Ignored wandb.init() arg project when running a sweep.\n"
          ]
        },
        {
          "output_type": "display_data",
          "data": {
            "text/plain": [
              "<IPython.core.display.HTML object>"
            ],
            "text/html": [
              "Tracking run with wandb version 0.17.0"
            ]
          },
          "metadata": {}
        },
        {
          "output_type": "display_data",
          "data": {
            "text/plain": [
              "<IPython.core.display.HTML object>"
            ],
            "text/html": [
              "Run data is saved locally in <code>/content/drive/MyDrive/adl3/wandb/run-20240517_140415-q19pckf0</code>"
            ]
          },
          "metadata": {}
        },
        {
          "output_type": "display_data",
          "data": {
            "text/plain": [
              "<IPython.core.display.HTML object>"
            ],
            "text/html": [
              "Syncing run <strong><a href='https://wandb.ai/adlh5g3/RNN_sweep/runs/q19pckf0' target=\"_blank\">driven-sweep-25</a></strong> to <a href='https://wandb.ai/adlh5g3/RNN_sweep' target=\"_blank\">Weights & Biases</a> (<a href='https://wandb.me/run' target=\"_blank\">docs</a>)<br/>Sweep page: <a href='https://wandb.ai/adlh5g3/RNN_sweep/sweeps/xvtv7dy0' target=\"_blank\">https://wandb.ai/adlh5g3/RNN_sweep/sweeps/xvtv7dy0</a>"
            ]
          },
          "metadata": {}
        },
        {
          "output_type": "display_data",
          "data": {
            "text/plain": [
              "<IPython.core.display.HTML object>"
            ],
            "text/html": [
              " View project at <a href='https://wandb.ai/adlh5g3/RNN_sweep' target=\"_blank\">https://wandb.ai/adlh5g3/RNN_sweep</a>"
            ]
          },
          "metadata": {}
        },
        {
          "output_type": "display_data",
          "data": {
            "text/plain": [
              "<IPython.core.display.HTML object>"
            ],
            "text/html": [
              " View sweep at <a href='https://wandb.ai/adlh5g3/RNN_sweep/sweeps/xvtv7dy0' target=\"_blank\">https://wandb.ai/adlh5g3/RNN_sweep/sweeps/xvtv7dy0</a>"
            ]
          },
          "metadata": {}
        },
        {
          "output_type": "display_data",
          "data": {
            "text/plain": [
              "<IPython.core.display.HTML object>"
            ],
            "text/html": [
              " View run at <a href='https://wandb.ai/adlh5g3/RNN_sweep/runs/q19pckf0' target=\"_blank\">https://wandb.ai/adlh5g3/RNN_sweep/runs/q19pckf0</a>"
            ]
          },
          "metadata": {}
        },
        {
          "output_type": "stream",
          "name": "stdout",
          "text": [
            "Epoch [1/20], Loss: 0.5553\n",
            "Epoch [2/20], Loss: 0.5377\n",
            "Epoch [3/20], Loss: 0.5266\n",
            "Epoch [4/20], Loss: 0.5239\n",
            "Epoch [5/20], Loss: 0.5427\n",
            "Epoch [6/20], Loss: 0.5427\n",
            "Epoch [7/20], Loss: 0.5464\n",
            "Epoch [8/20], Loss: 0.5319\n",
            "Epoch [9/20], Loss: 0.5390\n",
            "Epoch [10/20], Loss: 0.5272\n",
            "Epoch [11/20], Loss: 0.5117\n",
            "Epoch [12/20], Loss: 0.5133\n",
            "Epoch [13/20], Loss: 0.4892\n",
            "Epoch [14/20], Loss: 0.4875\n",
            "Epoch [15/20], Loss: 0.4812\n",
            "Epoch [16/20], Loss: 0.4709\n",
            "Epoch [17/20], Loss: 0.4968\n",
            "Epoch [18/20], Loss: 0.5114\n",
            "Epoch [19/20], Loss: 0.4737\n",
            "Epoch [20/20], Loss: 0.4832\n",
            "Validation Accuracy: 81.58%\n",
            "Validation F1 score: 0.35\n",
            "Finished Training\n"
          ]
        },
        {
          "output_type": "stream",
          "name": "stderr",
          "text": [
            "<ipython-input-105-e0d6967d27da>:24: RuntimeWarning: invalid value encountered in divide\n",
            "  return accstat/sta, accuracy, f1score\n"
          ]
        },
        {
          "output_type": "display_data",
          "data": {
            "text/plain": [
              "VBox(children=(Label(value='0.001 MB of 0.001 MB uploaded\\r'), FloatProgress(value=1.0, max=1.0)))"
            ],
            "application/vnd.jupyter.widget-view+json": {
              "version_major": 2,
              "version_minor": 0,
              "model_id": "738822ddda55436a8e5917a9a66aef8b"
            }
          },
          "metadata": {}
        },
        {
          "output_type": "display_data",
          "data": {
            "text/plain": [
              "<IPython.core.display.HTML object>"
            ],
            "text/html": [
              "<style>\n",
              "    table.wandb td:nth-child(1) { padding: 0 10px; text-align: left ; width: auto;} td:nth-child(2) {text-align: left ; width: 100%}\n",
              "    .wandb-row { display: flex; flex-direction: row; flex-wrap: wrap; justify-content: flex-start; width: 100% }\n",
              "    .wandb-col { display: flex; flex-direction: column; flex-basis: 100%; flex: 1; padding: 10px; }\n",
              "    </style>\n",
              "<div class=\"wandb-row\"><div class=\"wandb-col\"><h3>Run history:</h3><br/><table class=\"wandb\"><tr><td>acc_val</td><td>▁</td></tr><tr><td>f1_val</td><td>▁</td></tr></table><br/></div><div class=\"wandb-col\"><h3>Run summary:</h3><br/><table class=\"wandb\"><tr><td>acc_val</td><td>81.57895</td></tr><tr><td>f1_val</td><td>0.35052</td></tr></table><br/></div></div>"
            ]
          },
          "metadata": {}
        },
        {
          "output_type": "display_data",
          "data": {
            "text/plain": [
              "<IPython.core.display.HTML object>"
            ],
            "text/html": [
              " View run <strong style=\"color:#cdcd00\">driven-sweep-25</strong> at: <a href='https://wandb.ai/adlh5g3/RNN_sweep/runs/q19pckf0' target=\"_blank\">https://wandb.ai/adlh5g3/RNN_sweep/runs/q19pckf0</a><br/> View project at: <a href='https://wandb.ai/adlh5g3/RNN_sweep' target=\"_blank\">https://wandb.ai/adlh5g3/RNN_sweep</a><br/>Synced 5 W&B file(s), 0 media file(s), 0 artifact file(s) and 0 other file(s)"
            ]
          },
          "metadata": {}
        },
        {
          "output_type": "display_data",
          "data": {
            "text/plain": [
              "<IPython.core.display.HTML object>"
            ],
            "text/html": [
              "Find logs at: <code>./wandb/run-20240517_140415-q19pckf0/logs</code>"
            ]
          },
          "metadata": {}
        },
        {
          "output_type": "stream",
          "name": "stderr",
          "text": [
            "\u001b[34m\u001b[1mwandb\u001b[0m: Agent Starting Run: p0puqtq2 with config:\n",
            "\u001b[34m\u001b[1mwandb\u001b[0m: \tbidirect: False\n",
            "\u001b[34m\u001b[1mwandb\u001b[0m: \tepochs: 20\n",
            "\u001b[34m\u001b[1mwandb\u001b[0m: \thidsize: 75\n",
            "\u001b[34m\u001b[1mwandb\u001b[0m: \tnlayers: 2\n",
            "\u001b[34m\u001b[1mwandb\u001b[0m: \u001b[33mWARNING\u001b[0m Ignored wandb.init() arg project when running a sweep.\n"
          ]
        },
        {
          "output_type": "display_data",
          "data": {
            "text/plain": [
              "<IPython.core.display.HTML object>"
            ],
            "text/html": [
              "Tracking run with wandb version 0.17.0"
            ]
          },
          "metadata": {}
        },
        {
          "output_type": "display_data",
          "data": {
            "text/plain": [
              "<IPython.core.display.HTML object>"
            ],
            "text/html": [
              "Run data is saved locally in <code>/content/drive/MyDrive/adl3/wandb/run-20240517_140612-p0puqtq2</code>"
            ]
          },
          "metadata": {}
        },
        {
          "output_type": "display_data",
          "data": {
            "text/plain": [
              "<IPython.core.display.HTML object>"
            ],
            "text/html": [
              "Syncing run <strong><a href='https://wandb.ai/adlh5g3/RNN_sweep/runs/p0puqtq2' target=\"_blank\">pleasant-sweep-18</a></strong> to <a href='https://wandb.ai/adlh5g3/RNN_sweep' target=\"_blank\">Weights & Biases</a> (<a href='https://wandb.me/run' target=\"_blank\">docs</a>)<br/>Sweep page: <a href='https://wandb.ai/adlh5g3/RNN_sweep/sweeps/xvtv7dy0' target=\"_blank\">https://wandb.ai/adlh5g3/RNN_sweep/sweeps/xvtv7dy0</a>"
            ]
          },
          "metadata": {}
        },
        {
          "output_type": "display_data",
          "data": {
            "text/plain": [
              "<IPython.core.display.HTML object>"
            ],
            "text/html": [
              " View project at <a href='https://wandb.ai/adlh5g3/RNN_sweep' target=\"_blank\">https://wandb.ai/adlh5g3/RNN_sweep</a>"
            ]
          },
          "metadata": {}
        },
        {
          "output_type": "display_data",
          "data": {
            "text/plain": [
              "<IPython.core.display.HTML object>"
            ],
            "text/html": [
              " View sweep at <a href='https://wandb.ai/adlh5g3/RNN_sweep/sweeps/xvtv7dy0' target=\"_blank\">https://wandb.ai/adlh5g3/RNN_sweep/sweeps/xvtv7dy0</a>"
            ]
          },
          "metadata": {}
        },
        {
          "output_type": "display_data",
          "data": {
            "text/plain": [
              "<IPython.core.display.HTML object>"
            ],
            "text/html": [
              " View run at <a href='https://wandb.ai/adlh5g3/RNN_sweep/runs/p0puqtq2' target=\"_blank\">https://wandb.ai/adlh5g3/RNN_sweep/runs/p0puqtq2</a>"
            ]
          },
          "metadata": {}
        },
        {
          "output_type": "stream",
          "name": "stdout",
          "text": [
            "Epoch [1/20], Loss: 0.5524\n",
            "Epoch [2/20], Loss: 0.5337\n",
            "Epoch [3/20], Loss: 0.5307\n",
            "Epoch [4/20], Loss: 0.5250\n",
            "Epoch [5/20], Loss: 0.5246\n",
            "Epoch [6/20], Loss: 0.5250\n",
            "Epoch [7/20], Loss: 0.5434\n",
            "Epoch [8/20], Loss: 0.5353\n",
            "Epoch [9/20], Loss: 0.5273\n",
            "Epoch [10/20], Loss: 0.5266\n",
            "Epoch [11/20], Loss: 0.5442\n",
            "Epoch [12/20], Loss: 0.5299\n",
            "Epoch [13/20], Loss: 0.5150\n",
            "Epoch [14/20], Loss: 0.5289\n",
            "Epoch [15/20], Loss: 0.5197\n",
            "Epoch [16/20], Loss: 0.5206\n",
            "Epoch [17/20], Loss: 0.5132\n",
            "Epoch [18/20], Loss: 0.5184\n",
            "Epoch [19/20], Loss: 0.4976\n",
            "Epoch [20/20], Loss: 0.4972\n",
            "Validation Accuracy: 81.58%\n",
            "Validation F1 score: 0.35\n",
            "Finished Training\n"
          ]
        },
        {
          "output_type": "stream",
          "name": "stderr",
          "text": [
            "<ipython-input-105-e0d6967d27da>:24: RuntimeWarning: invalid value encountered in divide\n",
            "  return accstat/sta, accuracy, f1score\n"
          ]
        },
        {
          "output_type": "display_data",
          "data": {
            "text/plain": [
              "VBox(children=(Label(value='0.001 MB of 0.001 MB uploaded\\r'), FloatProgress(value=1.0, max=1.0)))"
            ],
            "application/vnd.jupyter.widget-view+json": {
              "version_major": 2,
              "version_minor": 0,
              "model_id": "f04a8f77efc646d1821ab6b2d4d6f929"
            }
          },
          "metadata": {}
        },
        {
          "output_type": "display_data",
          "data": {
            "text/plain": [
              "<IPython.core.display.HTML object>"
            ],
            "text/html": [
              "<style>\n",
              "    table.wandb td:nth-child(1) { padding: 0 10px; text-align: left ; width: auto;} td:nth-child(2) {text-align: left ; width: 100%}\n",
              "    .wandb-row { display: flex; flex-direction: row; flex-wrap: wrap; justify-content: flex-start; width: 100% }\n",
              "    .wandb-col { display: flex; flex-direction: column; flex-basis: 100%; flex: 1; padding: 10px; }\n",
              "    </style>\n",
              "<div class=\"wandb-row\"><div class=\"wandb-col\"><h3>Run history:</h3><br/><table class=\"wandb\"><tr><td>acc_val</td><td>▁</td></tr><tr><td>f1_val</td><td>▁</td></tr></table><br/></div><div class=\"wandb-col\"><h3>Run summary:</h3><br/><table class=\"wandb\"><tr><td>acc_val</td><td>81.57895</td></tr><tr><td>f1_val</td><td>0.35052</td></tr></table><br/></div></div>"
            ]
          },
          "metadata": {}
        },
        {
          "output_type": "display_data",
          "data": {
            "text/plain": [
              "<IPython.core.display.HTML object>"
            ],
            "text/html": [
              " View run <strong style=\"color:#cdcd00\">pleasant-sweep-18</strong> at: <a href='https://wandb.ai/adlh5g3/RNN_sweep/runs/p0puqtq2' target=\"_blank\">https://wandb.ai/adlh5g3/RNN_sweep/runs/p0puqtq2</a><br/> View project at: <a href='https://wandb.ai/adlh5g3/RNN_sweep' target=\"_blank\">https://wandb.ai/adlh5g3/RNN_sweep</a><br/>Synced 5 W&B file(s), 0 media file(s), 0 artifact file(s) and 0 other file(s)"
            ]
          },
          "metadata": {}
        },
        {
          "output_type": "display_data",
          "data": {
            "text/plain": [
              "<IPython.core.display.HTML object>"
            ],
            "text/html": [
              "Find logs at: <code>./wandb/run-20240517_140612-p0puqtq2/logs</code>"
            ]
          },
          "metadata": {}
        },
        {
          "output_type": "stream",
          "name": "stderr",
          "text": [
            "\u001b[34m\u001b[1mwandb\u001b[0m: Agent Starting Run: tdgd8cob with config:\n",
            "\u001b[34m\u001b[1mwandb\u001b[0m: \tbidirect: True\n",
            "\u001b[34m\u001b[1mwandb\u001b[0m: \tepochs: 15\n",
            "\u001b[34m\u001b[1mwandb\u001b[0m: \thidsize: 100\n",
            "\u001b[34m\u001b[1mwandb\u001b[0m: \tnlayers: 1\n",
            "\u001b[34m\u001b[1mwandb\u001b[0m: \u001b[33mWARNING\u001b[0m Ignored wandb.init() arg project when running a sweep.\n"
          ]
        },
        {
          "output_type": "display_data",
          "data": {
            "text/plain": [
              "<IPython.core.display.HTML object>"
            ],
            "text/html": [
              "Tracking run with wandb version 0.17.0"
            ]
          },
          "metadata": {}
        },
        {
          "output_type": "display_data",
          "data": {
            "text/plain": [
              "<IPython.core.display.HTML object>"
            ],
            "text/html": [
              "Run data is saved locally in <code>/content/drive/MyDrive/adl3/wandb/run-20240517_140803-tdgd8cob</code>"
            ]
          },
          "metadata": {}
        },
        {
          "output_type": "display_data",
          "data": {
            "text/plain": [
              "<IPython.core.display.HTML object>"
            ],
            "text/html": [
              "Syncing run <strong><a href='https://wandb.ai/adlh5g3/RNN_sweep/runs/tdgd8cob' target=\"_blank\">autumn-sweep-19</a></strong> to <a href='https://wandb.ai/adlh5g3/RNN_sweep' target=\"_blank\">Weights & Biases</a> (<a href='https://wandb.me/run' target=\"_blank\">docs</a>)<br/>Sweep page: <a href='https://wandb.ai/adlh5g3/RNN_sweep/sweeps/xvtv7dy0' target=\"_blank\">https://wandb.ai/adlh5g3/RNN_sweep/sweeps/xvtv7dy0</a>"
            ]
          },
          "metadata": {}
        },
        {
          "output_type": "display_data",
          "data": {
            "text/plain": [
              "<IPython.core.display.HTML object>"
            ],
            "text/html": [
              " View project at <a href='https://wandb.ai/adlh5g3/RNN_sweep' target=\"_blank\">https://wandb.ai/adlh5g3/RNN_sweep</a>"
            ]
          },
          "metadata": {}
        },
        {
          "output_type": "display_data",
          "data": {
            "text/plain": [
              "<IPython.core.display.HTML object>"
            ],
            "text/html": [
              " View sweep at <a href='https://wandb.ai/adlh5g3/RNN_sweep/sweeps/xvtv7dy0' target=\"_blank\">https://wandb.ai/adlh5g3/RNN_sweep/sweeps/xvtv7dy0</a>"
            ]
          },
          "metadata": {}
        },
        {
          "output_type": "display_data",
          "data": {
            "text/plain": [
              "<IPython.core.display.HTML object>"
            ],
            "text/html": [
              " View run at <a href='https://wandb.ai/adlh5g3/RNN_sweep/runs/tdgd8cob' target=\"_blank\">https://wandb.ai/adlh5g3/RNN_sweep/runs/tdgd8cob</a>"
            ]
          },
          "metadata": {}
        },
        {
          "output_type": "stream",
          "name": "stdout",
          "text": [
            "Epoch [1/15], Loss: 0.5662\n",
            "Epoch [2/15], Loss: 0.5473\n",
            "Epoch [3/15], Loss: 0.5493\n",
            "Epoch [4/15], Loss: 0.5377\n",
            "Epoch [5/15], Loss: 0.5298\n",
            "Epoch [6/15], Loss: 0.5343\n",
            "Epoch [7/15], Loss: 0.5127\n",
            "Epoch [8/15], Loss: 0.4859\n",
            "Epoch [9/15], Loss: 0.4787\n",
            "Epoch [10/15], Loss: 0.4918\n",
            "Epoch [11/15], Loss: 0.4756\n",
            "Epoch [12/15], Loss: 0.4441\n",
            "Epoch [13/15], Loss: 0.4207\n",
            "Epoch [14/15], Loss: 0.4185\n",
            "Epoch [15/15], Loss: 0.4619\n",
            "Validation Accuracy: 84.21%\n",
            "Validation F1 score: 0.58\n",
            "Finished Training\n"
          ]
        },
        {
          "output_type": "stream",
          "name": "stderr",
          "text": [
            "<ipython-input-105-e0d6967d27da>:24: RuntimeWarning: invalid value encountered in divide\n",
            "  return accstat/sta, accuracy, f1score\n"
          ]
        },
        {
          "output_type": "display_data",
          "data": {
            "text/plain": [
              "VBox(children=(Label(value='0.001 MB of 0.001 MB uploaded\\r'), FloatProgress(value=1.0, max=1.0)))"
            ],
            "application/vnd.jupyter.widget-view+json": {
              "version_major": 2,
              "version_minor": 0,
              "model_id": "21cac28df6914d55bcb80478a5f69ccf"
            }
          },
          "metadata": {}
        },
        {
          "output_type": "display_data",
          "data": {
            "text/plain": [
              "<IPython.core.display.HTML object>"
            ],
            "text/html": [
              "<style>\n",
              "    table.wandb td:nth-child(1) { padding: 0 10px; text-align: left ; width: auto;} td:nth-child(2) {text-align: left ; width: 100%}\n",
              "    .wandb-row { display: flex; flex-direction: row; flex-wrap: wrap; justify-content: flex-start; width: 100% }\n",
              "    .wandb-col { display: flex; flex-direction: column; flex-basis: 100%; flex: 1; padding: 10px; }\n",
              "    </style>\n",
              "<div class=\"wandb-row\"><div class=\"wandb-col\"><h3>Run history:</h3><br/><table class=\"wandb\"><tr><td>acc_val</td><td>▁</td></tr><tr><td>f1_val</td><td>▁</td></tr></table><br/></div><div class=\"wandb-col\"><h3>Run summary:</h3><br/><table class=\"wandb\"><tr><td>acc_val</td><td>84.21053</td></tr><tr><td>f1_val</td><td>0.58462</td></tr></table><br/></div></div>"
            ]
          },
          "metadata": {}
        },
        {
          "output_type": "display_data",
          "data": {
            "text/plain": [
              "<IPython.core.display.HTML object>"
            ],
            "text/html": [
              " View run <strong style=\"color:#cdcd00\">autumn-sweep-19</strong> at: <a href='https://wandb.ai/adlh5g3/RNN_sweep/runs/tdgd8cob' target=\"_blank\">https://wandb.ai/adlh5g3/RNN_sweep/runs/tdgd8cob</a><br/> View project at: <a href='https://wandb.ai/adlh5g3/RNN_sweep' target=\"_blank\">https://wandb.ai/adlh5g3/RNN_sweep</a><br/>Synced 5 W&B file(s), 0 media file(s), 0 artifact file(s) and 0 other file(s)"
            ]
          },
          "metadata": {}
        },
        {
          "output_type": "display_data",
          "data": {
            "text/plain": [
              "<IPython.core.display.HTML object>"
            ],
            "text/html": [
              "Find logs at: <code>./wandb/run-20240517_140803-tdgd8cob/logs</code>"
            ]
          },
          "metadata": {}
        },
        {
          "output_type": "stream",
          "name": "stderr",
          "text": [
            "\u001b[34m\u001b[1mwandb\u001b[0m: Agent Starting Run: smjt53ic with config:\n",
            "\u001b[34m\u001b[1mwandb\u001b[0m: \tbidirect: True\n",
            "\u001b[34m\u001b[1mwandb\u001b[0m: \tepochs: 10\n",
            "\u001b[34m\u001b[1mwandb\u001b[0m: \thidsize: 100\n",
            "\u001b[34m\u001b[1mwandb\u001b[0m: \tnlayers: 1\n",
            "\u001b[34m\u001b[1mwandb\u001b[0m: \u001b[33mWARNING\u001b[0m Ignored wandb.init() arg project when running a sweep.\n"
          ]
        },
        {
          "output_type": "display_data",
          "data": {
            "text/plain": [
              "<IPython.core.display.HTML object>"
            ],
            "text/html": [
              "Tracking run with wandb version 0.17.0"
            ]
          },
          "metadata": {}
        },
        {
          "output_type": "display_data",
          "data": {
            "text/plain": [
              "<IPython.core.display.HTML object>"
            ],
            "text/html": [
              "Run data is saved locally in <code>/content/drive/MyDrive/adl3/wandb/run-20240517_140928-smjt53ic</code>"
            ]
          },
          "metadata": {}
        },
        {
          "output_type": "display_data",
          "data": {
            "text/plain": [
              "<IPython.core.display.HTML object>"
            ],
            "text/html": [
              "Syncing run <strong><a href='https://wandb.ai/adlh5g3/RNN_sweep/runs/smjt53ic' target=\"_blank\">visionary-sweep-20</a></strong> to <a href='https://wandb.ai/adlh5g3/RNN_sweep' target=\"_blank\">Weights & Biases</a> (<a href='https://wandb.me/run' target=\"_blank\">docs</a>)<br/>Sweep page: <a href='https://wandb.ai/adlh5g3/RNN_sweep/sweeps/xvtv7dy0' target=\"_blank\">https://wandb.ai/adlh5g3/RNN_sweep/sweeps/xvtv7dy0</a>"
            ]
          },
          "metadata": {}
        },
        {
          "output_type": "display_data",
          "data": {
            "text/plain": [
              "<IPython.core.display.HTML object>"
            ],
            "text/html": [
              " View project at <a href='https://wandb.ai/adlh5g3/RNN_sweep' target=\"_blank\">https://wandb.ai/adlh5g3/RNN_sweep</a>"
            ]
          },
          "metadata": {}
        },
        {
          "output_type": "display_data",
          "data": {
            "text/plain": [
              "<IPython.core.display.HTML object>"
            ],
            "text/html": [
              " View sweep at <a href='https://wandb.ai/adlh5g3/RNN_sweep/sweeps/xvtv7dy0' target=\"_blank\">https://wandb.ai/adlh5g3/RNN_sweep/sweeps/xvtv7dy0</a>"
            ]
          },
          "metadata": {}
        },
        {
          "output_type": "display_data",
          "data": {
            "text/plain": [
              "<IPython.core.display.HTML object>"
            ],
            "text/html": [
              " View run at <a href='https://wandb.ai/adlh5g3/RNN_sweep/runs/smjt53ic' target=\"_blank\">https://wandb.ai/adlh5g3/RNN_sweep/runs/smjt53ic</a>"
            ]
          },
          "metadata": {}
        },
        {
          "output_type": "stream",
          "name": "stdout",
          "text": [
            "Epoch [1/10], Loss: 0.5642\n",
            "Epoch [2/10], Loss: 0.5609\n",
            "Epoch [3/10], Loss: 0.5553\n",
            "Epoch [4/10], Loss: 0.5630\n",
            "Epoch [5/10], Loss: 0.5515\n",
            "Epoch [6/10], Loss: 0.5474\n",
            "Epoch [7/10], Loss: 0.5394\n",
            "Epoch [8/10], Loss: 0.5503\n",
            "Epoch [9/10], Loss: 0.5485\n",
            "Epoch [10/10], Loss: 0.5423\n",
            "Validation Accuracy: 80.12%\n",
            "Validation F1 score: 0.26\n",
            "Finished Training\n"
          ]
        },
        {
          "output_type": "stream",
          "name": "stderr",
          "text": [
            "<ipython-input-105-e0d6967d27da>:24: RuntimeWarning: invalid value encountered in divide\n",
            "  return accstat/sta, accuracy, f1score\n"
          ]
        },
        {
          "output_type": "display_data",
          "data": {
            "text/plain": [
              "VBox(children=(Label(value='0.001 MB of 0.001 MB uploaded\\r'), FloatProgress(value=1.0, max=1.0)))"
            ],
            "application/vnd.jupyter.widget-view+json": {
              "version_major": 2,
              "version_minor": 0,
              "model_id": "31b1d4cf55ff42149dc2041589fcd332"
            }
          },
          "metadata": {}
        },
        {
          "output_type": "display_data",
          "data": {
            "text/plain": [
              "<IPython.core.display.HTML object>"
            ],
            "text/html": [
              "<style>\n",
              "    table.wandb td:nth-child(1) { padding: 0 10px; text-align: left ; width: auto;} td:nth-child(2) {text-align: left ; width: 100%}\n",
              "    .wandb-row { display: flex; flex-direction: row; flex-wrap: wrap; justify-content: flex-start; width: 100% }\n",
              "    .wandb-col { display: flex; flex-direction: column; flex-basis: 100%; flex: 1; padding: 10px; }\n",
              "    </style>\n",
              "<div class=\"wandb-row\"><div class=\"wandb-col\"><h3>Run history:</h3><br/><table class=\"wandb\"><tr><td>acc_val</td><td>▁</td></tr><tr><td>f1_val</td><td>▁</td></tr></table><br/></div><div class=\"wandb-col\"><h3>Run summary:</h3><br/><table class=\"wandb\"><tr><td>acc_val</td><td>80.11696</td></tr><tr><td>f1_val</td><td>0.26087</td></tr></table><br/></div></div>"
            ]
          },
          "metadata": {}
        },
        {
          "output_type": "display_data",
          "data": {
            "text/plain": [
              "<IPython.core.display.HTML object>"
            ],
            "text/html": [
              " View run <strong style=\"color:#cdcd00\">visionary-sweep-20</strong> at: <a href='https://wandb.ai/adlh5g3/RNN_sweep/runs/smjt53ic' target=\"_blank\">https://wandb.ai/adlh5g3/RNN_sweep/runs/smjt53ic</a><br/> View project at: <a href='https://wandb.ai/adlh5g3/RNN_sweep' target=\"_blank\">https://wandb.ai/adlh5g3/RNN_sweep</a><br/>Synced 5 W&B file(s), 0 media file(s), 0 artifact file(s) and 0 other file(s)"
            ]
          },
          "metadata": {}
        },
        {
          "output_type": "display_data",
          "data": {
            "text/plain": [
              "<IPython.core.display.HTML object>"
            ],
            "text/html": [
              "Find logs at: <code>./wandb/run-20240517_140928-smjt53ic/logs</code>"
            ]
          },
          "metadata": {}
        }
      ],
      "source": [
        "def train_rnn_sweep(config=None):\n",
        "    with wandb.init(project='RNN_sweep_1', config=config):\n",
        "        config = wandb.config\n",
        "        net = RNNClassifier(nlayers=config.nlayers, hidsize=config.hidsize, bidirect=config.bidirect)\n",
        "        loss = nn.CrossEntropyLoss() #自带softmax\n",
        "        optimizer = optim.Adam(net.parameters(), lr=0.001)\n",
        "\n",
        "        wandb.watch(net, loss, log=\"all\")\n",
        "\n",
        "        train_model(model=net, train_loader=trainloader, criterion=loss, optimizer = optimizer, num_epochs=config.epochs)\n",
        "\n",
        "        _,acc,f1 = eval_model(model=net, test_loader=testloader)\n",
        "        wandb.log({'f1_val': f1, 'acc_val': acc})\n",
        "        print('Finished Training')\n",
        "\n",
        "wandb.agent(sweep_rnn_id, function=train_rnn_sweep, count=15)"
      ]
    },
    {
      "cell_type": "markdown",
      "source": [
        "泛化能力评估：长度21-50"
      ],
      "metadata": {
        "id": "RYFxNKlpcWDG"
      }
    },
    {
      "cell_type": "code",
      "source": [
        "#自定义一个Dataset类，必需包含init, len, getitem\n",
        "class CustomDataset(Dataset):\n",
        "    def __init__(self):\n",
        "        self.data = []\n",
        "        self.targets = []\n",
        "\n",
        "    def __len__(self):\n",
        "        return len(self.data)\n",
        "\n",
        "    def __getitem__(self, index):\n",
        "        return self.data[index], self.targets[index]\n",
        "\n",
        "    def append(self, data, target):\n",
        "        self.data.append(data)\n",
        "        self.targets.append(target)\n"
      ],
      "metadata": {
        "id": "spV_EvpK_0dH"
      },
      "execution_count": 6,
      "outputs": []
    },
    {
      "cell_type": "code",
      "source": [
        "stats_general = np.zeros((2,30))\n",
        "print(stats_general)\n",
        "\n",
        "# 创建自定义数据集对象\n",
        "dataset_general = CustomDataset()\n",
        "sum = 0\n",
        "k=0\n",
        "# 逐个添加数据和标签\n",
        "for x in range(1,50):\n",
        "  for y in range(1,50):\n",
        "    for z in range(1,50):\n",
        "     if x+y+z<21 or x+y+z>50:\n",
        "       continue\n",
        "     input_string = 'a'*x + 'b'*y + 'c'*z\n",
        "     sum+=1\n",
        "     input_array = np.array(list(input_string)).reshape(-1, 1)\n",
        "     #创建并适配 OneHotEncoder\n",
        "     encoder = OneHotEncoder(sparse_output=False)\n",
        "     data = torch.FloatTensor(encoder.fit_transform(input_array))\n",
        "     if x==y or y==z or x==z :\n",
        "      target=torch.tensor(1)\n",
        "      k+=1\n",
        "      stats_general[1][x+y+z-21] += 1\n",
        "     else:\n",
        "      target=torch.tensor(0)\n",
        "      stats_general[0][x+y+z-21] += 1\n",
        "     dataset_general.append(data, target)\n",
        "\n",
        "print(sum,k)"
      ],
      "metadata": {
        "colab": {
          "base_uri": "https://localhost:8080/"
        },
        "id": "bO1m1FrI__g1",
        "outputId": "ee2e981a-09e3-4f7c-c126-74420a87063e"
      },
      "execution_count": 8,
      "outputs": [
        {
          "output_type": "stream",
          "name": "stdout",
          "text": [
            "[[0. 0. 0. 0. 0. 0. 0. 0. 0. 0. 0. 0. 0. 0. 0. 0. 0. 0. 0. 0. 0. 0. 0. 0.\n",
            "  0. 0. 0. 0. 0. 0.]\n",
            " [0. 0. 0. 0. 0. 0. 0. 0. 0. 0. 0. 0. 0. 0. 0. 0. 0. 0. 0. 0. 0. 0. 0. 0.\n",
            "  0. 0. 0. 0. 0. 0.]]\n",
            "18460 1510\n"
          ]
        }
      ]
    },
    {
      "cell_type": "code",
      "source": [
        "from torch.utils.data import SubsetRandomSampler\n",
        "\n",
        "np.random.seed(42)\n",
        "\n",
        "# 指定抽样的索引数量\n",
        "sample_size = 5000\n",
        "indices = np.random.choice(len(dataset_general), sample_size, replace=False)\n",
        "sampler = SubsetRandomSampler(indices)\n",
        "\n",
        "# 创建 DataLoader\n",
        "general_dataloader = DataLoader(dataset_general, sampler=sampler, batch_size=1)\n",
        "\n",
        "print(len(general_dataloader))\n"
      ],
      "metadata": {
        "colab": {
          "base_uri": "https://localhost:8080/"
        },
        "id": "X9_FiBjNCN8h",
        "outputId": "ab07df70-66ce-4d46-b3df-75f6378bcc1f"
      },
      "execution_count": 19,
      "outputs": [
        {
          "output_type": "stream",
          "name": "stdout",
          "text": [
            "5000\n"
          ]
        }
      ]
    },
    {
      "cell_type": "code",
      "source": [
        "def eval_general_model(model,test_loader):\n",
        "    model.eval()\n",
        "    input = torch.tensor([])\n",
        "    target = torch.tensor([])\n",
        "    accstat = np.zeros((2,30))\n",
        "    sta = np.zeros((2,30))\n",
        "    with torch.no_grad():\n",
        "      for texts, labels in test_loader:\n",
        "          outputs = model(texts)\n",
        "          predicted = torch.argmax(outputs,1)\n",
        "          sta[labels.item()][texts.size(1)-21]+=1\n",
        "          if predicted == labels:\n",
        "            accstat[labels.item()][texts.size(1)-21]+=1\n",
        "          input = torch.cat((input,predicted))\n",
        "          target = torch.cat((target,labels))\n",
        "    input = input.numpy()\n",
        "    target = target.numpy()\n",
        "    accuracy = 100 * (input == target).sum() / len(target)\n",
        "   ## recall = binary_recall(input, target)\n",
        "    f1score = f1_score(y_pred=input,y_true=target)\n",
        "    print(f'Validation Accuracy: {accuracy:.2f}%')\n",
        "    print(f'Validation F1 score: {f1score:.2f}')\n",
        "    #sta里会有爆零的可能\n",
        "    return accstat/sta, accuracy, f1score"
      ],
      "metadata": {
        "id": "9zCRmXnPFV01"
      },
      "execution_count": 26,
      "outputs": []
    },
    {
      "cell_type": "code",
      "source": [
        "model_rnn.load_state_dict(torch.load(\"./model_rnn1.pth\"))\n",
        "#通过 load_state_dict 函数加载参数，torch.load() 函数中重要的一步是反序列化。\n",
        "model_lstm.load_state_dict(torch.load(\"./model_lstm1.pth\"))\n",
        "\n",
        "acc_rnn,_,_ = eval_general_model(model_rnn,general_dataloader)\n",
        "acc_lstm,_,_ = eval_general_model(model_lstm,general_dataloader)"
      ],
      "metadata": {
        "colab": {
          "base_uri": "https://localhost:8080/"
        },
        "id": "oapQ85JsDbwE",
        "outputId": "7a3452a1-2d74-477c-9afc-5a2a248772f8"
      },
      "execution_count": 27,
      "outputs": [
        {
          "output_type": "stream",
          "name": "stdout",
          "text": [
            "Validation Accuracy: 92.04%\n",
            "Validation F1 score: 0.14\n",
            "Validation Accuracy: 95.10%\n",
            "Validation F1 score: 0.72\n"
          ]
        }
      ]
    },
    {
      "cell_type": "code",
      "source": [
        "x_general_label = list()\n",
        "for x in range(21,51):\n",
        "  x_general_label.append(str(x))"
      ],
      "metadata": {
        "id": "_WAGlTquGqUP"
      },
      "execution_count": 28,
      "outputs": []
    },
    {
      "cell_type": "code",
      "source": [
        "plt.figure(figsize=(15, 4))\n",
        "\n",
        "x = np.arange(len(x_general_label))  # x轴刻度标签位置\n",
        "width = 0.25  # 柱子的宽度\n",
        "# 计算每个柱子在x轴上的位置，保证x轴刻度标签居中\n",
        "# x - width/2，x + width/2即每组数据在x轴上的位置\n",
        "plt.bar(x - width/2, acc_lstm[0], width, label='True Negative')\n",
        "plt.bar(x + width/2, acc_lstm[1], width, label='True Positive')\n",
        "plt.ylabel('Accuacy')\n",
        "plt.xticks(x, labels=x_general_label)\n",
        "plt.ylim(0,1.3)\n",
        "plt.legend()\n",
        "plt.title(\"Lstm ACC Distribution\")\n",
        "plt.savefig(\"./lstm_general_distribution.png\")"
      ],
      "metadata": {
        "colab": {
          "base_uri": "https://localhost:8080/",
          "height": 299
        },
        "id": "SOGxgjR6Fx0F",
        "outputId": "7e3e2c3e-e29d-4525-cc44-ff60973aaed0"
      },
      "execution_count": 30,
      "outputs": [
        {
          "output_type": "display_data",
          "data": {
            "text/plain": [
              "<Figure size 1500x400 with 1 Axes>"
            ],
            "image/png": "[encoded data removed]"
          },
          "metadata": {}
        }
      ]
    },
    {
      "cell_type": "code",
      "source": [
        "plt.figure(figsize=(15, 4))\n",
        "\n",
        "x = np.arange(len(x_general_label))  # x轴刻度标签位置\n",
        "width = 0.25  # 柱子的宽度\n",
        "# 计算每个柱子在x轴上的位置，保证x轴刻度标签居中\n",
        "# x - width/2，x + width/2即每组数据在x轴上的位置\n",
        "plt.bar(x - width/2, acc_rnn[0], width, label='True Negative')\n",
        "plt.bar(x + width/2, acc_rnn[1], width, label='True Positive')\n",
        "plt.ylabel('Accuracy')\n",
        "plt.xticks(x, labels=x_general_label)\n",
        "plt.ylim(0,1.3)\n",
        "plt.legend()\n",
        "plt.title(\"Rnn ACC Distribution\")\n",
        "plt.savefig(\"./Rnn_general_distribution.png\")"
      ],
      "metadata": {
        "colab": {
          "base_uri": "https://localhost:8080/",
          "height": 299
        },
        "id": "YaOQ_3fyF3i-",
        "outputId": "d1705534-5c49-49f0-b309-07497487e690"
      },
      "execution_count": 32,
      "outputs": [
        {
          "output_type": "display_data",
          "data": {
            "text/plain": [
              "<Figure size 1500x400 with 1 Axes>"
            ],
            "image/png": "[encoded data removed]"
          },
          "metadata": {}
        }
      ]
    }
  ],
  "metadata": {
    "colab": {
      "provenance": [],
      "authorship_tag": "ABX9TyPOI7vdS7BbzrQCs6xMES7B",
      "include_colab_link": true
    },
    "kernelspec": {
      "display_name": "Python 3",
      "name": "python3"
    },
    "language_info": {
      "name": "python"
    },
    "widgets": {
      "application/vnd.jupyter.widget-state+json": {
        "1e7ff96e9d674e63a62c3f2bca483f16": {
          "model_module": "@jupyter-widgets/controls",
          "model_name": "VBoxModel",
          "model_module_version": "1.5.0",
          "state": {
            "_dom_classes": [],
            "_model_module": "@jupyter-widgets/controls",
            "_model_module_version": "1.5.0",
            "_model_name": "VBoxModel",
            "_view_count": null,
            "_view_module": "@jupyter-widgets/controls",
            "_view_module_version": "1.5.0",
            "_view_name": "VBoxView",
            "box_style": "",
            "children": [
              "IPY_MODEL_ad6ef7d376d64a9798c1f671906f5629",
              "IPY_MODEL_0eccc835c61142ada5d1b52542499117"
            ],
            "layout": "IPY_MODEL_bdda3eb691af4ed6a7965275b2b9aef1"
          }
        },
        "ad6ef7d376d64a9798c1f671906f5629": {
          "model_module": "@jupyter-widgets/controls",
          "model_name": "LabelModel",
          "model_module_version": "1.5.0",
          "state": {
            "_dom_classes": [],
            "_model_module": "@jupyter-widgets/controls",
            "_model_module_version": "1.5.0",
            "_model_name": "LabelModel",
            "_view_count": null,
            "_view_module": "@jupyter-widgets/controls",
            "_view_module_version": "1.5.0",
            "_view_name": "LabelView",
            "description": "",
            "description_tooltip": null,
            "layout": "IPY_MODEL_123586d4534740b8987e84a747b1a607",
            "placeholder": "​",
            "style": "IPY_MODEL_348eaea947b54a6f89602f92c9bcc948",
            "value": "0.054 MB of 0.054 MB uploaded\r"
          }
        },
        "0eccc835c61142ada5d1b52542499117": {
          "model_module": "@jupyter-widgets/controls",
          "model_name": "FloatProgressModel",
          "model_module_version": "1.5.0",
          "state": {
            "_dom_classes": [],
            "_model_module": "@jupyter-widgets/controls",
            "_model_module_version": "1.5.0",
            "_model_name": "FloatProgressModel",
            "_view_count": null,
            "_view_module": "@jupyter-widgets/controls",
            "_view_module_version": "1.5.0",
            "_view_name": "ProgressView",
            "bar_style": "",
            "description": "",
            "description_tooltip": null,
            "layout": "IPY_MODEL_767b1edca9524e6881a1edae2c62dc21",
            "max": 1,
            "min": 0,
            "orientation": "horizontal",
            "style": "IPY_MODEL_87557269a1ce46d881d327f6709844aa",
            "value": 1
          }
        },
        "bdda3eb691af4ed6a7965275b2b9aef1": {
          "model_module": "@jupyter-widgets/base",
          "model_name": "LayoutModel",
          "model_module_version": "1.2.0",
          "state": {
            "_model_module": "@jupyter-widgets/base",
            "_model_module_version": "1.2.0",
            "_model_name": "LayoutModel",
            "_view_count": null,
            "_view_module": "@jupyter-widgets/base",
            "_view_module_version": "1.2.0",
            "_view_name": "LayoutView",
            "align_content": null,
            "align_items": null,
            "align_self": null,
            "border": null,
            "bottom": null,
            "display": null,
            "flex": null,
            "flex_flow": null,
            "grid_area": null,
            "grid_auto_columns": null,
            "grid_auto_flow": null,
            "grid_auto_rows": null,
            "grid_column": null,
            "grid_gap": null,
            "grid_row": null,
            "grid_template_areas": null,
            "grid_template_columns": null,
            "grid_template_rows": null,
            "height": null,
            "justify_content": null,
            "justify_items": null,
            "left": null,
            "margin": null,
            "max_height": null,
            "max_width": null,
            "min_height": null,
            "min_width": null,
            "object_fit": null,
            "object_position": null,
            "order": null,
            "overflow": null,
            "overflow_x": null,
            "overflow_y": null,
            "padding": null,
            "right": null,
            "top": null,
            "visibility": null,
            "width": null
          }
        },
        "123586d4534740b8987e84a747b1a607": {
          "model_module": "@jupyter-widgets/base",
          "model_name": "LayoutModel",
          "model_module_version": "1.2.0",
          "state": {
            "_model_module": "@jupyter-widgets/base",
            "_model_module_version": "1.2.0",
            "_model_name": "LayoutModel",
            "_view_count": null,
            "_view_module": "@jupyter-widgets/base",
            "_view_module_version": "1.2.0",
            "_view_name": "LayoutView",
            "align_content": null,
            "align_items": null,
            "align_self": null,
            "border": null,
            "bottom": null,
            "display": null,
            "flex": null,
            "flex_flow": null,
            "grid_area": null,
            "grid_auto_columns": null,
            "grid_auto_flow": null,
            "grid_auto_rows": null,
            "grid_column": null,
            "grid_gap": null,
            "grid_row": null,
            "grid_template_areas": null,
            "grid_template_columns": null,
            "grid_template_rows": null,
            "height": null,
            "justify_content": null,
            "justify_items": null,
            "left": null,
            "margin": null,
            "max_height": null,
            "max_width": null,
            "min_height": null,
            "min_width": null,
            "object_fit": null,
            "object_position": null,
            "order": null,
            "overflow": null,
            "overflow_x": null,
            "overflow_y": null,
            "padding": null,
            "right": null,
            "top": null,
            "visibility": null,
            "width": null
          }
        },
        "348eaea947b54a6f89602f92c9bcc948": {
          "model_module": "@jupyter-widgets/controls",
          "model_name": "DescriptionStyleModel",
          "model_module_version": "1.5.0",
          "state": {
            "_model_module": "@jupyter-widgets/controls",
            "_model_module_version": "1.5.0",
            "_model_name": "DescriptionStyleModel",
            "_view_count": null,
            "_view_module": "@jupyter-widgets/base",
            "_view_module_version": "1.2.0",
            "_view_name": "StyleView",
            "description_width": ""
          }
        },
        "767b1edca9524e6881a1edae2c62dc21": {
          "model_module": "@jupyter-widgets/base",
          "model_name": "LayoutModel",
          "model_module_version": "1.2.0",
          "state": {
            "_model_module": "@jupyter-widgets/base",
            "_model_module_version": "1.2.0",
            "_model_name": "LayoutModel",
            "_view_count": null,
            "_view_module": "@jupyter-widgets/base",
            "_view_module_version": "1.2.0",
            "_view_name": "LayoutView",
            "align_content": null,
            "align_items": null,
            "align_self": null,
            "border": null,
            "bottom": null,
            "display": null,
            "flex": null,
            "flex_flow": null,
            "grid_area": null,
            "grid_auto_columns": null,
            "grid_auto_flow": null,
            "grid_auto_rows": null,
            "grid_column": null,
            "grid_gap": null,
            "grid_row": null,
            "grid_template_areas": null,
            "grid_template_columns": null,
            "grid_template_rows": null,
            "height": null,
            "justify_content": null,
            "justify_items": null,
            "left": null,
            "margin": null,
            "max_height": null,
            "max_width": null,
            "min_height": null,
            "min_width": null,
            "object_fit": null,
            "object_position": null,
            "order": null,
            "overflow": null,
            "overflow_x": null,
            "overflow_y": null,
            "padding": null,
            "right": null,
            "top": null,
            "visibility": null,
            "width": null
          }
        },
        "87557269a1ce46d881d327f6709844aa": {
          "model_module": "@jupyter-widgets/controls",
          "model_name": "ProgressStyleModel",
          "model_module_version": "1.5.0",
          "state": {
            "_model_module": "@jupyter-widgets/controls",
            "_model_module_version": "1.5.0",
            "_model_name": "ProgressStyleModel",
            "_view_count": null,
            "_view_module": "@jupyter-widgets/base",
            "_view_module_version": "1.2.0",
            "_view_name": "StyleView",
            "bar_color": null,
            "description_width": ""
          }
        },
        "f680e205f1394cb1833c091192c24be8": {
          "model_module": "@jupyter-widgets/controls",
          "model_name": "VBoxModel",
          "model_module_version": "1.5.0",
          "state": {
            "_dom_classes": [],
            "_model_module": "@jupyter-widgets/controls",
            "_model_module_version": "1.5.0",
            "_model_name": "VBoxModel",
            "_view_count": null,
            "_view_module": "@jupyter-widgets/controls",
            "_view_module_version": "1.5.0",
            "_view_name": "VBoxView",
            "box_style": "",
            "children": [
              "IPY_MODEL_75979b666fc04a8eb7e358e17605be11",
              "IPY_MODEL_0ba51afccad5404bbf224e5eeed87ce4"
            ],
            "layout": "IPY_MODEL_31a94dbf1a154362a014ebcbb9cd20ee"
          }
        },
        "75979b666fc04a8eb7e358e17605be11": {
          "model_module": "@jupyter-widgets/controls",
          "model_name": "LabelModel",
          "model_module_version": "1.5.0",
          "state": {
            "_dom_classes": [],
            "_model_module": "@jupyter-widgets/controls",
            "_model_module_version": "1.5.0",
            "_model_name": "LabelModel",
            "_view_count": null,
            "_view_module": "@jupyter-widgets/controls",
            "_view_module_version": "1.5.0",
            "_view_name": "LabelView",
            "description": "",
            "description_tooltip": null,
            "layout": "IPY_MODEL_d9570802d18a4bdca20d904469155933",
            "placeholder": "​",
            "style": "IPY_MODEL_62c8fef5395947d1ac5bc19442426cd2",
            "value": "0.053 MB of 0.053 MB uploaded\r"
          }
        },
        "0ba51afccad5404bbf224e5eeed87ce4": {
          "model_module": "@jupyter-widgets/controls",
          "model_name": "FloatProgressModel",
          "model_module_version": "1.5.0",
          "state": {
            "_dom_classes": [],
            "_model_module": "@jupyter-widgets/controls",
            "_model_module_version": "1.5.0",
            "_model_name": "FloatProgressModel",
            "_view_count": null,
            "_view_module": "@jupyter-widgets/controls",
            "_view_module_version": "1.5.0",
            "_view_name": "ProgressView",
            "bar_style": "",
            "description": "",
            "description_tooltip": null,
            "layout": "IPY_MODEL_1f73ea19996d478ba2528e2d39c01e38",
            "max": 1,
            "min": 0,
            "orientation": "horizontal",
            "style": "IPY_MODEL_87074974bef34e289f5f7db13843d350",
            "value": 1
          }
        },
        "31a94dbf1a154362a014ebcbb9cd20ee": {
          "model_module": "@jupyter-widgets/base",
          "model_name": "LayoutModel",
          "model_module_version": "1.2.0",
          "state": {
            "_model_module": "@jupyter-widgets/base",
            "_model_module_version": "1.2.0",
            "_model_name": "LayoutModel",
            "_view_count": null,
            "_view_module": "@jupyter-widgets/base",
            "_view_module_version": "1.2.0",
            "_view_name": "LayoutView",
            "align_content": null,
            "align_items": null,
            "align_self": null,
            "border": null,
            "bottom": null,
            "display": null,
            "flex": null,
            "flex_flow": null,
            "grid_area": null,
            "grid_auto_columns": null,
            "grid_auto_flow": null,
            "grid_auto_rows": null,
            "grid_column": null,
            "grid_gap": null,
            "grid_row": null,
            "grid_template_areas": null,
            "grid_template_columns": null,
            "grid_template_rows": null,
            "height": null,
            "justify_content": null,
            "justify_items": null,
            "left": null,
            "margin": null,
            "max_height": null,
            "max_width": null,
            "min_height": null,
            "min_width": null,
            "object_fit": null,
            "object_position": null,
            "order": null,
            "overflow": null,
            "overflow_x": null,
            "overflow_y": null,
            "padding": null,
            "right": null,
            "top": null,
            "visibility": null,
            "width": null
          }
        },
        "d9570802d18a4bdca20d904469155933": {
          "model_module": "@jupyter-widgets/base",
          "model_name": "LayoutModel",
          "model_module_version": "1.2.0",
          "state": {
            "_model_module": "@jupyter-widgets/base",
            "_model_module_version": "1.2.0",
            "_model_name": "LayoutModel",
            "_view_count": null,
            "_view_module": "@jupyter-widgets/base",
            "_view_module_version": "1.2.0",
            "_view_name": "LayoutView",
            "align_content": null,
            "align_items": null,
            "align_self": null,
            "border": null,
            "bottom": null,
            "display": null,
            "flex": null,
            "flex_flow": null,
            "grid_area": null,
            "grid_auto_columns": null,
            "grid_auto_flow": null,
            "grid_auto_rows": null,
            "grid_column": null,
            "grid_gap": null,
            "grid_row": null,
            "grid_template_areas": null,
            "grid_template_columns": null,
            "grid_template_rows": null,
            "height": null,
            "justify_content": null,
            "justify_items": null,
            "left": null,
            "margin": null,
            "max_height": null,
            "max_width": null,
            "min_height": null,
            "min_width": null,
            "object_fit": null,
            "object_position": null,
            "order": null,
            "overflow": null,
            "overflow_x": null,
            "overflow_y": null,
            "padding": null,
            "right": null,
            "top": null,
            "visibility": null,
            "width": null
          }
        },
        "62c8fef5395947d1ac5bc19442426cd2": {
          "model_module": "@jupyter-widgets/controls",
          "model_name": "DescriptionStyleModel",
          "model_module_version": "1.5.0",
          "state": {
            "_model_module": "@jupyter-widgets/controls",
            "_model_module_version": "1.5.0",
            "_model_name": "DescriptionStyleModel",
            "_view_count": null,
            "_view_module": "@jupyter-widgets/base",
            "_view_module_version": "1.2.0",
            "_view_name": "StyleView",
            "description_width": ""
          }
        },
        "1f73ea19996d478ba2528e2d39c01e38": {
          "model_module": "@jupyter-widgets/base",
          "model_name": "LayoutModel",
          "model_module_version": "1.2.0",
          "state": {
            "_model_module": "@jupyter-widgets/base",
            "_model_module_version": "1.2.0",
            "_model_name": "LayoutModel",
            "_view_count": null,
            "_view_module": "@jupyter-widgets/base",
            "_view_module_version": "1.2.0",
            "_view_name": "LayoutView",
            "align_content": null,
            "align_items": null,
            "align_self": null,
            "border": null,
            "bottom": null,
            "display": null,
            "flex": null,
            "flex_flow": null,
            "grid_area": null,
            "grid_auto_columns": null,
            "grid_auto_flow": null,
            "grid_auto_rows": null,
            "grid_column": null,
            "grid_gap": null,
            "grid_row": null,
            "grid_template_areas": null,
            "grid_template_columns": null,
            "grid_template_rows": null,
            "height": null,
            "justify_content": null,
            "justify_items": null,
            "left": null,
            "margin": null,
            "max_height": null,
            "max_width": null,
            "min_height": null,
            "min_width": null,
            "object_fit": null,
            "object_position": null,
            "order": null,
            "overflow": null,
            "overflow_x": null,
            "overflow_y": null,
            "padding": null,
            "right": null,
            "top": null,
            "visibility": null,
            "width": null
          }
        },
        "87074974bef34e289f5f7db13843d350": {
          "model_module": "@jupyter-widgets/controls",
          "model_name": "ProgressStyleModel",
          "model_module_version": "1.5.0",
          "state": {
            "_model_module": "@jupyter-widgets/controls",
            "_model_module_version": "1.5.0",
            "_model_name": "ProgressStyleModel",
            "_view_count": null,
            "_view_module": "@jupyter-widgets/base",
            "_view_module_version": "1.2.0",
            "_view_name": "StyleView",
            "bar_color": null,
            "description_width": ""
          }
        },
        "94e96e94275e4715a3874ff15ab6e3b4": {
          "model_module": "@jupyter-widgets/controls",
          "model_name": "VBoxModel",
          "model_module_version": "1.5.0",
          "state": {
            "_dom_classes": [],
            "_model_module": "@jupyter-widgets/controls",
            "_model_module_version": "1.5.0",
            "_model_name": "VBoxModel",
            "_view_count": null,
            "_view_module": "@jupyter-widgets/controls",
            "_view_module_version": "1.5.0",
            "_view_name": "VBoxView",
            "box_style": "",
            "children": [
              "IPY_MODEL_644dbcdf604e436c83479f37fe23216c",
              "IPY_MODEL_6a40f9fcd9e0480a94b9ac149c826dc2"
            ],
            "layout": "IPY_MODEL_c3f9ad4923d749a29c21ac010a99e171"
          }
        },
        "644dbcdf604e436c83479f37fe23216c": {
          "model_module": "@jupyter-widgets/controls",
          "model_name": "LabelModel",
          "model_module_version": "1.5.0",
          "state": {
            "_dom_classes": [],
            "_model_module": "@jupyter-widgets/controls",
            "_model_module_version": "1.5.0",
            "_model_name": "LabelModel",
            "_view_count": null,
            "_view_module": "@jupyter-widgets/controls",
            "_view_module_version": "1.5.0",
            "_view_name": "LabelView",
            "description": "",
            "description_tooltip": null,
            "layout": "IPY_MODEL_bfcb1f71f2194d06ad66570483e423f0",
            "placeholder": "​",
            "style": "IPY_MODEL_59382f647d9044e4a0035508aaf77d9a",
            "value": "0.054 MB of 0.054 MB uploaded\r"
          }
        },
        "6a40f9fcd9e0480a94b9ac149c826dc2": {
          "model_module": "@jupyter-widgets/controls",
          "model_name": "FloatProgressModel",
          "model_module_version": "1.5.0",
          "state": {
            "_dom_classes": [],
            "_model_module": "@jupyter-widgets/controls",
            "_model_module_version": "1.5.0",
            "_model_name": "FloatProgressModel",
            "_view_count": null,
            "_view_module": "@jupyter-widgets/controls",
            "_view_module_version": "1.5.0",
            "_view_name": "ProgressView",
            "bar_style": "",
            "description": "",
            "description_tooltip": null,
            "layout": "IPY_MODEL_fe36dc1abacb49eda55cbf693e519657",
            "max": 1,
            "min": 0,
            "orientation": "horizontal",
            "style": "IPY_MODEL_36aa0aeae97049e0aed1295da6ebf415",
            "value": 1
          }
        },
        "c3f9ad4923d749a29c21ac010a99e171": {
          "model_module": "@jupyter-widgets/base",
          "model_name": "LayoutModel",
          "model_module_version": "1.2.0",
          "state": {
            "_model_module": "@jupyter-widgets/base",
            "_model_module_version": "1.2.0",
            "_model_name": "LayoutModel",
            "_view_count": null,
            "_view_module": "@jupyter-widgets/base",
            "_view_module_version": "1.2.0",
            "_view_name": "LayoutView",
            "align_content": null,
            "align_items": null,
            "align_self": null,
            "border": null,
            "bottom": null,
            "display": null,
            "flex": null,
            "flex_flow": null,
            "grid_area": null,
            "grid_auto_columns": null,
            "grid_auto_flow": null,
            "grid_auto_rows": null,
            "grid_column": null,
            "grid_gap": null,
            "grid_row": null,
            "grid_template_areas": null,
            "grid_template_columns": null,
            "grid_template_rows": null,
            "height": null,
            "justify_content": null,
            "justify_items": null,
            "left": null,
            "margin": null,
            "max_height": null,
            "max_width": null,
            "min_height": null,
            "min_width": null,
            "object_fit": null,
            "object_position": null,
            "order": null,
            "overflow": null,
            "overflow_x": null,
            "overflow_y": null,
            "padding": null,
            "right": null,
            "top": null,
            "visibility": null,
            "width": null
          }
        },
        "bfcb1f71f2194d06ad66570483e423f0": {
          "model_module": "@jupyter-widgets/base",
          "model_name": "LayoutModel",
          "model_module_version": "1.2.0",
          "state": {
            "_model_module": "@jupyter-widgets/base",
            "_model_module_version": "1.2.0",
            "_model_name": "LayoutModel",
            "_view_count": null,
            "_view_module": "@jupyter-widgets/base",
            "_view_module_version": "1.2.0",
            "_view_name": "LayoutView",
            "align_content": null,
            "align_items": null,
            "align_self": null,
            "border": null,
            "bottom": null,
            "display": null,
            "flex": null,
            "flex_flow": null,
            "grid_area": null,
            "grid_auto_columns": null,
            "grid_auto_flow": null,
            "grid_auto_rows": null,
            "grid_column": null,
            "grid_gap": null,
            "grid_row": null,
            "grid_template_areas": null,
            "grid_template_columns": null,
            "grid_template_rows": null,
            "height": null,
            "justify_content": null,
            "justify_items": null,
            "left": null,
            "margin": null,
            "max_height": null,
            "max_width": null,
            "min_height": null,
            "min_width": null,
            "object_fit": null,
            "object_position": null,
            "order": null,
            "overflow": null,
            "overflow_x": null,
            "overflow_y": null,
            "padding": null,
            "right": null,
            "top": null,
            "visibility": null,
            "width": null
          }
        },
        "59382f647d9044e4a0035508aaf77d9a": {
          "model_module": "@jupyter-widgets/controls",
          "model_name": "DescriptionStyleModel",
          "model_module_version": "1.5.0",
          "state": {
            "_model_module": "@jupyter-widgets/controls",
            "_model_module_version": "1.5.0",
            "_model_name": "DescriptionStyleModel",
            "_view_count": null,
            "_view_module": "@jupyter-widgets/base",
            "_view_module_version": "1.2.0",
            "_view_name": "StyleView",
            "description_width": ""
          }
        },
        "fe36dc1abacb49eda55cbf693e519657": {
          "model_module": "@jupyter-widgets/base",
          "model_name": "LayoutModel",
          "model_module_version": "1.2.0",
          "state": {
            "_model_module": "@jupyter-widgets/base",
            "_model_module_version": "1.2.0",
            "_model_name": "LayoutModel",
            "_view_count": null,
            "_view_module": "@jupyter-widgets/base",
            "_view_module_version": "1.2.0",
            "_view_name": "LayoutView",
            "align_content": null,
            "align_items": null,
            "align_self": null,
            "border": null,
            "bottom": null,
            "display": null,
            "flex": null,
            "flex_flow": null,
            "grid_area": null,
            "grid_auto_columns": null,
            "grid_auto_flow": null,
            "grid_auto_rows": null,
            "grid_column": null,
            "grid_gap": null,
            "grid_row": null,
            "grid_template_areas": null,
            "grid_template_columns": null,
            "grid_template_rows": null,
            "height": null,
            "justify_content": null,
            "justify_items": null,
            "left": null,
            "margin": null,
            "max_height": null,
            "max_width": null,
            "min_height": null,
            "min_width": null,
            "object_fit": null,
            "object_position": null,
            "order": null,
            "overflow": null,
            "overflow_x": null,
            "overflow_y": null,
            "padding": null,
            "right": null,
            "top": null,
            "visibility": null,
            "width": null
          }
        },
        "36aa0aeae97049e0aed1295da6ebf415": {
          "model_module": "@jupyter-widgets/controls",
          "model_name": "ProgressStyleModel",
          "model_module_version": "1.5.0",
          "state": {
            "_model_module": "@jupyter-widgets/controls",
            "_model_module_version": "1.5.0",
            "_model_name": "ProgressStyleModel",
            "_view_count": null,
            "_view_module": "@jupyter-widgets/base",
            "_view_module_version": "1.2.0",
            "_view_name": "StyleView",
            "bar_color": null,
            "description_width": ""
          }
        },
        "4beb6e2a9a0a4f8fa7205d5291f23074": {
          "model_module": "@jupyter-widgets/controls",
          "model_name": "VBoxModel",
          "model_module_version": "1.5.0",
          "state": {
            "_dom_classes": [],
            "_model_module": "@jupyter-widgets/controls",
            "_model_module_version": "1.5.0",
            "_model_name": "VBoxModel",
            "_view_count": null,
            "_view_module": "@jupyter-widgets/controls",
            "_view_module_version": "1.5.0",
            "_view_name": "VBoxView",
            "box_style": "",
            "children": [
              "IPY_MODEL_eee9921dceea4827a78d326c02881d6c",
              "IPY_MODEL_d503c455edd344939a8a3a4a602abb58"
            ],
            "layout": "IPY_MODEL_a9d43b0e82724df7b191870b8dd48ff2"
          }
        },
        "eee9921dceea4827a78d326c02881d6c": {
          "model_module": "@jupyter-widgets/controls",
          "model_name": "LabelModel",
          "model_module_version": "1.5.0",
          "state": {
            "_dom_classes": [],
            "_model_module": "@jupyter-widgets/controls",
            "_model_module_version": "1.5.0",
            "_model_name": "LabelModel",
            "_view_count": null,
            "_view_module": "@jupyter-widgets/controls",
            "_view_module_version": "1.5.0",
            "_view_name": "LabelView",
            "description": "",
            "description_tooltip": null,
            "layout": "IPY_MODEL_efed8dcba79845888d90ca77b5e03a04",
            "placeholder": "​",
            "style": "IPY_MODEL_8db86510a88141378693e9a70d54b174",
            "value": "0.039 MB of 0.039 MB uploaded\r"
          }
        },
        "d503c455edd344939a8a3a4a602abb58": {
          "model_module": "@jupyter-widgets/controls",
          "model_name": "FloatProgressModel",
          "model_module_version": "1.5.0",
          "state": {
            "_dom_classes": [],
            "_model_module": "@jupyter-widgets/controls",
            "_model_module_version": "1.5.0",
            "_model_name": "FloatProgressModel",
            "_view_count": null,
            "_view_module": "@jupyter-widgets/controls",
            "_view_module_version": "1.5.0",
            "_view_name": "ProgressView",
            "bar_style": "",
            "description": "",
            "description_tooltip": null,
            "layout": "IPY_MODEL_3ac8a849ead143d3a14cc612edfae8fe",
            "max": 1,
            "min": 0,
            "orientation": "horizontal",
            "style": "IPY_MODEL_8d70019dd415434aa6da96f5d88ac769",
            "value": 1
          }
        },
        "a9d43b0e82724df7b191870b8dd48ff2": {
          "model_module": "@jupyter-widgets/base",
          "model_name": "LayoutModel",
          "model_module_version": "1.2.0",
          "state": {
            "_model_module": "@jupyter-widgets/base",
            "_model_module_version": "1.2.0",
            "_model_name": "LayoutModel",
            "_view_count": null,
            "_view_module": "@jupyter-widgets/base",
            "_view_module_version": "1.2.0",
            "_view_name": "LayoutView",
            "align_content": null,
            "align_items": null,
            "align_self": null,
            "border": null,
            "bottom": null,
            "display": null,
            "flex": null,
            "flex_flow": null,
            "grid_area": null,
            "grid_auto_columns": null,
            "grid_auto_flow": null,
            "grid_auto_rows": null,
            "grid_column": null,
            "grid_gap": null,
            "grid_row": null,
            "grid_template_areas": null,
            "grid_template_columns": null,
            "grid_template_rows": null,
            "height": null,
            "justify_content": null,
            "justify_items": null,
            "left": null,
            "margin": null,
            "max_height": null,
            "max_width": null,
            "min_height": null,
            "min_width": null,
            "object_fit": null,
            "object_position": null,
            "order": null,
            "overflow": null,
            "overflow_x": null,
            "overflow_y": null,
            "padding": null,
            "right": null,
            "top": null,
            "visibility": null,
            "width": null
          }
        },
        "efed8dcba79845888d90ca77b5e03a04": {
          "model_module": "@jupyter-widgets/base",
          "model_name": "LayoutModel",
          "model_module_version": "1.2.0",
          "state": {
            "_model_module": "@jupyter-widgets/base",
            "_model_module_version": "1.2.0",
            "_model_name": "LayoutModel",
            "_view_count": null,
            "_view_module": "@jupyter-widgets/base",
            "_view_module_version": "1.2.0",
            "_view_name": "LayoutView",
            "align_content": null,
            "align_items": null,
            "align_self": null,
            "border": null,
            "bottom": null,
            "display": null,
            "flex": null,
            "flex_flow": null,
            "grid_area": null,
            "grid_auto_columns": null,
            "grid_auto_flow": null,
            "grid_auto_rows": null,
            "grid_column": null,
            "grid_gap": null,
            "grid_row": null,
            "grid_template_areas": null,
            "grid_template_columns": null,
            "grid_template_rows": null,
            "height": null,
            "justify_content": null,
            "justify_items": null,
            "left": null,
            "margin": null,
            "max_height": null,
            "max_width": null,
            "min_height": null,
            "min_width": null,
            "object_fit": null,
            "object_position": null,
            "order": null,
            "overflow": null,
            "overflow_x": null,
            "overflow_y": null,
            "padding": null,
            "right": null,
            "top": null,
            "visibility": null,
            "width": null
          }
        },
        "8db86510a88141378693e9a70d54b174": {
          "model_module": "@jupyter-widgets/controls",
          "model_name": "DescriptionStyleModel",
          "model_module_version": "1.5.0",
          "state": {
            "_model_module": "@jupyter-widgets/controls",
            "_model_module_version": "1.5.0",
            "_model_name": "DescriptionStyleModel",
            "_view_count": null,
            "_view_module": "@jupyter-widgets/base",
            "_view_module_version": "1.2.0",
            "_view_name": "StyleView",
            "description_width": ""
          }
        },
        "3ac8a849ead143d3a14cc612edfae8fe": {
          "model_module": "@jupyter-widgets/base",
          "model_name": "LayoutModel",
          "model_module_version": "1.2.0",
          "state": {
            "_model_module": "@jupyter-widgets/base",
            "_model_module_version": "1.2.0",
            "_model_name": "LayoutModel",
            "_view_count": null,
            "_view_module": "@jupyter-widgets/base",
            "_view_module_version": "1.2.0",
            "_view_name": "LayoutView",
            "align_content": null,
            "align_items": null,
            "align_self": null,
            "border": null,
            "bottom": null,
            "display": null,
            "flex": null,
            "flex_flow": null,
            "grid_area": null,
            "grid_auto_columns": null,
            "grid_auto_flow": null,
            "grid_auto_rows": null,
            "grid_column": null,
            "grid_gap": null,
            "grid_row": null,
            "grid_template_areas": null,
            "grid_template_columns": null,
            "grid_template_rows": null,
            "height": null,
            "justify_content": null,
            "justify_items": null,
            "left": null,
            "margin": null,
            "max_height": null,
            "max_width": null,
            "min_height": null,
            "min_width": null,
            "object_fit": null,
            "object_position": null,
            "order": null,
            "overflow": null,
            "overflow_x": null,
            "overflow_y": null,
            "padding": null,
            "right": null,
            "top": null,
            "visibility": null,
            "width": null
          }
        },
        "8d70019dd415434aa6da96f5d88ac769": {
          "model_module": "@jupyter-widgets/controls",
          "model_name": "ProgressStyleModel",
          "model_module_version": "1.5.0",
          "state": {
            "_model_module": "@jupyter-widgets/controls",
            "_model_module_version": "1.5.0",
            "_model_name": "ProgressStyleModel",
            "_view_count": null,
            "_view_module": "@jupyter-widgets/base",
            "_view_module_version": "1.2.0",
            "_view_name": "StyleView",
            "bar_color": null,
            "description_width": ""
          }
        },
        "33cb2d26ff9b4d86a9d331575304a085": {
          "model_module": "@jupyter-widgets/controls",
          "model_name": "VBoxModel",
          "model_module_version": "1.5.0",
          "state": {
            "_dom_classes": [],
            "_model_module": "@jupyter-widgets/controls",
            "_model_module_version": "1.5.0",
            "_model_name": "VBoxModel",
            "_view_count": null,
            "_view_module": "@jupyter-widgets/controls",
            "_view_module_version": "1.5.0",
            "_view_name": "VBoxView",
            "box_style": "",
            "children": [
              "IPY_MODEL_f5926bdd752c4280957dc961909ba14f",
              "IPY_MODEL_de2afea924b74759b00b9defa0ee5d24"
            ],
            "layout": "IPY_MODEL_1a497d5a3dff4eb7bcca10ce584dbccf"
          }
        },
        "f5926bdd752c4280957dc961909ba14f": {
          "model_module": "@jupyter-widgets/controls",
          "model_name": "LabelModel",
          "model_module_version": "1.5.0",
          "state": {
            "_dom_classes": [],
            "_model_module": "@jupyter-widgets/controls",
            "_model_module_version": "1.5.0",
            "_model_name": "LabelModel",
            "_view_count": null,
            "_view_module": "@jupyter-widgets/controls",
            "_view_module_version": "1.5.0",
            "_view_name": "LabelView",
            "description": "",
            "description_tooltip": null,
            "layout": "IPY_MODEL_a269a2a3cf5d4430a27e288940bf39f0",
            "placeholder": "​",
            "style": "IPY_MODEL_b2e15dc6f1714e618430805071695cc9",
            "value": "0.083 MB of 0.083 MB uploaded\r"
          }
        },
        "de2afea924b74759b00b9defa0ee5d24": {
          "model_module": "@jupyter-widgets/controls",
          "model_name": "FloatProgressModel",
          "model_module_version": "1.5.0",
          "state": {
            "_dom_classes": [],
            "_model_module": "@jupyter-widgets/controls",
            "_model_module_version": "1.5.0",
            "_model_name": "FloatProgressModel",
            "_view_count": null,
            "_view_module": "@jupyter-widgets/controls",
            "_view_module_version": "1.5.0",
            "_view_name": "ProgressView",
            "bar_style": "",
            "description": "",
            "description_tooltip": null,
            "layout": "IPY_MODEL_3374ed174a4a42e389d5c803127fe1ac",
            "max": 1,
            "min": 0,
            "orientation": "horizontal",
            "style": "IPY_MODEL_72809a002b1649b8a0ad77d3d5de1b35",
            "value": 1
          }
        },
        "1a497d5a3dff4eb7bcca10ce584dbccf": {
          "model_module": "@jupyter-widgets/base",
          "model_name": "LayoutModel",
          "model_module_version": "1.2.0",
          "state": {
            "_model_module": "@jupyter-widgets/base",
            "_model_module_version": "1.2.0",
            "_model_name": "LayoutModel",
            "_view_count": null,
            "_view_module": "@jupyter-widgets/base",
            "_view_module_version": "1.2.0",
            "_view_name": "LayoutView",
            "align_content": null,
            "align_items": null,
            "align_self": null,
            "border": null,
            "bottom": null,
            "display": null,
            "flex": null,
            "flex_flow": null,
            "grid_area": null,
            "grid_auto_columns": null,
            "grid_auto_flow": null,
            "grid_auto_rows": null,
            "grid_column": null,
            "grid_gap": null,
            "grid_row": null,
            "grid_template_areas": null,
            "grid_template_columns": null,
            "grid_template_rows": null,
            "height": null,
            "justify_content": null,
            "justify_items": null,
            "left": null,
            "margin": null,
            "max_height": null,
            "max_width": null,
            "min_height": null,
            "min_width": null,
            "object_fit": null,
            "object_position": null,
            "order": null,
            "overflow": null,
            "overflow_x": null,
            "overflow_y": null,
            "padding": null,
            "right": null,
            "top": null,
            "visibility": null,
            "width": null
          }
        },
        "a269a2a3cf5d4430a27e288940bf39f0": {
          "model_module": "@jupyter-widgets/base",
          "model_name": "LayoutModel",
          "model_module_version": "1.2.0",
          "state": {
            "_model_module": "@jupyter-widgets/base",
            "_model_module_version": "1.2.0",
            "_model_name": "LayoutModel",
            "_view_count": null,
            "_view_module": "@jupyter-widgets/base",
            "_view_module_version": "1.2.0",
            "_view_name": "LayoutView",
            "align_content": null,
            "align_items": null,
            "align_self": null,
            "border": null,
            "bottom": null,
            "display": null,
            "flex": null,
            "flex_flow": null,
            "grid_area": null,
            "grid_auto_columns": null,
            "grid_auto_flow": null,
            "grid_auto_rows": null,
            "grid_column": null,
            "grid_gap": null,
            "grid_row": null,
            "grid_template_areas": null,
            "grid_template_columns": null,
            "grid_template_rows": null,
            "height": null,
            "justify_content": null,
            "justify_items": null,
            "left": null,
            "margin": null,
            "max_height": null,
            "max_width": null,
            "min_height": null,
            "min_width": null,
            "object_fit": null,
            "object_position": null,
            "order": null,
            "overflow": null,
            "overflow_x": null,
            "overflow_y": null,
            "padding": null,
            "right": null,
            "top": null,
            "visibility": null,
            "width": null
          }
        },
        "b2e15dc6f1714e618430805071695cc9": {
          "model_module": "@jupyter-widgets/controls",
          "model_name": "DescriptionStyleModel",
          "model_module_version": "1.5.0",
          "state": {
            "_model_module": "@jupyter-widgets/controls",
            "_model_module_version": "1.5.0",
            "_model_name": "DescriptionStyleModel",
            "_view_count": null,
            "_view_module": "@jupyter-widgets/base",
            "_view_module_version": "1.2.0",
            "_view_name": "StyleView",
            "description_width": ""
          }
        },
        "3374ed174a4a42e389d5c803127fe1ac": {
          "model_module": "@jupyter-widgets/base",
          "model_name": "LayoutModel",
          "model_module_version": "1.2.0",
          "state": {
            "_model_module": "@jupyter-widgets/base",
            "_model_module_version": "1.2.0",
            "_model_name": "LayoutModel",
            "_view_count": null,
            "_view_module": "@jupyter-widgets/base",
            "_view_module_version": "1.2.0",
            "_view_name": "LayoutView",
            "align_content": null,
            "align_items": null,
            "align_self": null,
            "border": null,
            "bottom": null,
            "display": null,
            "flex": null,
            "flex_flow": null,
            "grid_area": null,
            "grid_auto_columns": null,
            "grid_auto_flow": null,
            "grid_auto_rows": null,
            "grid_column": null,
            "grid_gap": null,
            "grid_row": null,
            "grid_template_areas": null,
            "grid_template_columns": null,
            "grid_template_rows": null,
            "height": null,
            "justify_content": null,
            "justify_items": null,
            "left": null,
            "margin": null,
            "max_height": null,
            "max_width": null,
            "min_height": null,
            "min_width": null,
            "object_fit": null,
            "object_position": null,
            "order": null,
            "overflow": null,
            "overflow_x": null,
            "overflow_y": null,
            "padding": null,
            "right": null,
            "top": null,
            "visibility": null,
            "width": null
          }
        },
        "72809a002b1649b8a0ad77d3d5de1b35": {
          "model_module": "@jupyter-widgets/controls",
          "model_name": "ProgressStyleModel",
          "model_module_version": "1.5.0",
          "state": {
            "_model_module": "@jupyter-widgets/controls",
            "_model_module_version": "1.5.0",
            "_model_name": "ProgressStyleModel",
            "_view_count": null,
            "_view_module": "@jupyter-widgets/base",
            "_view_module_version": "1.2.0",
            "_view_name": "StyleView",
            "bar_color": null,
            "description_width": ""
          }
        },
        "4dd13ed6e4eb45fab83aa622a2f172cc": {
          "model_module": "@jupyter-widgets/controls",
          "model_name": "VBoxModel",
          "model_module_version": "1.5.0",
          "state": {
            "_dom_classes": [],
            "_model_module": "@jupyter-widgets/controls",
            "_model_module_version": "1.5.0",
            "_model_name": "VBoxModel",
            "_view_count": null,
            "_view_module": "@jupyter-widgets/controls",
            "_view_module_version": "1.5.0",
            "_view_name": "VBoxView",
            "box_style": "",
            "children": [
              "IPY_MODEL_75b318f8e14440ad914aadd69d5f2f50",
              "IPY_MODEL_74261f4c8a6f4d0ab9e1c6320e7a3949"
            ],
            "layout": "IPY_MODEL_d9f9fa8a68d74b4db47419e408ff6387"
          }
        },
        "75b318f8e14440ad914aadd69d5f2f50": {
          "model_module": "@jupyter-widgets/controls",
          "model_name": "LabelModel",
          "model_module_version": "1.5.0",
          "state": {
            "_dom_classes": [],
            "_model_module": "@jupyter-widgets/controls",
            "_model_module_version": "1.5.0",
            "_model_name": "LabelModel",
            "_view_count": null,
            "_view_module": "@jupyter-widgets/controls",
            "_view_module_version": "1.5.0",
            "_view_name": "LabelView",
            "description": "",
            "description_tooltip": null,
            "layout": "IPY_MODEL_f492d2a4a59e4a1d892dd07d770c0d74",
            "placeholder": "​",
            "style": "IPY_MODEL_0774176fe8904080b03f8aaffb2b7374",
            "value": "0.053 MB of 0.053 MB uploaded\r"
          }
        },
        "74261f4c8a6f4d0ab9e1c6320e7a3949": {
          "model_module": "@jupyter-widgets/controls",
          "model_name": "FloatProgressModel",
          "model_module_version": "1.5.0",
          "state": {
            "_dom_classes": [],
            "_model_module": "@jupyter-widgets/controls",
            "_model_module_version": "1.5.0",
            "_model_name": "FloatProgressModel",
            "_view_count": null,
            "_view_module": "@jupyter-widgets/controls",
            "_view_module_version": "1.5.0",
            "_view_name": "ProgressView",
            "bar_style": "",
            "description": "",
            "description_tooltip": null,
            "layout": "IPY_MODEL_d7307171c5484ec4bc6cfe962f087b6c",
            "max": 1,
            "min": 0,
            "orientation": "horizontal",
            "style": "IPY_MODEL_b93de814ebd14dd3b8f9576f56a12512",
            "value": 1
          }
        },
        "d9f9fa8a68d74b4db47419e408ff6387": {
          "model_module": "@jupyter-widgets/base",
          "model_name": "LayoutModel",
          "model_module_version": "1.2.0",
          "state": {
            "_model_module": "@jupyter-widgets/base",
            "_model_module_version": "1.2.0",
            "_model_name": "LayoutModel",
            "_view_count": null,
            "_view_module": "@jupyter-widgets/base",
            "_view_module_version": "1.2.0",
            "_view_name": "LayoutView",
            "align_content": null,
            "align_items": null,
            "align_self": null,
            "border": null,
            "bottom": null,
            "display": null,
            "flex": null,
            "flex_flow": null,
            "grid_area": null,
            "grid_auto_columns": null,
            "grid_auto_flow": null,
            "grid_auto_rows": null,
            "grid_column": null,
            "grid_gap": null,
            "grid_row": null,
            "grid_template_areas": null,
            "grid_template_columns": null,
            "grid_template_rows": null,
            "height": null,
            "justify_content": null,
            "justify_items": null,
            "left": null,
            "margin": null,
            "max_height": null,
            "max_width": null,
            "min_height": null,
            "min_width": null,
            "object_fit": null,
            "object_position": null,
            "order": null,
            "overflow": null,
            "overflow_x": null,
            "overflow_y": null,
            "padding": null,
            "right": null,
            "top": null,
            "visibility": null,
            "width": null
          }
        },
        "f492d2a4a59e4a1d892dd07d770c0d74": {
          "model_module": "@jupyter-widgets/base",
          "model_name": "LayoutModel",
          "model_module_version": "1.2.0",
          "state": {
            "_model_module": "@jupyter-widgets/base",
            "_model_module_version": "1.2.0",
            "_model_name": "LayoutModel",
            "_view_count": null,
            "_view_module": "@jupyter-widgets/base",
            "_view_module_version": "1.2.0",
            "_view_name": "LayoutView",
            "align_content": null,
            "align_items": null,
            "align_self": null,
            "border": null,
            "bottom": null,
            "display": null,
            "flex": null,
            "flex_flow": null,
            "grid_area": null,
            "grid_auto_columns": null,
            "grid_auto_flow": null,
            "grid_auto_rows": null,
            "grid_column": null,
            "grid_gap": null,
            "grid_row": null,
            "grid_template_areas": null,
            "grid_template_columns": null,
            "grid_template_rows": null,
            "height": null,
            "justify_content": null,
            "justify_items": null,
            "left": null,
            "margin": null,
            "max_height": null,
            "max_width": null,
            "min_height": null,
            "min_width": null,
            "object_fit": null,
            "object_position": null,
            "order": null,
            "overflow": null,
            "overflow_x": null,
            "overflow_y": null,
            "padding": null,
            "right": null,
            "top": null,
            "visibility": null,
            "width": null
          }
        },
        "0774176fe8904080b03f8aaffb2b7374": {
          "model_module": "@jupyter-widgets/controls",
          "model_name": "DescriptionStyleModel",
          "model_module_version": "1.5.0",
          "state": {
            "_model_module": "@jupyter-widgets/controls",
            "_model_module_version": "1.5.0",
            "_model_name": "DescriptionStyleModel",
            "_view_count": null,
            "_view_module": "@jupyter-widgets/base",
            "_view_module_version": "1.2.0",
            "_view_name": "StyleView",
            "description_width": ""
          }
        },
        "d7307171c5484ec4bc6cfe962f087b6c": {
          "model_module": "@jupyter-widgets/base",
          "model_name": "LayoutModel",
          "model_module_version": "1.2.0",
          "state": {
            "_model_module": "@jupyter-widgets/base",
            "_model_module_version": "1.2.0",
            "_model_name": "LayoutModel",
            "_view_count": null,
            "_view_module": "@jupyter-widgets/base",
            "_view_module_version": "1.2.0",
            "_view_name": "LayoutView",
            "align_content": null,
            "align_items": null,
            "align_self": null,
            "border": null,
            "bottom": null,
            "display": null,
            "flex": null,
            "flex_flow": null,
            "grid_area": null,
            "grid_auto_columns": null,
            "grid_auto_flow": null,
            "grid_auto_rows": null,
            "grid_column": null,
            "grid_gap": null,
            "grid_row": null,
            "grid_template_areas": null,
            "grid_template_columns": null,
            "grid_template_rows": null,
            "height": null,
            "justify_content": null,
            "justify_items": null,
            "left": null,
            "margin": null,
            "max_height": null,
            "max_width": null,
            "min_height": null,
            "min_width": null,
            "object_fit": null,
            "object_position": null,
            "order": null,
            "overflow": null,
            "overflow_x": null,
            "overflow_y": null,
            "padding": null,
            "right": null,
            "top": null,
            "visibility": null,
            "width": null
          }
        },
        "b93de814ebd14dd3b8f9576f56a12512": {
          "model_module": "@jupyter-widgets/controls",
          "model_name": "ProgressStyleModel",
          "model_module_version": "1.5.0",
          "state": {
            "_model_module": "@jupyter-widgets/controls",
            "_model_module_version": "1.5.0",
            "_model_name": "ProgressStyleModel",
            "_view_count": null,
            "_view_module": "@jupyter-widgets/base",
            "_view_module_version": "1.2.0",
            "_view_name": "StyleView",
            "bar_color": null,
            "description_width": ""
          }
        },
        "fb647403a7ad47cfa794128cfb370ab8": {
          "model_module": "@jupyter-widgets/controls",
          "model_name": "VBoxModel",
          "model_module_version": "1.5.0",
          "state": {
            "_dom_classes": [],
            "_model_module": "@jupyter-widgets/controls",
            "_model_module_version": "1.5.0",
            "_model_name": "VBoxModel",
            "_view_count": null,
            "_view_module": "@jupyter-widgets/controls",
            "_view_module_version": "1.5.0",
            "_view_name": "VBoxView",
            "box_style": "",
            "children": [
              "IPY_MODEL_3006679b67f8496a917ba4b80bd76833",
              "IPY_MODEL_a6b19a952f09495488c11377679c9bc9"
            ],
            "layout": "IPY_MODEL_d206d8b25d61472b893bf8f4def0485d"
          }
        },
        "3006679b67f8496a917ba4b80bd76833": {
          "model_module": "@jupyter-widgets/controls",
          "model_name": "LabelModel",
          "model_module_version": "1.5.0",
          "state": {
            "_dom_classes": [],
            "_model_module": "@jupyter-widgets/controls",
            "_model_module_version": "1.5.0",
            "_model_name": "LabelModel",
            "_view_count": null,
            "_view_module": "@jupyter-widgets/controls",
            "_view_module_version": "1.5.0",
            "_view_name": "LabelView",
            "description": "",
            "description_tooltip": null,
            "layout": "IPY_MODEL_921c3c36db34458186eb5996742df241",
            "placeholder": "​",
            "style": "IPY_MODEL_24ce42ec37ef4dde90290b56c1141b6b",
            "value": "0.054 MB of 0.054 MB uploaded\r"
          }
        },
        "a6b19a952f09495488c11377679c9bc9": {
          "model_module": "@jupyter-widgets/controls",
          "model_name": "FloatProgressModel",
          "model_module_version": "1.5.0",
          "state": {
            "_dom_classes": [],
            "_model_module": "@jupyter-widgets/controls",
            "_model_module_version": "1.5.0",
            "_model_name": "FloatProgressModel",
            "_view_count": null,
            "_view_module": "@jupyter-widgets/controls",
            "_view_module_version": "1.5.0",
            "_view_name": "ProgressView",
            "bar_style": "",
            "description": "",
            "description_tooltip": null,
            "layout": "IPY_MODEL_699ece005ea74a7fa3e947868c4c8439",
            "max": 1,
            "min": 0,
            "orientation": "horizontal",
            "style": "IPY_MODEL_3e89019b50e141ed985669dd22e69da1",
            "value": 1
          }
        },
        "d206d8b25d61472b893bf8f4def0485d": {
          "model_module": "@jupyter-widgets/base",
          "model_name": "LayoutModel",
          "model_module_version": "1.2.0",
          "state": {
            "_model_module": "@jupyter-widgets/base",
            "_model_module_version": "1.2.0",
            "_model_name": "LayoutModel",
            "_view_count": null,
            "_view_module": "@jupyter-widgets/base",
            "_view_module_version": "1.2.0",
            "_view_name": "LayoutView",
            "align_content": null,
            "align_items": null,
            "align_self": null,
            "border": null,
            "bottom": null,
            "display": null,
            "flex": null,
            "flex_flow": null,
            "grid_area": null,
            "grid_auto_columns": null,
            "grid_auto_flow": null,
            "grid_auto_rows": null,
            "grid_column": null,
            "grid_gap": null,
            "grid_row": null,
            "grid_template_areas": null,
            "grid_template_columns": null,
            "grid_template_rows": null,
            "height": null,
            "justify_content": null,
            "justify_items": null,
            "left": null,
            "margin": null,
            "max_height": null,
            "max_width": null,
            "min_height": null,
            "min_width": null,
            "object_fit": null,
            "object_position": null,
            "order": null,
            "overflow": null,
            "overflow_x": null,
            "overflow_y": null,
            "padding": null,
            "right": null,
            "top": null,
            "visibility": null,
            "width": null
          }
        },
        "921c3c36db34458186eb5996742df241": {
          "model_module": "@jupyter-widgets/base",
          "model_name": "LayoutModel",
          "model_module_version": "1.2.0",
          "state": {
            "_model_module": "@jupyter-widgets/base",
            "_model_module_version": "1.2.0",
            "_model_name": "LayoutModel",
            "_view_count": null,
            "_view_module": "@jupyter-widgets/base",
            "_view_module_version": "1.2.0",
            "_view_name": "LayoutView",
            "align_content": null,
            "align_items": null,
            "align_self": null,
            "border": null,
            "bottom": null,
            "display": null,
            "flex": null,
            "flex_flow": null,
            "grid_area": null,
            "grid_auto_columns": null,
            "grid_auto_flow": null,
            "grid_auto_rows": null,
            "grid_column": null,
            "grid_gap": null,
            "grid_row": null,
            "grid_template_areas": null,
            "grid_template_columns": null,
            "grid_template_rows": null,
            "height": null,
            "justify_content": null,
            "justify_items": null,
            "left": null,
            "margin": null,
            "max_height": null,
            "max_width": null,
            "min_height": null,
            "min_width": null,
            "object_fit": null,
            "object_position": null,
            "order": null,
            "overflow": null,
            "overflow_x": null,
            "overflow_y": null,
            "padding": null,
            "right": null,
            "top": null,
            "visibility": null,
            "width": null
          }
        },
        "24ce42ec37ef4dde90290b56c1141b6b": {
          "model_module": "@jupyter-widgets/controls",
          "model_name": "DescriptionStyleModel",
          "model_module_version": "1.5.0",
          "state": {
            "_model_module": "@jupyter-widgets/controls",
            "_model_module_version": "1.5.0",
            "_model_name": "DescriptionStyleModel",
            "_view_count": null,
            "_view_module": "@jupyter-widgets/base",
            "_view_module_version": "1.2.0",
            "_view_name": "StyleView",
            "description_width": ""
          }
        },
        "699ece005ea74a7fa3e947868c4c8439": {
          "model_module": "@jupyter-widgets/base",
          "model_name": "LayoutModel",
          "model_module_version": "1.2.0",
          "state": {
            "_model_module": "@jupyter-widgets/base",
            "_model_module_version": "1.2.0",
            "_model_name": "LayoutModel",
            "_view_count": null,
            "_view_module": "@jupyter-widgets/base",
            "_view_module_version": "1.2.0",
            "_view_name": "LayoutView",
            "align_content": null,
            "align_items": null,
            "align_self": null,
            "border": null,
            "bottom": null,
            "display": null,
            "flex": null,
            "flex_flow": null,
            "grid_area": null,
            "grid_auto_columns": null,
            "grid_auto_flow": null,
            "grid_auto_rows": null,
            "grid_column": null,
            "grid_gap": null,
            "grid_row": null,
            "grid_template_areas": null,
            "grid_template_columns": null,
            "grid_template_rows": null,
            "height": null,
            "justify_content": null,
            "justify_items": null,
            "left": null,
            "margin": null,
            "max_height": null,
            "max_width": null,
            "min_height": null,
            "min_width": null,
            "object_fit": null,
            "object_position": null,
            "order": null,
            "overflow": null,
            "overflow_x": null,
            "overflow_y": null,
            "padding": null,
            "right": null,
            "top": null,
            "visibility": null,
            "width": null
          }
        },
        "3e89019b50e141ed985669dd22e69da1": {
          "model_module": "@jupyter-widgets/controls",
          "model_name": "ProgressStyleModel",
          "model_module_version": "1.5.0",
          "state": {
            "_model_module": "@jupyter-widgets/controls",
            "_model_module_version": "1.5.0",
            "_model_name": "ProgressStyleModel",
            "_view_count": null,
            "_view_module": "@jupyter-widgets/base",
            "_view_module_version": "1.2.0",
            "_view_name": "StyleView",
            "bar_color": null,
            "description_width": ""
          }
        },
        "090e679dcd0e4314ad9f3dc278fe45c8": {
          "model_module": "@jupyter-widgets/controls",
          "model_name": "VBoxModel",
          "model_module_version": "1.5.0",
          "state": {
            "_dom_classes": [],
            "_model_module": "@jupyter-widgets/controls",
            "_model_module_version": "1.5.0",
            "_model_name": "VBoxModel",
            "_view_count": null,
            "_view_module": "@jupyter-widgets/controls",
            "_view_module_version": "1.5.0",
            "_view_name": "VBoxView",
            "box_style": "",
            "children": [
              "IPY_MODEL_89979d973c36486cbfd3b6d05cbdd67f",
              "IPY_MODEL_9093e18a5de548c9a94f880f386aec18"
            ],
            "layout": "IPY_MODEL_e41ce8c18ccc48d8a4da18f070f4ee15"
          }
        },
        "89979d973c36486cbfd3b6d05cbdd67f": {
          "model_module": "@jupyter-widgets/controls",
          "model_name": "LabelModel",
          "model_module_version": "1.5.0",
          "state": {
            "_dom_classes": [],
            "_model_module": "@jupyter-widgets/controls",
            "_model_module_version": "1.5.0",
            "_model_name": "LabelModel",
            "_view_count": null,
            "_view_module": "@jupyter-widgets/controls",
            "_view_module_version": "1.5.0",
            "_view_name": "LabelView",
            "description": "",
            "description_tooltip": null,
            "layout": "IPY_MODEL_245034b1124d408ebf8054ae2f14fbaf",
            "placeholder": "​",
            "style": "IPY_MODEL_33845e112cc643e2a00bf2725cd9535e",
            "value": "0.083 MB of 0.083 MB uploaded\r"
          }
        },
        "9093e18a5de548c9a94f880f386aec18": {
          "model_module": "@jupyter-widgets/controls",
          "model_name": "FloatProgressModel",
          "model_module_version": "1.5.0",
          "state": {
            "_dom_classes": [],
            "_model_module": "@jupyter-widgets/controls",
            "_model_module_version": "1.5.0",
            "_model_name": "FloatProgressModel",
            "_view_count": null,
            "_view_module": "@jupyter-widgets/controls",
            "_view_module_version": "1.5.0",
            "_view_name": "ProgressView",
            "bar_style": "",
            "description": "",
            "description_tooltip": null,
            "layout": "IPY_MODEL_ce3bdc6d75f047b1a97c095cd80ffb7f",
            "max": 1,
            "min": 0,
            "orientation": "horizontal",
            "style": "IPY_MODEL_cdd2896e8b084c5d83ff63190486dcc2",
            "value": 1
          }
        },
        "e41ce8c18ccc48d8a4da18f070f4ee15": {
          "model_module": "@jupyter-widgets/base",
          "model_name": "LayoutModel",
          "model_module_version": "1.2.0",
          "state": {
            "_model_module": "@jupyter-widgets/base",
            "_model_module_version": "1.2.0",
            "_model_name": "LayoutModel",
            "_view_count": null,
            "_view_module": "@jupyter-widgets/base",
            "_view_module_version": "1.2.0",
            "_view_name": "LayoutView",
            "align_content": null,
            "align_items": null,
            "align_self": null,
            "border": null,
            "bottom": null,
            "display": null,
            "flex": null,
            "flex_flow": null,
            "grid_area": null,
            "grid_auto_columns": null,
            "grid_auto_flow": null,
            "grid_auto_rows": null,
            "grid_column": null,
            "grid_gap": null,
            "grid_row": null,
            "grid_template_areas": null,
            "grid_template_columns": null,
            "grid_template_rows": null,
            "height": null,
            "justify_content": null,
            "justify_items": null,
            "left": null,
            "margin": null,
            "max_height": null,
            "max_width": null,
            "min_height": null,
            "min_width": null,
            "object_fit": null,
            "object_position": null,
            "order": null,
            "overflow": null,
            "overflow_x": null,
            "overflow_y": null,
            "padding": null,
            "right": null,
            "top": null,
            "visibility": null,
            "width": null
          }
        },
        "245034b1124d408ebf8054ae2f14fbaf": {
          "model_module": "@jupyter-widgets/base",
          "model_name": "LayoutModel",
          "model_module_version": "1.2.0",
          "state": {
            "_model_module": "@jupyter-widgets/base",
            "_model_module_version": "1.2.0",
            "_model_name": "LayoutModel",
            "_view_count": null,
            "_view_module": "@jupyter-widgets/base",
            "_view_module_version": "1.2.0",
            "_view_name": "LayoutView",
            "align_content": null,
            "align_items": null,
            "align_self": null,
            "border": null,
            "bottom": null,
            "display": null,
            "flex": null,
            "flex_flow": null,
            "grid_area": null,
            "grid_auto_columns": null,
            "grid_auto_flow": null,
            "grid_auto_rows": null,
            "grid_column": null,
            "grid_gap": null,
            "grid_row": null,
            "grid_template_areas": null,
            "grid_template_columns": null,
            "grid_template_rows": null,
            "height": null,
            "justify_content": null,
            "justify_items": null,
            "left": null,
            "margin": null,
            "max_height": null,
            "max_width": null,
            "min_height": null,
            "min_width": null,
            "object_fit": null,
            "object_position": null,
            "order": null,
            "overflow": null,
            "overflow_x": null,
            "overflow_y": null,
            "padding": null,
            "right": null,
            "top": null,
            "visibility": null,
            "width": null
          }
        },
        "33845e112cc643e2a00bf2725cd9535e": {
          "model_module": "@jupyter-widgets/controls",
          "model_name": "DescriptionStyleModel",
          "model_module_version": "1.5.0",
          "state": {
            "_model_module": "@jupyter-widgets/controls",
            "_model_module_version": "1.5.0",
            "_model_name": "DescriptionStyleModel",
            "_view_count": null,
            "_view_module": "@jupyter-widgets/base",
            "_view_module_version": "1.2.0",
            "_view_name": "StyleView",
            "description_width": ""
          }
        },
        "ce3bdc6d75f047b1a97c095cd80ffb7f": {
          "model_module": "@jupyter-widgets/base",
          "model_name": "LayoutModel",
          "model_module_version": "1.2.0",
          "state": {
            "_model_module": "@jupyter-widgets/base",
            "_model_module_version": "1.2.0",
            "_model_name": "LayoutModel",
            "_view_count": null,
            "_view_module": "@jupyter-widgets/base",
            "_view_module_version": "1.2.0",
            "_view_name": "LayoutView",
            "align_content": null,
            "align_items": null,
            "align_self": null,
            "border": null,
            "bottom": null,
            "display": null,
            "flex": null,
            "flex_flow": null,
            "grid_area": null,
            "grid_auto_columns": null,
            "grid_auto_flow": null,
            "grid_auto_rows": null,
            "grid_column": null,
            "grid_gap": null,
            "grid_row": null,
            "grid_template_areas": null,
            "grid_template_columns": null,
            "grid_template_rows": null,
            "height": null,
            "justify_content": null,
            "justify_items": null,
            "left": null,
            "margin": null,
            "max_height": null,
            "max_width": null,
            "min_height": null,
            "min_width": null,
            "object_fit": null,
            "object_position": null,
            "order": null,
            "overflow": null,
            "overflow_x": null,
            "overflow_y": null,
            "padding": null,
            "right": null,
            "top": null,
            "visibility": null,
            "width": null
          }
        },
        "cdd2896e8b084c5d83ff63190486dcc2": {
          "model_module": "@jupyter-widgets/controls",
          "model_name": "ProgressStyleModel",
          "model_module_version": "1.5.0",
          "state": {
            "_model_module": "@jupyter-widgets/controls",
            "_model_module_version": "1.5.0",
            "_model_name": "ProgressStyleModel",
            "_view_count": null,
            "_view_module": "@jupyter-widgets/base",
            "_view_module_version": "1.2.0",
            "_view_name": "StyleView",
            "bar_color": null,
            "description_width": ""
          }
        },
        "3f7433384e204b9ba9b4880a8f8a1b35": {
          "model_module": "@jupyter-widgets/controls",
          "model_name": "VBoxModel",
          "model_module_version": "1.5.0",
          "state": {
            "_dom_classes": [],
            "_model_module": "@jupyter-widgets/controls",
            "_model_module_version": "1.5.0",
            "_model_name": "VBoxModel",
            "_view_count": null,
            "_view_module": "@jupyter-widgets/controls",
            "_view_module_version": "1.5.0",
            "_view_name": "VBoxView",
            "box_style": "",
            "children": [
              "IPY_MODEL_048a9f9ca8fa4022aab2117b5580bee7",
              "IPY_MODEL_0945487d7b974628b487a4d703d3e446"
            ],
            "layout": "IPY_MODEL_dbbe8c3a35764e7c8bced305f0df7901"
          }
        },
        "048a9f9ca8fa4022aab2117b5580bee7": {
          "model_module": "@jupyter-widgets/controls",
          "model_name": "LabelModel",
          "model_module_version": "1.5.0",
          "state": {
            "_dom_classes": [],
            "_model_module": "@jupyter-widgets/controls",
            "_model_module_version": "1.5.0",
            "_model_name": "LabelModel",
            "_view_count": null,
            "_view_module": "@jupyter-widgets/controls",
            "_view_module_version": "1.5.0",
            "_view_name": "LabelView",
            "description": "",
            "description_tooltip": null,
            "layout": "IPY_MODEL_8524795f315f45eda70f3170b6cbcf44",
            "placeholder": "​",
            "style": "IPY_MODEL_4f04df7a5c75467c9a4fe64c6caf7692",
            "value": "0.053 MB of 0.053 MB uploaded\r"
          }
        },
        "0945487d7b974628b487a4d703d3e446": {
          "model_module": "@jupyter-widgets/controls",
          "model_name": "FloatProgressModel",
          "model_module_version": "1.5.0",
          "state": {
            "_dom_classes": [],
            "_model_module": "@jupyter-widgets/controls",
            "_model_module_version": "1.5.0",
            "_model_name": "FloatProgressModel",
            "_view_count": null,
            "_view_module": "@jupyter-widgets/controls",
            "_view_module_version": "1.5.0",
            "_view_name": "ProgressView",
            "bar_style": "",
            "description": "",
            "description_tooltip": null,
            "layout": "IPY_MODEL_d4a331c32aab477595fcb6d6a3ac837b",
            "max": 1,
            "min": 0,
            "orientation": "horizontal",
            "style": "IPY_MODEL_f9215141bc274474bf600cf7bf4dab5c",
            "value": 1
          }
        },
        "dbbe8c3a35764e7c8bced305f0df7901": {
          "model_module": "@jupyter-widgets/base",
          "model_name": "LayoutModel",
          "model_module_version": "1.2.0",
          "state": {
            "_model_module": "@jupyter-widgets/base",
            "_model_module_version": "1.2.0",
            "_model_name": "LayoutModel",
            "_view_count": null,
            "_view_module": "@jupyter-widgets/base",
            "_view_module_version": "1.2.0",
            "_view_name": "LayoutView",
            "align_content": null,
            "align_items": null,
            "align_self": null,
            "border": null,
            "bottom": null,
            "display": null,
            "flex": null,
            "flex_flow": null,
            "grid_area": null,
            "grid_auto_columns": null,
            "grid_auto_flow": null,
            "grid_auto_rows": null,
            "grid_column": null,
            "grid_gap": null,
            "grid_row": null,
            "grid_template_areas": null,
            "grid_template_columns": null,
            "grid_template_rows": null,
            "height": null,
            "justify_content": null,
            "justify_items": null,
            "left": null,
            "margin": null,
            "max_height": null,
            "max_width": null,
            "min_height": null,
            "min_width": null,
            "object_fit": null,
            "object_position": null,
            "order": null,
            "overflow": null,
            "overflow_x": null,
            "overflow_y": null,
            "padding": null,
            "right": null,
            "top": null,
            "visibility": null,
            "width": null
          }
        },
        "8524795f315f45eda70f3170b6cbcf44": {
          "model_module": "@jupyter-widgets/base",
          "model_name": "LayoutModel",
          "model_module_version": "1.2.0",
          "state": {
            "_model_module": "@jupyter-widgets/base",
            "_model_module_version": "1.2.0",
            "_model_name": "LayoutModel",
            "_view_count": null,
            "_view_module": "@jupyter-widgets/base",
            "_view_module_version": "1.2.0",
            "_view_name": "LayoutView",
            "align_content": null,
            "align_items": null,
            "align_self": null,
            "border": null,
            "bottom": null,
            "display": null,
            "flex": null,
            "flex_flow": null,
            "grid_area": null,
            "grid_auto_columns": null,
            "grid_auto_flow": null,
            "grid_auto_rows": null,
            "grid_column": null,
            "grid_gap": null,
            "grid_row": null,
            "grid_template_areas": null,
            "grid_template_columns": null,
            "grid_template_rows": null,
            "height": null,
            "justify_content": null,
            "justify_items": null,
            "left": null,
            "margin": null,
            "max_height": null,
            "max_width": null,
            "min_height": null,
            "min_width": null,
            "object_fit": null,
            "object_position": null,
            "order": null,
            "overflow": null,
            "overflow_x": null,
            "overflow_y": null,
            "padding": null,
            "right": null,
            "top": null,
            "visibility": null,
            "width": null
          }
        },
        "4f04df7a5c75467c9a4fe64c6caf7692": {
          "model_module": "@jupyter-widgets/controls",
          "model_name": "DescriptionStyleModel",
          "model_module_version": "1.5.0",
          "state": {
            "_model_module": "@jupyter-widgets/controls",
            "_model_module_version": "1.5.0",
            "_model_name": "DescriptionStyleModel",
            "_view_count": null,
            "_view_module": "@jupyter-widgets/base",
            "_view_module_version": "1.2.0",
            "_view_name": "StyleView",
            "description_width": ""
          }
        },
        "d4a331c32aab477595fcb6d6a3ac837b": {
          "model_module": "@jupyter-widgets/base",
          "model_name": "LayoutModel",
          "model_module_version": "1.2.0",
          "state": {
            "_model_module": "@jupyter-widgets/base",
            "_model_module_version": "1.2.0",
            "_model_name": "LayoutModel",
            "_view_count": null,
            "_view_module": "@jupyter-widgets/base",
            "_view_module_version": "1.2.0",
            "_view_name": "LayoutView",
            "align_content": null,
            "align_items": null,
            "align_self": null,
            "border": null,
            "bottom": null,
            "display": null,
            "flex": null,
            "flex_flow": null,
            "grid_area": null,
            "grid_auto_columns": null,
            "grid_auto_flow": null,
            "grid_auto_rows": null,
            "grid_column": null,
            "grid_gap": null,
            "grid_row": null,
            "grid_template_areas": null,
            "grid_template_columns": null,
            "grid_template_rows": null,
            "height": null,
            "justify_content": null,
            "justify_items": null,
            "left": null,
            "margin": null,
            "max_height": null,
            "max_width": null,
            "min_height": null,
            "min_width": null,
            "object_fit": null,
            "object_position": null,
            "order": null,
            "overflow": null,
            "overflow_x": null,
            "overflow_y": null,
            "padding": null,
            "right": null,
            "top": null,
            "visibility": null,
            "width": null
          }
        },
        "f9215141bc274474bf600cf7bf4dab5c": {
          "model_module": "@jupyter-widgets/controls",
          "model_name": "ProgressStyleModel",
          "model_module_version": "1.5.0",
          "state": {
            "_model_module": "@jupyter-widgets/controls",
            "_model_module_version": "1.5.0",
            "_model_name": "ProgressStyleModel",
            "_view_count": null,
            "_view_module": "@jupyter-widgets/base",
            "_view_module_version": "1.2.0",
            "_view_name": "StyleView",
            "bar_color": null,
            "description_width": ""
          }
        },
        "52d94d99e6a941c1a5b420c40bebeb27": {
          "model_module": "@jupyter-widgets/controls",
          "model_name": "VBoxModel",
          "model_module_version": "1.5.0",
          "state": {
            "_dom_classes": [],
            "_model_module": "@jupyter-widgets/controls",
            "_model_module_version": "1.5.0",
            "_model_name": "VBoxModel",
            "_view_count": null,
            "_view_module": "@jupyter-widgets/controls",
            "_view_module_version": "1.5.0",
            "_view_name": "VBoxView",
            "box_style": "",
            "children": [
              "IPY_MODEL_1d5f54db2fd04384a939889bc465e793",
              "IPY_MODEL_b35316121dda41028458dd66aa4bd989"
            ],
            "layout": "IPY_MODEL_0cb381016c394d7595e847f5df12ab72"
          }
        },
        "1d5f54db2fd04384a939889bc465e793": {
          "model_module": "@jupyter-widgets/controls",
          "model_name": "LabelModel",
          "model_module_version": "1.5.0",
          "state": {
            "_dom_classes": [],
            "_model_module": "@jupyter-widgets/controls",
            "_model_module_version": "1.5.0",
            "_model_name": "LabelModel",
            "_view_count": null,
            "_view_module": "@jupyter-widgets/controls",
            "_view_module_version": "1.5.0",
            "_view_name": "LabelView",
            "description": "",
            "description_tooltip": null,
            "layout": "IPY_MODEL_3faacd27c86e42608b9d275aa78d9b0b",
            "placeholder": "​",
            "style": "IPY_MODEL_66819842e4b54b2d80d65189159ab8dd",
            "value": "0.083 MB of 0.083 MB uploaded\r"
          }
        },
        "b35316121dda41028458dd66aa4bd989": {
          "model_module": "@jupyter-widgets/controls",
          "model_name": "FloatProgressModel",
          "model_module_version": "1.5.0",
          "state": {
            "_dom_classes": [],
            "_model_module": "@jupyter-widgets/controls",
            "_model_module_version": "1.5.0",
            "_model_name": "FloatProgressModel",
            "_view_count": null,
            "_view_module": "@jupyter-widgets/controls",
            "_view_module_version": "1.5.0",
            "_view_name": "ProgressView",
            "bar_style": "",
            "description": "",
            "description_tooltip": null,
            "layout": "IPY_MODEL_23403fc1444245909bb5ec076d007e67",
            "max": 1,
            "min": 0,
            "orientation": "horizontal",
            "style": "IPY_MODEL_f7839d3cb1574c458a094f68fd794861",
            "value": 1
          }
        },
        "0cb381016c394d7595e847f5df12ab72": {
          "model_module": "@jupyter-widgets/base",
          "model_name": "LayoutModel",
          "model_module_version": "1.2.0",
          "state": {
            "_model_module": "@jupyter-widgets/base",
            "_model_module_version": "1.2.0",
            "_model_name": "LayoutModel",
            "_view_count": null,
            "_view_module": "@jupyter-widgets/base",
            "_view_module_version": "1.2.0",
            "_view_name": "LayoutView",
            "align_content": null,
            "align_items": null,
            "align_self": null,
            "border": null,
            "bottom": null,
            "display": null,
            "flex": null,
            "flex_flow": null,
            "grid_area": null,
            "grid_auto_columns": null,
            "grid_auto_flow": null,
            "grid_auto_rows": null,
            "grid_column": null,
            "grid_gap": null,
            "grid_row": null,
            "grid_template_areas": null,
            "grid_template_columns": null,
            "grid_template_rows": null,
            "height": null,
            "justify_content": null,
            "justify_items": null,
            "left": null,
            "margin": null,
            "max_height": null,
            "max_width": null,
            "min_height": null,
            "min_width": null,
            "object_fit": null,
            "object_position": null,
            "order": null,
            "overflow": null,
            "overflow_x": null,
            "overflow_y": null,
            "padding": null,
            "right": null,
            "top": null,
            "visibility": null,
            "width": null
          }
        },
        "3faacd27c86e42608b9d275aa78d9b0b": {
          "model_module": "@jupyter-widgets/base",
          "model_name": "LayoutModel",
          "model_module_version": "1.2.0",
          "state": {
            "_model_module": "@jupyter-widgets/base",
            "_model_module_version": "1.2.0",
            "_model_name": "LayoutModel",
            "_view_count": null,
            "_view_module": "@jupyter-widgets/base",
            "_view_module_version": "1.2.0",
            "_view_name": "LayoutView",
            "align_content": null,
            "align_items": null,
            "align_self": null,
            "border": null,
            "bottom": null,
            "display": null,
            "flex": null,
            "flex_flow": null,
            "grid_area": null,
            "grid_auto_columns": null,
            "grid_auto_flow": null,
            "grid_auto_rows": null,
            "grid_column": null,
            "grid_gap": null,
            "grid_row": null,
            "grid_template_areas": null,
            "grid_template_columns": null,
            "grid_template_rows": null,
            "height": null,
            "justify_content": null,
            "justify_items": null,
            "left": null,
            "margin": null,
            "max_height": null,
            "max_width": null,
            "min_height": null,
            "min_width": null,
            "object_fit": null,
            "object_position": null,
            "order": null,
            "overflow": null,
            "overflow_x": null,
            "overflow_y": null,
            "padding": null,
            "right": null,
            "top": null,
            "visibility": null,
            "width": null
          }
        },
        "66819842e4b54b2d80d65189159ab8dd": {
          "model_module": "@jupyter-widgets/controls",
          "model_name": "DescriptionStyleModel",
          "model_module_version": "1.5.0",
          "state": {
            "_model_module": "@jupyter-widgets/controls",
            "_model_module_version": "1.5.0",
            "_model_name": "DescriptionStyleModel",
            "_view_count": null,
            "_view_module": "@jupyter-widgets/base",
            "_view_module_version": "1.2.0",
            "_view_name": "StyleView",
            "description_width": ""
          }
        },
        "23403fc1444245909bb5ec076d007e67": {
          "model_module": "@jupyter-widgets/base",
          "model_name": "LayoutModel",
          "model_module_version": "1.2.0",
          "state": {
            "_model_module": "@jupyter-widgets/base",
            "_model_module_version": "1.2.0",
            "_model_name": "LayoutModel",
            "_view_count": null,
            "_view_module": "@jupyter-widgets/base",
            "_view_module_version": "1.2.0",
            "_view_name": "LayoutView",
            "align_content": null,
            "align_items": null,
            "align_self": null,
            "border": null,
            "bottom": null,
            "display": null,
            "flex": null,
            "flex_flow": null,
            "grid_area": null,
            "grid_auto_columns": null,
            "grid_auto_flow": null,
            "grid_auto_rows": null,
            "grid_column": null,
            "grid_gap": null,
            "grid_row": null,
            "grid_template_areas": null,
            "grid_template_columns": null,
            "grid_template_rows": null,
            "height": null,
            "justify_content": null,
            "justify_items": null,
            "left": null,
            "margin": null,
            "max_height": null,
            "max_width": null,
            "min_height": null,
            "min_width": null,
            "object_fit": null,
            "object_position": null,
            "order": null,
            "overflow": null,
            "overflow_x": null,
            "overflow_y": null,
            "padding": null,
            "right": null,
            "top": null,
            "visibility": null,
            "width": null
          }
        },
        "f7839d3cb1574c458a094f68fd794861": {
          "model_module": "@jupyter-widgets/controls",
          "model_name": "ProgressStyleModel",
          "model_module_version": "1.5.0",
          "state": {
            "_model_module": "@jupyter-widgets/controls",
            "_model_module_version": "1.5.0",
            "_model_name": "ProgressStyleModel",
            "_view_count": null,
            "_view_module": "@jupyter-widgets/base",
            "_view_module_version": "1.2.0",
            "_view_name": "StyleView",
            "bar_color": null,
            "description_width": ""
          }
        },
        "784e36604b6a407ca9665ff6bbbe54f6": {
          "model_module": "@jupyter-widgets/controls",
          "model_name": "VBoxModel",
          "model_module_version": "1.5.0",
          "state": {
            "_dom_classes": [],
            "_model_module": "@jupyter-widgets/controls",
            "_model_module_version": "1.5.0",
            "_model_name": "VBoxModel",
            "_view_count": null,
            "_view_module": "@jupyter-widgets/controls",
            "_view_module_version": "1.5.0",
            "_view_name": "VBoxView",
            "box_style": "",
            "children": [
              "IPY_MODEL_8f3f317c703a4d3aa2118c3a2750613c",
              "IPY_MODEL_b768411de1da41a49639dd1006f97f0c"
            ],
            "layout": "IPY_MODEL_037bfbc1c2424f198fc12be20f19a86d"
          }
        },
        "8f3f317c703a4d3aa2118c3a2750613c": {
          "model_module": "@jupyter-widgets/controls",
          "model_name": "LabelModel",
          "model_module_version": "1.5.0",
          "state": {
            "_dom_classes": [],
            "_model_module": "@jupyter-widgets/controls",
            "_model_module_version": "1.5.0",
            "_model_name": "LabelModel",
            "_view_count": null,
            "_view_module": "@jupyter-widgets/controls",
            "_view_module_version": "1.5.0",
            "_view_name": "LabelView",
            "description": "",
            "description_tooltip": null,
            "layout": "IPY_MODEL_c03087e85b034de4a4181fcb0b05c634",
            "placeholder": "​",
            "style": "IPY_MODEL_7a34b570b90c4a2784f1a893ec86dd4a",
            "value": "0.053 MB of 0.053 MB uploaded\r"
          }
        },
        "b768411de1da41a49639dd1006f97f0c": {
          "model_module": "@jupyter-widgets/controls",
          "model_name": "FloatProgressModel",
          "model_module_version": "1.5.0",
          "state": {
            "_dom_classes": [],
            "_model_module": "@jupyter-widgets/controls",
            "_model_module_version": "1.5.0",
            "_model_name": "FloatProgressModel",
            "_view_count": null,
            "_view_module": "@jupyter-widgets/controls",
            "_view_module_version": "1.5.0",
            "_view_name": "ProgressView",
            "bar_style": "",
            "description": "",
            "description_tooltip": null,
            "layout": "IPY_MODEL_b98250ec286640f2be8ddfc5dcaa2516",
            "max": 1,
            "min": 0,
            "orientation": "horizontal",
            "style": "IPY_MODEL_d8bee4a431304466b9c9afc7aac39f3f",
            "value": 1
          }
        },
        "037bfbc1c2424f198fc12be20f19a86d": {
          "model_module": "@jupyter-widgets/base",
          "model_name": "LayoutModel",
          "model_module_version": "1.2.0",
          "state": {
            "_model_module": "@jupyter-widgets/base",
            "_model_module_version": "1.2.0",
            "_model_name": "LayoutModel",
            "_view_count": null,
            "_view_module": "@jupyter-widgets/base",
            "_view_module_version": "1.2.0",
            "_view_name": "LayoutView",
            "align_content": null,
            "align_items": null,
            "align_self": null,
            "border": null,
            "bottom": null,
            "display": null,
            "flex": null,
            "flex_flow": null,
            "grid_area": null,
            "grid_auto_columns": null,
            "grid_auto_flow": null,
            "grid_auto_rows": null,
            "grid_column": null,
            "grid_gap": null,
            "grid_row": null,
            "grid_template_areas": null,
            "grid_template_columns": null,
            "grid_template_rows": null,
            "height": null,
            "justify_content": null,
            "justify_items": null,
            "left": null,
            "margin": null,
            "max_height": null,
            "max_width": null,
            "min_height": null,
            "min_width": null,
            "object_fit": null,
            "object_position": null,
            "order": null,
            "overflow": null,
            "overflow_x": null,
            "overflow_y": null,
            "padding": null,
            "right": null,
            "top": null,
            "visibility": null,
            "width": null
          }
        },
        "c03087e85b034de4a4181fcb0b05c634": {
          "model_module": "@jupyter-widgets/base",
          "model_name": "LayoutModel",
          "model_module_version": "1.2.0",
          "state": {
            "_model_module": "@jupyter-widgets/base",
            "_model_module_version": "1.2.0",
            "_model_name": "LayoutModel",
            "_view_count": null,
            "_view_module": "@jupyter-widgets/base",
            "_view_module_version": "1.2.0",
            "_view_name": "LayoutView",
            "align_content": null,
            "align_items": null,
            "align_self": null,
            "border": null,
            "bottom": null,
            "display": null,
            "flex": null,
            "flex_flow": null,
            "grid_area": null,
            "grid_auto_columns": null,
            "grid_auto_flow": null,
            "grid_auto_rows": null,
            "grid_column": null,
            "grid_gap": null,
            "grid_row": null,
            "grid_template_areas": null,
            "grid_template_columns": null,
            "grid_template_rows": null,
            "height": null,
            "justify_content": null,
            "justify_items": null,
            "left": null,
            "margin": null,
            "max_height": null,
            "max_width": null,
            "min_height": null,
            "min_width": null,
            "object_fit": null,
            "object_position": null,
            "order": null,
            "overflow": null,
            "overflow_x": null,
            "overflow_y": null,
            "padding": null,
            "right": null,
            "top": null,
            "visibility": null,
            "width": null
          }
        },
        "7a34b570b90c4a2784f1a893ec86dd4a": {
          "model_module": "@jupyter-widgets/controls",
          "model_name": "DescriptionStyleModel",
          "model_module_version": "1.5.0",
          "state": {
            "_model_module": "@jupyter-widgets/controls",
            "_model_module_version": "1.5.0",
            "_model_name": "DescriptionStyleModel",
            "_view_count": null,
            "_view_module": "@jupyter-widgets/base",
            "_view_module_version": "1.2.0",
            "_view_name": "StyleView",
            "description_width": ""
          }
        },
        "b98250ec286640f2be8ddfc5dcaa2516": {
          "model_module": "@jupyter-widgets/base",
          "model_name": "LayoutModel",
          "model_module_version": "1.2.0",
          "state": {
            "_model_module": "@jupyter-widgets/base",
            "_model_module_version": "1.2.0",
            "_model_name": "LayoutModel",
            "_view_count": null,
            "_view_module": "@jupyter-widgets/base",
            "_view_module_version": "1.2.0",
            "_view_name": "LayoutView",
            "align_content": null,
            "align_items": null,
            "align_self": null,
            "border": null,
            "bottom": null,
            "display": null,
            "flex": null,
            "flex_flow": null,
            "grid_area": null,
            "grid_auto_columns": null,
            "grid_auto_flow": null,
            "grid_auto_rows": null,
            "grid_column": null,
            "grid_gap": null,
            "grid_row": null,
            "grid_template_areas": null,
            "grid_template_columns": null,
            "grid_template_rows": null,
            "height": null,
            "justify_content": null,
            "justify_items": null,
            "left": null,
            "margin": null,
            "max_height": null,
            "max_width": null,
            "min_height": null,
            "min_width": null,
            "object_fit": null,
            "object_position": null,
            "order": null,
            "overflow": null,
            "overflow_x": null,
            "overflow_y": null,
            "padding": null,
            "right": null,
            "top": null,
            "visibility": null,
            "width": null
          }
        },
        "d8bee4a431304466b9c9afc7aac39f3f": {
          "model_module": "@jupyter-widgets/controls",
          "model_name": "ProgressStyleModel",
          "model_module_version": "1.5.0",
          "state": {
            "_model_module": "@jupyter-widgets/controls",
            "_model_module_version": "1.5.0",
            "_model_name": "ProgressStyleModel",
            "_view_count": null,
            "_view_module": "@jupyter-widgets/base",
            "_view_module_version": "1.2.0",
            "_view_name": "StyleView",
            "bar_color": null,
            "description_width": ""
          }
        },
        "738822ddda55436a8e5917a9a66aef8b": {
          "model_module": "@jupyter-widgets/controls",
          "model_name": "VBoxModel",
          "model_module_version": "1.5.0",
          "state": {
            "_dom_classes": [],
            "_model_module": "@jupyter-widgets/controls",
            "_model_module_version": "1.5.0",
            "_model_name": "VBoxModel",
            "_view_count": null,
            "_view_module": "@jupyter-widgets/controls",
            "_view_module_version": "1.5.0",
            "_view_name": "VBoxView",
            "box_style": "",
            "children": [
              "IPY_MODEL_b29f9272491b4ca4b99c63d49a017468",
              "IPY_MODEL_04977f4ab77f4d688cd87d1934003bb8"
            ],
            "layout": "IPY_MODEL_a8875fa02ae4442593f6c04bba1dece3"
          }
        },
        "b29f9272491b4ca4b99c63d49a017468": {
          "model_module": "@jupyter-widgets/controls",
          "model_name": "LabelModel",
          "model_module_version": "1.5.0",
          "state": {
            "_dom_classes": [],
            "_model_module": "@jupyter-widgets/controls",
            "_model_module_version": "1.5.0",
            "_model_name": "LabelModel",
            "_view_count": null,
            "_view_module": "@jupyter-widgets/controls",
            "_view_module_version": "1.5.0",
            "_view_name": "LabelView",
            "description": "",
            "description_tooltip": null,
            "layout": "IPY_MODEL_4f39fe56279a400ea8cbfd6e8049d7f7",
            "placeholder": "​",
            "style": "IPY_MODEL_e211cd7175294c25b25f2f067c615c63",
            "value": "0.054 MB of 0.054 MB uploaded\r"
          }
        },
        "04977f4ab77f4d688cd87d1934003bb8": {
          "model_module": "@jupyter-widgets/controls",
          "model_name": "FloatProgressModel",
          "model_module_version": "1.5.0",
          "state": {
            "_dom_classes": [],
            "_model_module": "@jupyter-widgets/controls",
            "_model_module_version": "1.5.0",
            "_model_name": "FloatProgressModel",
            "_view_count": null,
            "_view_module": "@jupyter-widgets/controls",
            "_view_module_version": "1.5.0",
            "_view_name": "ProgressView",
            "bar_style": "",
            "description": "",
            "description_tooltip": null,
            "layout": "IPY_MODEL_4289e6d80159492f89d0e1afc7c3d524",
            "max": 1,
            "min": 0,
            "orientation": "horizontal",
            "style": "IPY_MODEL_7e34fb95cc93497faa36280ab77b8b04",
            "value": 1
          }
        },
        "a8875fa02ae4442593f6c04bba1dece3": {
          "model_module": "@jupyter-widgets/base",
          "model_name": "LayoutModel",
          "model_module_version": "1.2.0",
          "state": {
            "_model_module": "@jupyter-widgets/base",
            "_model_module_version": "1.2.0",
            "_model_name": "LayoutModel",
            "_view_count": null,
            "_view_module": "@jupyter-widgets/base",
            "_view_module_version": "1.2.0",
            "_view_name": "LayoutView",
            "align_content": null,
            "align_items": null,
            "align_self": null,
            "border": null,
            "bottom": null,
            "display": null,
            "flex": null,
            "flex_flow": null,
            "grid_area": null,
            "grid_auto_columns": null,
            "grid_auto_flow": null,
            "grid_auto_rows": null,
            "grid_column": null,
            "grid_gap": null,
            "grid_row": null,
            "grid_template_areas": null,
            "grid_template_columns": null,
            "grid_template_rows": null,
            "height": null,
            "justify_content": null,
            "justify_items": null,
            "left": null,
            "margin": null,
            "max_height": null,
            "max_width": null,
            "min_height": null,
            "min_width": null,
            "object_fit": null,
            "object_position": null,
            "order": null,
            "overflow": null,
            "overflow_x": null,
            "overflow_y": null,
            "padding": null,
            "right": null,
            "top": null,
            "visibility": null,
            "width": null
          }
        },
        "4f39fe56279a400ea8cbfd6e8049d7f7": {
          "model_module": "@jupyter-widgets/base",
          "model_name": "LayoutModel",
          "model_module_version": "1.2.0",
          "state": {
            "_model_module": "@jupyter-widgets/base",
            "_model_module_version": "1.2.0",
            "_model_name": "LayoutModel",
            "_view_count": null,
            "_view_module": "@jupyter-widgets/base",
            "_view_module_version": "1.2.0",
            "_view_name": "LayoutView",
            "align_content": null,
            "align_items": null,
            "align_self": null,
            "border": null,
            "bottom": null,
            "display": null,
            "flex": null,
            "flex_flow": null,
            "grid_area": null,
            "grid_auto_columns": null,
            "grid_auto_flow": null,
            "grid_auto_rows": null,
            "grid_column": null,
            "grid_gap": null,
            "grid_row": null,
            "grid_template_areas": null,
            "grid_template_columns": null,
            "grid_template_rows": null,
            "height": null,
            "justify_content": null,
            "justify_items": null,
            "left": null,
            "margin": null,
            "max_height": null,
            "max_width": null,
            "min_height": null,
            "min_width": null,
            "object_fit": null,
            "object_position": null,
            "order": null,
            "overflow": null,
            "overflow_x": null,
            "overflow_y": null,
            "padding": null,
            "right": null,
            "top": null,
            "visibility": null,
            "width": null
          }
        },
        "e211cd7175294c25b25f2f067c615c63": {
          "model_module": "@jupyter-widgets/controls",
          "model_name": "DescriptionStyleModel",
          "model_module_version": "1.5.0",
          "state": {
            "_model_module": "@jupyter-widgets/controls",
            "_model_module_version": "1.5.0",
            "_model_name": "DescriptionStyleModel",
            "_view_count": null,
            "_view_module": "@jupyter-widgets/base",
            "_view_module_version": "1.2.0",
            "_view_name": "StyleView",
            "description_width": ""
          }
        },
        "4289e6d80159492f89d0e1afc7c3d524": {
          "model_module": "@jupyter-widgets/base",
          "model_name": "LayoutModel",
          "model_module_version": "1.2.0",
          "state": {
            "_model_module": "@jupyter-widgets/base",
            "_model_module_version": "1.2.0",
            "_model_name": "LayoutModel",
            "_view_count": null,
            "_view_module": "@jupyter-widgets/base",
            "_view_module_version": "1.2.0",
            "_view_name": "LayoutView",
            "align_content": null,
            "align_items": null,
            "align_self": null,
            "border": null,
            "bottom": null,
            "display": null,
            "flex": null,
            "flex_flow": null,
            "grid_area": null,
            "grid_auto_columns": null,
            "grid_auto_flow": null,
            "grid_auto_rows": null,
            "grid_column": null,
            "grid_gap": null,
            "grid_row": null,
            "grid_template_areas": null,
            "grid_template_columns": null,
            "grid_template_rows": null,
            "height": null,
            "justify_content": null,
            "justify_items": null,
            "left": null,
            "margin": null,
            "max_height": null,
            "max_width": null,
            "min_height": null,
            "min_width": null,
            "object_fit": null,
            "object_position": null,
            "order": null,
            "overflow": null,
            "overflow_x": null,
            "overflow_y": null,
            "padding": null,
            "right": null,
            "top": null,
            "visibility": null,
            "width": null
          }
        },
        "7e34fb95cc93497faa36280ab77b8b04": {
          "model_module": "@jupyter-widgets/controls",
          "model_name": "ProgressStyleModel",
          "model_module_version": "1.5.0",
          "state": {
            "_model_module": "@jupyter-widgets/controls",
            "_model_module_version": "1.5.0",
            "_model_name": "ProgressStyleModel",
            "_view_count": null,
            "_view_module": "@jupyter-widgets/base",
            "_view_module_version": "1.2.0",
            "_view_name": "StyleView",
            "bar_color": null,
            "description_width": ""
          }
        },
        "f04a8f77efc646d1821ab6b2d4d6f929": {
          "model_module": "@jupyter-widgets/controls",
          "model_name": "VBoxModel",
          "model_module_version": "1.5.0",
          "state": {
            "_dom_classes": [],
            "_model_module": "@jupyter-widgets/controls",
            "_model_module_version": "1.5.0",
            "_model_name": "VBoxModel",
            "_view_count": null,
            "_view_module": "@jupyter-widgets/controls",
            "_view_module_version": "1.5.0",
            "_view_name": "VBoxView",
            "box_style": "",
            "children": [
              "IPY_MODEL_58affabc81ff43dda7649174a87211cb",
              "IPY_MODEL_ae9aad0f116b41b0b693a712ce200ea9"
            ],
            "layout": "IPY_MODEL_be09a7b3704c4d17b6a36d4eadc82fe4"
          }
        },
        "58affabc81ff43dda7649174a87211cb": {
          "model_module": "@jupyter-widgets/controls",
          "model_name": "LabelModel",
          "model_module_version": "1.5.0",
          "state": {
            "_dom_classes": [],
            "_model_module": "@jupyter-widgets/controls",
            "_model_module_version": "1.5.0",
            "_model_name": "LabelModel",
            "_view_count": null,
            "_view_module": "@jupyter-widgets/controls",
            "_view_module_version": "1.5.0",
            "_view_name": "LabelView",
            "description": "",
            "description_tooltip": null,
            "layout": "IPY_MODEL_f02e883f9360474fa0a8dacce886655c",
            "placeholder": "​",
            "style": "IPY_MODEL_bf8747aecc754fdeb427621afa729867",
            "value": "0.054 MB of 0.054 MB uploaded\r"
          }
        },
        "ae9aad0f116b41b0b693a712ce200ea9": {
          "model_module": "@jupyter-widgets/controls",
          "model_name": "FloatProgressModel",
          "model_module_version": "1.5.0",
          "state": {
            "_dom_classes": [],
            "_model_module": "@jupyter-widgets/controls",
            "_model_module_version": "1.5.0",
            "_model_name": "FloatProgressModel",
            "_view_count": null,
            "_view_module": "@jupyter-widgets/controls",
            "_view_module_version": "1.5.0",
            "_view_name": "ProgressView",
            "bar_style": "",
            "description": "",
            "description_tooltip": null,
            "layout": "IPY_MODEL_61bbd1e1d42c4bdcae2bfa09dc41389f",
            "max": 1,
            "min": 0,
            "orientation": "horizontal",
            "style": "IPY_MODEL_b4c613fbb8004dcfb833a22f7d4af640",
            "value": 1
          }
        },
        "be09a7b3704c4d17b6a36d4eadc82fe4": {
          "model_module": "@jupyter-widgets/base",
          "model_name": "LayoutModel",
          "model_module_version": "1.2.0",
          "state": {
            "_model_module": "@jupyter-widgets/base",
            "_model_module_version": "1.2.0",
            "_model_name": "LayoutModel",
            "_view_count": null,
            "_view_module": "@jupyter-widgets/base",
            "_view_module_version": "1.2.0",
            "_view_name": "LayoutView",
            "align_content": null,
            "align_items": null,
            "align_self": null,
            "border": null,
            "bottom": null,
            "display": null,
            "flex": null,
            "flex_flow": null,
            "grid_area": null,
            "grid_auto_columns": null,
            "grid_auto_flow": null,
            "grid_auto_rows": null,
            "grid_column": null,
            "grid_gap": null,
            "grid_row": null,
            "grid_template_areas": null,
            "grid_template_columns": null,
            "grid_template_rows": null,
            "height": null,
            "justify_content": null,
            "justify_items": null,
            "left": null,
            "margin": null,
            "max_height": null,
            "max_width": null,
            "min_height": null,
            "min_width": null,
            "object_fit": null,
            "object_position": null,
            "order": null,
            "overflow": null,
            "overflow_x": null,
            "overflow_y": null,
            "padding": null,
            "right": null,
            "top": null,
            "visibility": null,
            "width": null
          }
        },
        "f02e883f9360474fa0a8dacce886655c": {
          "model_module": "@jupyter-widgets/base",
          "model_name": "LayoutModel",
          "model_module_version": "1.2.0",
          "state": {
            "_model_module": "@jupyter-widgets/base",
            "_model_module_version": "1.2.0",
            "_model_name": "LayoutModel",
            "_view_count": null,
            "_view_module": "@jupyter-widgets/base",
            "_view_module_version": "1.2.0",
            "_view_name": "LayoutView",
            "align_content": null,
            "align_items": null,
            "align_self": null,
            "border": null,
            "bottom": null,
            "display": null,
            "flex": null,
            "flex_flow": null,
            "grid_area": null,
            "grid_auto_columns": null,
            "grid_auto_flow": null,
            "grid_auto_rows": null,
            "grid_column": null,
            "grid_gap": null,
            "grid_row": null,
            "grid_template_areas": null,
            "grid_template_columns": null,
            "grid_template_rows": null,
            "height": null,
            "justify_content": null,
            "justify_items": null,
            "left": null,
            "margin": null,
            "max_height": null,
            "max_width": null,
            "min_height": null,
            "min_width": null,
            "object_fit": null,
            "object_position": null,
            "order": null,
            "overflow": null,
            "overflow_x": null,
            "overflow_y": null,
            "padding": null,
            "right": null,
            "top": null,
            "visibility": null,
            "width": null
          }
        },
        "bf8747aecc754fdeb427621afa729867": {
          "model_module": "@jupyter-widgets/controls",
          "model_name": "DescriptionStyleModel",
          "model_module_version": "1.5.0",
          "state": {
            "_model_module": "@jupyter-widgets/controls",
            "_model_module_version": "1.5.0",
            "_model_name": "DescriptionStyleModel",
            "_view_count": null,
            "_view_module": "@jupyter-widgets/base",
            "_view_module_version": "1.2.0",
            "_view_name": "StyleView",
            "description_width": ""
          }
        },
        "61bbd1e1d42c4bdcae2bfa09dc41389f": {
          "model_module": "@jupyter-widgets/base",
          "model_name": "LayoutModel",
          "model_module_version": "1.2.0",
          "state": {
            "_model_module": "@jupyter-widgets/base",
            "_model_module_version": "1.2.0",
            "_model_name": "LayoutModel",
            "_view_count": null,
            "_view_module": "@jupyter-widgets/base",
            "_view_module_version": "1.2.0",
            "_view_name": "LayoutView",
            "align_content": null,
            "align_items": null,
            "align_self": null,
            "border": null,
            "bottom": null,
            "display": null,
            "flex": null,
            "flex_flow": null,
            "grid_area": null,
            "grid_auto_columns": null,
            "grid_auto_flow": null,
            "grid_auto_rows": null,
            "grid_column": null,
            "grid_gap": null,
            "grid_row": null,
            "grid_template_areas": null,
            "grid_template_columns": null,
            "grid_template_rows": null,
            "height": null,
            "justify_content": null,
            "justify_items": null,
            "left": null,
            "margin": null,
            "max_height": null,
            "max_width": null,
            "min_height": null,
            "min_width": null,
            "object_fit": null,
            "object_position": null,
            "order": null,
            "overflow": null,
            "overflow_x": null,
            "overflow_y": null,
            "padding": null,
            "right": null,
            "top": null,
            "visibility": null,
            "width": null
          }
        },
        "b4c613fbb8004dcfb833a22f7d4af640": {
          "model_module": "@jupyter-widgets/controls",
          "model_name": "ProgressStyleModel",
          "model_module_version": "1.5.0",
          "state": {
            "_model_module": "@jupyter-widgets/controls",
            "_model_module_version": "1.5.0",
            "_model_name": "ProgressStyleModel",
            "_view_count": null,
            "_view_module": "@jupyter-widgets/base",
            "_view_module_version": "1.2.0",
            "_view_name": "StyleView",
            "bar_color": null,
            "description_width": ""
          }
        },
        "21cac28df6914d55bcb80478a5f69ccf": {
          "model_module": "@jupyter-widgets/controls",
          "model_name": "VBoxModel",
          "model_module_version": "1.5.0",
          "state": {
            "_dom_classes": [],
            "_model_module": "@jupyter-widgets/controls",
            "_model_module_version": "1.5.0",
            "_model_name": "VBoxModel",
            "_view_count": null,
            "_view_module": "@jupyter-widgets/controls",
            "_view_module_version": "1.5.0",
            "_view_name": "VBoxView",
            "box_style": "",
            "children": [
              "IPY_MODEL_775f1cea23b44b0da157b7d84bc406d0",
              "IPY_MODEL_d2d94c1dba934659bd1171be3171f7f3"
            ],
            "layout": "IPY_MODEL_43e27b55eda6441892b4d1ae21605b69"
          }
        },
        "775f1cea23b44b0da157b7d84bc406d0": {
          "model_module": "@jupyter-widgets/controls",
          "model_name": "LabelModel",
          "model_module_version": "1.5.0",
          "state": {
            "_dom_classes": [],
            "_model_module": "@jupyter-widgets/controls",
            "_model_module_version": "1.5.0",
            "_model_name": "LabelModel",
            "_view_count": null,
            "_view_module": "@jupyter-widgets/controls",
            "_view_module_version": "1.5.0",
            "_view_name": "LabelView",
            "description": "",
            "description_tooltip": null,
            "layout": "IPY_MODEL_d2c5239bcbe649399d015ee711424a89",
            "placeholder": "​",
            "style": "IPY_MODEL_a9d36c49bc0d47d0b079d69a91ca4d88",
            "value": "0.054 MB of 0.054 MB uploaded\r"
          }
        },
        "d2d94c1dba934659bd1171be3171f7f3": {
          "model_module": "@jupyter-widgets/controls",
          "model_name": "FloatProgressModel",
          "model_module_version": "1.5.0",
          "state": {
            "_dom_classes": [],
            "_model_module": "@jupyter-widgets/controls",
            "_model_module_version": "1.5.0",
            "_model_name": "FloatProgressModel",
            "_view_count": null,
            "_view_module": "@jupyter-widgets/controls",
            "_view_module_version": "1.5.0",
            "_view_name": "ProgressView",
            "bar_style": "",
            "description": "",
            "description_tooltip": null,
            "layout": "IPY_MODEL_f81c4b038ae04b3ead2500ebdea253ee",
            "max": 1,
            "min": 0,
            "orientation": "horizontal",
            "style": "IPY_MODEL_9c5c9ec84f8a498d8759742196bc16d0",
            "value": 1
          }
        },
        "43e27b55eda6441892b4d1ae21605b69": {
          "model_module": "@jupyter-widgets/base",
          "model_name": "LayoutModel",
          "model_module_version": "1.2.0",
          "state": {
            "_model_module": "@jupyter-widgets/base",
            "_model_module_version": "1.2.0",
            "_model_name": "LayoutModel",
            "_view_count": null,
            "_view_module": "@jupyter-widgets/base",
            "_view_module_version": "1.2.0",
            "_view_name": "LayoutView",
            "align_content": null,
            "align_items": null,
            "align_self": null,
            "border": null,
            "bottom": null,
            "display": null,
            "flex": null,
            "flex_flow": null,
            "grid_area": null,
            "grid_auto_columns": null,
            "grid_auto_flow": null,
            "grid_auto_rows": null,
            "grid_column": null,
            "grid_gap": null,
            "grid_row": null,
            "grid_template_areas": null,
            "grid_template_columns": null,
            "grid_template_rows": null,
            "height": null,
            "justify_content": null,
            "justify_items": null,
            "left": null,
            "margin": null,
            "max_height": null,
            "max_width": null,
            "min_height": null,
            "min_width": null,
            "object_fit": null,
            "object_position": null,
            "order": null,
            "overflow": null,
            "overflow_x": null,
            "overflow_y": null,
            "padding": null,
            "right": null,
            "top": null,
            "visibility": null,
            "width": null
          }
        },
        "d2c5239bcbe649399d015ee711424a89": {
          "model_module": "@jupyter-widgets/base",
          "model_name": "LayoutModel",
          "model_module_version": "1.2.0",
          "state": {
            "_model_module": "@jupyter-widgets/base",
            "_model_module_version": "1.2.0",
            "_model_name": "LayoutModel",
            "_view_count": null,
            "_view_module": "@jupyter-widgets/base",
            "_view_module_version": "1.2.0",
            "_view_name": "LayoutView",
            "align_content": null,
            "align_items": null,
            "align_self": null,
            "border": null,
            "bottom": null,
            "display": null,
            "flex": null,
            "flex_flow": null,
            "grid_area": null,
            "grid_auto_columns": null,
            "grid_auto_flow": null,
            "grid_auto_rows": null,
            "grid_column": null,
            "grid_gap": null,
            "grid_row": null,
            "grid_template_areas": null,
            "grid_template_columns": null,
            "grid_template_rows": null,
            "height": null,
            "justify_content": null,
            "justify_items": null,
            "left": null,
            "margin": null,
            "max_height": null,
            "max_width": null,
            "min_height": null,
            "min_width": null,
            "object_fit": null,
            "object_position": null,
            "order": null,
            "overflow": null,
            "overflow_x": null,
            "overflow_y": null,
            "padding": null,
            "right": null,
            "top": null,
            "visibility": null,
            "width": null
          }
        },
        "a9d36c49bc0d47d0b079d69a91ca4d88": {
          "model_module": "@jupyter-widgets/controls",
          "model_name": "DescriptionStyleModel",
          "model_module_version": "1.5.0",
          "state": {
            "_model_module": "@jupyter-widgets/controls",
            "_model_module_version": "1.5.0",
            "_model_name": "DescriptionStyleModel",
            "_view_count": null,
            "_view_module": "@jupyter-widgets/base",
            "_view_module_version": "1.2.0",
            "_view_name": "StyleView",
            "description_width": ""
          }
        },
        "f81c4b038ae04b3ead2500ebdea253ee": {
          "model_module": "@jupyter-widgets/base",
          "model_name": "LayoutModel",
          "model_module_version": "1.2.0",
          "state": {
            "_model_module": "@jupyter-widgets/base",
            "_model_module_version": "1.2.0",
            "_model_name": "LayoutModel",
            "_view_count": null,
            "_view_module": "@jupyter-widgets/base",
            "_view_module_version": "1.2.0",
            "_view_name": "LayoutView",
            "align_content": null,
            "align_items": null,
            "align_self": null,
            "border": null,
            "bottom": null,
            "display": null,
            "flex": null,
            "flex_flow": null,
            "grid_area": null,
            "grid_auto_columns": null,
            "grid_auto_flow": null,
            "grid_auto_rows": null,
            "grid_column": null,
            "grid_gap": null,
            "grid_row": null,
            "grid_template_areas": null,
            "grid_template_columns": null,
            "grid_template_rows": null,
            "height": null,
            "justify_content": null,
            "justify_items": null,
            "left": null,
            "margin": null,
            "max_height": null,
            "max_width": null,
            "min_height": null,
            "min_width": null,
            "object_fit": null,
            "object_position": null,
            "order": null,
            "overflow": null,
            "overflow_x": null,
            "overflow_y": null,
            "padding": null,
            "right": null,
            "top": null,
            "visibility": null,
            "width": null
          }
        },
        "9c5c9ec84f8a498d8759742196bc16d0": {
          "model_module": "@jupyter-widgets/controls",
          "model_name": "ProgressStyleModel",
          "model_module_version": "1.5.0",
          "state": {
            "_model_module": "@jupyter-widgets/controls",
            "_model_module_version": "1.5.0",
            "_model_name": "ProgressStyleModel",
            "_view_count": null,
            "_view_module": "@jupyter-widgets/base",
            "_view_module_version": "1.2.0",
            "_view_name": "StyleView",
            "bar_color": null,
            "description_width": ""
          }
        },
        "31b1d4cf55ff42149dc2041589fcd332": {
          "model_module": "@jupyter-widgets/controls",
          "model_name": "VBoxModel",
          "model_module_version": "1.5.0",
          "state": {
            "_dom_classes": [],
            "_model_module": "@jupyter-widgets/controls",
            "_model_module_version": "1.5.0",
            "_model_name": "VBoxModel",
            "_view_count": null,
            "_view_module": "@jupyter-widgets/controls",
            "_view_module_version": "1.5.0",
            "_view_name": "VBoxView",
            "box_style": "",
            "children": [
              "IPY_MODEL_284ea9267a96474ba19e01197d67188d",
              "IPY_MODEL_cd5a66189bfa4bedb635daf252c01379"
            ],
            "layout": "IPY_MODEL_0c4e58308bb84c90bb54e732b48aa751"
          }
        },
        "284ea9267a96474ba19e01197d67188d": {
          "model_module": "@jupyter-widgets/controls",
          "model_name": "LabelModel",
          "model_module_version": "1.5.0",
          "state": {
            "_dom_classes": [],
            "_model_module": "@jupyter-widgets/controls",
            "_model_module_version": "1.5.0",
            "_model_name": "LabelModel",
            "_view_count": null,
            "_view_module": "@jupyter-widgets/controls",
            "_view_module_version": "1.5.0",
            "_view_name": "LabelView",
            "description": "",
            "description_tooltip": null,
            "layout": "IPY_MODEL_1eb8f397cab1409f992000dcba193125",
            "placeholder": "​",
            "style": "IPY_MODEL_a49bb66ad1fb4579b295ecbc453d628d",
            "value": "0.054 MB of 0.054 MB uploaded\r"
          }
        },
        "cd5a66189bfa4bedb635daf252c01379": {
          "model_module": "@jupyter-widgets/controls",
          "model_name": "FloatProgressModel",
          "model_module_version": "1.5.0",
          "state": {
            "_dom_classes": [],
            "_model_module": "@jupyter-widgets/controls",
            "_model_module_version": "1.5.0",
            "_model_name": "FloatProgressModel",
            "_view_count": null,
            "_view_module": "@jupyter-widgets/controls",
            "_view_module_version": "1.5.0",
            "_view_name": "ProgressView",
            "bar_style": "",
            "description": "",
            "description_tooltip": null,
            "layout": "IPY_MODEL_982de5c5ad9f4fc8beb711ee4ce0d370",
            "max": 1,
            "min": 0,
            "orientation": "horizontal",
            "style": "IPY_MODEL_c359698de33742dbb0560183b4e2acb6",
            "value": 1
          }
        },
        "0c4e58308bb84c90bb54e732b48aa751": {
          "model_module": "@jupyter-widgets/base",
          "model_name": "LayoutModel",
          "model_module_version": "1.2.0",
          "state": {
            "_model_module": "@jupyter-widgets/base",
            "_model_module_version": "1.2.0",
            "_model_name": "LayoutModel",
            "_view_count": null,
            "_view_module": "@jupyter-widgets/base",
            "_view_module_version": "1.2.0",
            "_view_name": "LayoutView",
            "align_content": null,
            "align_items": null,
            "align_self": null,
            "border": null,
            "bottom": null,
            "display": null,
            "flex": null,
            "flex_flow": null,
            "grid_area": null,
            "grid_auto_columns": null,
            "grid_auto_flow": null,
            "grid_auto_rows": null,
            "grid_column": null,
            "grid_gap": null,
            "grid_row": null,
            "grid_template_areas": null,
            "grid_template_columns": null,
            "grid_template_rows": null,
            "height": null,
            "justify_content": null,
            "justify_items": null,
            "left": null,
            "margin": null,
            "max_height": null,
            "max_width": null,
            "min_height": null,
            "min_width": null,
            "object_fit": null,
            "object_position": null,
            "order": null,
            "overflow": null,
            "overflow_x": null,
            "overflow_y": null,
            "padding": null,
            "right": null,
            "top": null,
            "visibility": null,
            "width": null
          }
        },
        "1eb8f397cab1409f992000dcba193125": {
          "model_module": "@jupyter-widgets/base",
          "model_name": "LayoutModel",
          "model_module_version": "1.2.0",
          "state": {
            "_model_module": "@jupyter-widgets/base",
            "_model_module_version": "1.2.0",
            "_model_name": "LayoutModel",
            "_view_count": null,
            "_view_module": "@jupyter-widgets/base",
            "_view_module_version": "1.2.0",
            "_view_name": "LayoutView",
            "align_content": null,
            "align_items": null,
            "align_self": null,
            "border": null,
            "bottom": null,
            "display": null,
            "flex": null,
            "flex_flow": null,
            "grid_area": null,
            "grid_auto_columns": null,
            "grid_auto_flow": null,
            "grid_auto_rows": null,
            "grid_column": null,
            "grid_gap": null,
            "grid_row": null,
            "grid_template_areas": null,
            "grid_template_columns": null,
            "grid_template_rows": null,
            "height": null,
            "justify_content": null,
            "justify_items": null,
            "left": null,
            "margin": null,
            "max_height": null,
            "max_width": null,
            "min_height": null,
            "min_width": null,
            "object_fit": null,
            "object_position": null,
            "order": null,
            "overflow": null,
            "overflow_x": null,
            "overflow_y": null,
            "padding": null,
            "right": null,
            "top": null,
            "visibility": null,
            "width": null
          }
        },
        "a49bb66ad1fb4579b295ecbc453d628d": {
          "model_module": "@jupyter-widgets/controls",
          "model_name": "DescriptionStyleModel",
          "model_module_version": "1.5.0",
          "state": {
            "_model_module": "@jupyter-widgets/controls",
            "_model_module_version": "1.5.0",
            "_model_name": "DescriptionStyleModel",
            "_view_count": null,
            "_view_module": "@jupyter-widgets/base",
            "_view_module_version": "1.2.0",
            "_view_name": "StyleView",
            "description_width": ""
          }
        },
        "982de5c5ad9f4fc8beb711ee4ce0d370": {
          "model_module": "@jupyter-widgets/base",
          "model_name": "LayoutModel",
          "model_module_version": "1.2.0",
          "state": {
            "_model_module": "@jupyter-widgets/base",
            "_model_module_version": "1.2.0",
            "_model_name": "LayoutModel",
            "_view_count": null,
            "_view_module": "@jupyter-widgets/base",
            "_view_module_version": "1.2.0",
            "_view_name": "LayoutView",
            "align_content": null,
            "align_items": null,
            "align_self": null,
            "border": null,
            "bottom": null,
            "display": null,
            "flex": null,
            "flex_flow": null,
            "grid_area": null,
            "grid_auto_columns": null,
            "grid_auto_flow": null,
            "grid_auto_rows": null,
            "grid_column": null,
            "grid_gap": null,
            "grid_row": null,
            "grid_template_areas": null,
            "grid_template_columns": null,
            "grid_template_rows": null,
            "height": null,
            "justify_content": null,
            "justify_items": null,
            "left": null,
            "margin": null,
            "max_height": null,
            "max_width": null,
            "min_height": null,
            "min_width": null,
            "object_fit": null,
            "object_position": null,
            "order": null,
            "overflow": null,
            "overflow_x": null,
            "overflow_y": null,
            "padding": null,
            "right": null,
            "top": null,
            "visibility": null,
            "width": null
          }
        },
        "c359698de33742dbb0560183b4e2acb6": {
          "model_module": "@jupyter-widgets/controls",
          "model_name": "ProgressStyleModel",
          "model_module_version": "1.5.0",
          "state": {
            "_model_module": "@jupyter-widgets/controls",
            "_model_module_version": "1.5.0",
            "_model_name": "ProgressStyleModel",
            "_view_count": null,
            "_view_module": "@jupyter-widgets/base",
            "_view_module_version": "1.2.0",
            "_view_name": "StyleView",
            "bar_color": null,
            "description_width": ""
          }
        }
      }
    }
  },
  "nbformat": 4,
  "nbformat_minor": 0
}