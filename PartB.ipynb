{
  "cells": [
    {
      "cell_type": "markdown",
      "metadata": {
        "id": "view-in-github",
        "colab_type": "text"
      },
      "source": [
        "<a href=\"https://colab.research.google.com/github/ZhenwenZhang1108/ADL3_PartB/blob/main/PartB.ipynb\" target=\"_parent\"><img src=\"https://colab.research.google.com/assets/colab-badge.svg\" alt=\"Open In Colab\"/></a>"
      ]
    },
    {
      "cell_type": "code",
      "execution_count": 21,
      "metadata": {
        "id": "RFSzq1InIxrA",
        "colab": {
          "base_uri": "https://localhost:8080/"
        },
        "outputId": "53e32021-5643-4d0f-b671-50c63fb8fcf9"
      },
      "outputs": [
        {
          "output_type": "stream",
          "name": "stdout",
          "text": [
            "Requirement already satisfied: torcheval in /usr/local/lib/python3.10/dist-packages (0.0.7)\n",
            "Requirement already satisfied: typing-extensions in /usr/local/lib/python3.10/dist-packages (from torcheval) (4.11.0)\n"
          ]
        }
      ],
      "source": [
        "!pip install torcheval"
      ]
    },
    {
      "cell_type": "code",
      "execution_count": 22,
      "metadata": {
        "id": "84ZoJAjZ3NVL",
        "colab": {
          "base_uri": "https://localhost:8080/"
        },
        "outputId": "5162e498-043c-44d3-b269-73972061f92d"
      },
      "outputs": [
        {
          "output_type": "stream",
          "name": "stdout",
          "text": [
            "Drive already mounted at /content/drive; to attempt to forcibly remount, call drive.mount(\"/content/drive\", force_remount=True).\n"
          ]
        }
      ],
      "source": [
        "import sklearn\n",
        "from sklearn.metrics import f1_score\n",
        "import torch\n",
        "import torch.nn as nn\n",
        "import torch.utils\n",
        "import torch.optim as optim\n",
        "import torch\n",
        "from torch.utils.data import Dataset,DataLoader,random_split\n",
        "from torchvision import datasets, transforms\n",
        "import numpy as np\n",
        "import matplotlib.pyplot as plt\n",
        "from torch.nn import functional as F\n",
        "from torchvision.datasets.utils import download_url\n",
        "from torch import Tensor\n",
        "from sklearn.preprocessing import OneHotEncoder\n",
        "from torcheval.metrics.functional import multiclass_f1_score\n",
        "from google.colab import drive\n",
        "from torcheval.metrics.functional.classification import binary_recall,multiclass_recall\n",
        "drive.mount('/content/drive')\n"
      ]
    },
    {
      "cell_type": "code",
      "execution_count": 23,
      "metadata": {
        "id": "HVTHNEkV3fcY",
        "colab": {
          "base_uri": "https://localhost:8080/"
        },
        "outputId": "782c15e7-6892-4d81-ef74-04ed5e212814"
      },
      "outputs": [
        {
          "output_type": "stream",
          "name": "stdout",
          "text": [
            "['model_lstm1.pth']\n"
          ]
        }
      ],
      "source": [
        "import os\n",
        "path = \"/content/drive/MyDrive/adl3/\"\n",
        "os.chdir(path)\n",
        "print(os.listdir())"
      ]
    },
    {
      "cell_type": "code",
      "execution_count": 24,
      "metadata": {
        "id": "3HIt5eBY4ntO",
        "colab": {
          "base_uri": "https://localhost:8080/"
        },
        "outputId": "9c848ad3-dcfb-4d5b-e1b4-5d23cabe07e6"
      },
      "outputs": [
        {
          "output_type": "stream",
          "name": "stdout",
          "text": [
            "cpu\n"
          ]
        }
      ],
      "source": [
        "device = 'cuda' if torch.cuda.is_available() else 'cpu'\n",
        "print(device)"
      ]
    },
    {
      "cell_type": "markdown",
      "metadata": {
        "id": "ezhTyJxf3mgW"
      },
      "source": [
        "创建数据库(list存两个各自的数组？一个数组里装x,另一个装y?，还是必须构建x到y的一一对应关系)。\n",
        "为每段序列添加一个标签（打标签的规则是什么？总不能随机打标签吧）。"
      ]
    },
    {
      "cell_type": "markdown",
      "metadata": {
        "id": "iN3QUjvx7Rda"
      },
      "source": [
        "对序列进行编码，abc的话采用One-hot编码应该可以。"
      ]
    },
    {
      "cell_type": "markdown",
      "metadata": {
        "id": "T4HQnqTI3w6X"
      },
      "source": [
        "对序列进行编码，只有abc三个字母的话采用One-hot编码应该可以。是否需要补齐<padding>？"
      ]
    },
    {
      "cell_type": "markdown",
      "metadata": {
        "id": "tJMXAPEiNWVz"
      },
      "source": [
        "如果我们设置batch size=1，那就不需要padding了？？？\n",
        "但如此设置，恐怕挨个挪到GPU上就会很慢了，可能就得在CPU上直接训练？"
      ]
    },
    {
      "cell_type": "code",
      "execution_count": 25,
      "metadata": {
        "id": "oQfuYo3EQwnx",
        "colab": {
          "base_uri": "https://localhost:8080/"
        },
        "outputId": "4320fb40-00a7-4775-ad7b-57eef7edcebe"
      },
      "outputs": [
        {
          "output_type": "stream",
          "name": "stdout",
          "text": [
            "tensor([1])\n",
            "258\n"
          ]
        }
      ],
      "source": [
        "\n",
        "#自定义一个Dataset类，必需包含init, len, getitem\n",
        "class CustomDataset(Dataset):\n",
        "    def __init__(self):\n",
        "        self.data = []\n",
        "        self.targets = []\n",
        "\n",
        "    def __len__(self):\n",
        "        return len(self.data)\n",
        "\n",
        "    def __getitem__(self, index):\n",
        "        return self.data[index], self.targets[index]\n",
        "\n",
        "    def append(self, data, target):\n",
        "        self.data.append(data)\n",
        "        self.targets.append(target)\n",
        "\n",
        "# 创建自定义数据集对象\n",
        "dataset = CustomDataset()\n",
        "sum = 0\n",
        "k=0\n",
        "# 逐个添加数据和标签\n",
        "for x in range(1,19):\n",
        "  for y in range(1,19):\n",
        "    for z in range(1,19):\n",
        "     if x+y+z>20:\n",
        "       continue\n",
        "     input_string = 'a'*x + 'b'*y + 'c'*z\n",
        "     sum+=1\n",
        "     input_array = np.array(list(input_string)).reshape(-1, 1)\n",
        "     #创建并适配 OneHotEncoder\n",
        "     encoder = OneHotEncoder(sparse_output=False)\n",
        "     data = torch.FloatTensor(encoder.fit_transform(input_array))\n",
        "     if x==y or y==z or x==z :\n",
        "      target=torch.tensor(1)\n",
        "      k+=1\n",
        "     else:\n",
        "      target=torch.tensor(0)\n",
        "     dataset.append(data, target)\n",
        "\n",
        "batch_size = 1\n",
        "dataloader = DataLoader(dataset, batch_size=batch_size, shuffle=False)\n",
        "\n",
        "print(next(iter(dataloader))[1])\n",
        "print(k)"
      ]
    },
    {
      "cell_type": "code",
      "execution_count": 26,
      "metadata": {
        "id": "aC-IibjlZkGC",
        "colab": {
          "base_uri": "https://localhost:8080/"
        },
        "outputId": "efa3ae2d-74df-42ff-821e-7d7e6e328a57"
      },
      "outputs": [
        {
          "output_type": "stream",
          "name": "stdout",
          "text": [
            "torch.Size([14, 3])\n",
            "torch.Size([15, 3])\n",
            "torch.Size([16, 3])\n"
          ]
        }
      ],
      "source": [
        "print(dataset[11][0].shape)\n",
        "print(dataset[12][0].shape)\n",
        "print(dataset[13][0].shape)"
      ]
    },
    {
      "cell_type": "code",
      "execution_count": 27,
      "metadata": {
        "id": "9gAIa2dipN20"
      },
      "outputs": [],
      "source": [
        "def train_model(model, train_loader, criterion, optimizer, num_epochs):\n",
        "    for epoch in range(num_epochs):\n",
        "        model.train()\n",
        "        running_loss = 0\n",
        "        for texts, labels in train_loader:\n",
        "            # 前向传播\n",
        "            outputs = model(texts)\n",
        "            loss = criterion(outputs, labels)\n",
        "\n",
        "            # 反向传播和优化\n",
        "            optimizer.zero_grad()\n",
        "            loss.backward()\n",
        "            optimizer.step()\n",
        "\n",
        "            running_loss += loss.item()\n",
        "\n",
        "        print(f'Epoch [{epoch + 1}/{num_epochs}], Loss: {running_loss / len(train_loader):.4f}')"
      ]
    },
    {
      "cell_type": "code",
      "execution_count": 28,
      "metadata": {
        "id": "LNSm297ipJW-"
      },
      "outputs": [],
      "source": [
        "def eval_model(model,test_loader):\n",
        "    model.eval()\n",
        "    input = torch.tensor([])\n",
        "    target = torch.tensor([])\n",
        "    with torch.no_grad():\n",
        "      for texts, labels in test_loader:\n",
        "          outputs = model(texts)\n",
        "          predicted = torch.argmax(outputs,1)\n",
        "          input = torch.cat((input,predicted))\n",
        "          target = torch.cat((target,labels))\n",
        "    #F1score还没算呢！！！\n",
        "    input = input.numpy()\n",
        "    target = target.numpy()\n",
        "    accuracy = 100 * (input == target).sum() / len(target)\n",
        "   ## recall = binary_recall(input, target)\n",
        "    f1score = f1_score(y_pred=input,y_true=target)\n",
        "    print(f'Validation Accuracy: {accuracy:.2f}%')\n",
        "    print(f'Validation F1 score: {f1score:.2f}')\n",
        "    print(input.shape)\n",
        "    print(target.shape)"
      ]
    },
    {
      "cell_type": "markdown",
      "metadata": {
        "id": "LcS78KZDZaHn"
      },
      "source": [
        "RNN模型建立\n",
        "https://pytorch.org/docs/stable/generated/torch.nn.RNN.html"
      ]
    },
    {
      "cell_type": "code",
      "execution_count": 29,
      "metadata": {
        "id": "8S2FiFj_ZZdp"
      },
      "outputs": [],
      "source": [
        "class RNNClassifier(nn.Module):\n",
        "    def __init__(self, nlayers=1, embed_size=3, hidsize=10, bidirect=False, output_size=2):\n",
        "        super(RNNClassifier, self).__init__()\n",
        "        #one-hot编码，字母本身没有额外信息需要学习，所以不需要embedding层??\n",
        "        self.embed = nn.Linear(in_features=embed_size,out_features=hidsize)\n",
        "        self.rnn = nn.RNN(input_size=hidsize, num_layers=nlayers, hidden_size=hidsize, bidirectional=bidirect, batch_first=True)\n",
        "        if bidirect==True:\n",
        "          self.bi=2\n",
        "        else:\n",
        "          self.bi=1\n",
        "        self.fc = nn.Linear(hidsize*self.bi*nlayers,output_size)\n",
        "    def forward(self, x):\n",
        "        x= self.embed(x)\n",
        "        output,h_n = self.rnn(input=x)\n",
        "        h_n = h_n.permute(1,0,2) #这里要小心，即使开了batch_first=True,第一个维度上也不是batch_size，这是pytorch.RNN的设定\n",
        "        h_n = torch.flatten(h_n,start_dim=-2)\n",
        "        out = self.fc(h_n)\n",
        "        return out #注意这里的output没做softmax"
      ]
    },
    {
      "cell_type": "code",
      "execution_count": 33,
      "metadata": {
        "id": "9Se5u2QJZWW2",
        "colab": {
          "base_uri": "https://localhost:8080/"
        },
        "outputId": "1a38c64c-ce93-4193-bf4c-e1f2a7abcbaa"
      },
      "outputs": [
        {
          "output_type": "stream",
          "name": "stdout",
          "text": [
            "torch.Size([6])\n"
          ]
        }
      ],
      "source": [
        "model_rnn = RNNClassifier(hidsize=100, bidirect=True).to(device)\n",
        "criterion_CE = nn.CrossEntropyLoss() #自带softmax\n",
        "optimizer_adam = optim.Adam(model_rnn.parameters(), lr=0.001)\n",
        "\n",
        "x = torch.rand(6,11,3) #(batch_size,seq_len,embed_size)\n",
        "y = model_rnn(x)\n",
        "z = torch.argmax(y,1)\n",
        "print(z.shape)"
      ]
    },
    {
      "cell_type": "code",
      "execution_count": 34,
      "metadata": {
        "id": "8MeXrZBpjPOB",
        "colab": {
          "base_uri": "https://localhost:8080/"
        },
        "outputId": "41a10b9b-f621-4e0d-8ccb-493de8359bbc"
      },
      "outputs": [
        {
          "output_type": "stream",
          "name": "stdout",
          "text": [
            "798\n",
            "342\n"
          ]
        }
      ],
      "source": [
        "train_size = int(0.7 * len(dataset))\n",
        "test_size = len(dataset) - train_size\n",
        "train_dataset, test_dataset = random_split(dataset, [train_size, test_size])\n",
        "\n",
        "trainloader = DataLoader(train_dataset, batch_size=1, shuffle=True)\n",
        "testloader = DataLoader(test_dataset, batch_size=1, shuffle=False)\n",
        "\n",
        "print(len(trainloader))\n",
        "print(len(testloader))"
      ]
    },
    {
      "cell_type": "code",
      "execution_count": 35,
      "metadata": {
        "colab": {
          "base_uri": "https://localhost:8080/"
        },
        "id": "t-dYEGR6hqwY",
        "outputId": "3500909c-269b-4066-88f2-be24fb8b9ed1"
      },
      "outputs": [
        {
          "output_type": "stream",
          "name": "stdout",
          "text": [
            "Epoch [1/20], Loss: 0.5743\n",
            "Epoch [2/20], Loss: 0.5297\n",
            "Epoch [3/20], Loss: 0.5201\n",
            "Epoch [4/20], Loss: 0.5081\n",
            "Epoch [5/20], Loss: 0.5037\n",
            "Epoch [6/20], Loss: 0.5061\n",
            "Epoch [7/20], Loss: 0.5096\n",
            "Epoch [8/20], Loss: 0.4979\n",
            "Epoch [9/20], Loss: 0.5164\n",
            "Epoch [10/20], Loss: 0.4931\n",
            "Epoch [11/20], Loss: 0.5244\n",
            "Epoch [12/20], Loss: 0.5320\n",
            "Epoch [13/20], Loss: 0.5181\n",
            "Epoch [14/20], Loss: 0.4710\n",
            "Epoch [15/20], Loss: 0.4809\n",
            "Epoch [16/20], Loss: 0.4604\n",
            "Epoch [17/20], Loss: 0.4311\n",
            "Epoch [18/20], Loss: 0.4221\n",
            "Epoch [19/20], Loss: 0.4227\n",
            "Epoch [20/20], Loss: 0.4238\n"
          ]
        }
      ],
      "source": [
        "# 训练模型\n",
        "train_model(model=model_rnn, train_loader=trainloader, criterion=criterion_CE, optimizer = optimizer_adam, num_epochs=20)\n",
        "# 测试模型\n"
      ]
    },
    {
      "cell_type": "code",
      "execution_count": 37,
      "metadata": {
        "colab": {
          "base_uri": "https://localhost:8080/"
        },
        "id": "LO8qW2BxIZ65",
        "outputId": "7c80ac5e-1a6d-4e59-838a-217344dba977"
      },
      "outputs": [
        {
          "output_type": "stream",
          "name": "stdout",
          "text": [
            "Validation Accuracy: 83.33%\n",
            "Validation F1 score: 0.45\n",
            "(342,)\n",
            "(342,)\n"
          ]
        }
      ],
      "source": [
        "eval_model(model_rnn,testloader)\n",
        "torch.save(model_rnn.state_dict(), './model_rnn1.pth')"
      ]
    },
    {
      "cell_type": "markdown",
      "metadata": {
        "id": "hb_DF49wpiOi"
      },
      "source": [
        "LSTM模型\n",
        "https://pytorch.org/docs/stable/generated/torch.nn.LSTM.html"
      ]
    },
    {
      "cell_type": "code",
      "execution_count": null,
      "metadata": {
        "id": "TKVDWVVqphgn"
      },
      "outputs": [],
      "source": [
        "class LSTMClassifier(nn.Module):\n",
        "    def __init__(self, nlayers=1, embed_size=3, hidsize=100, bidirect=False, output_size=2):\n",
        "        super(LSTMClassifier, self).__init__()\n",
        "        self.embed = nn.Linear(in_features=embed_size,out_features=hidsize)\n",
        "        self.lstm = nn.LSTM(input_size=hidsize, num_layers=nlayers, hidden_size=hidsize, bidirectional=bidirect, batch_first=True)\n",
        "        if bidirect==True:\n",
        "          self.bi=2\n",
        "        else:\n",
        "          self.bi=1\n",
        "        self.fc = nn.Linear(hidsize*self.bi*nlayers,output_size)\n",
        "    def forward(self, x):\n",
        "        x = self.embed(x)\n",
        "        output, (h_n, c_n) = self.lstm(input=x)\n",
        "        h_n = h_n.permute(1,0,2) #这里要小心，即使开了batch_first=True,第一个维度上也不是batch_size，这是pytorch.RNN的设定\n",
        "        h_n = torch.flatten(h_n,start_dim=-2)\n",
        "        out = self.fc(h_n)\n",
        "        return out #注意这里的output没做softmax"
      ]
    },
    {
      "cell_type": "code",
      "execution_count": null,
      "metadata": {
        "colab": {
          "base_uri": "https://localhost:8080/"
        },
        "id": "-2XFcu88tCg0",
        "outputId": "e4397678-dedf-4d7b-c5cc-1fdfe65a674b"
      },
      "outputs": [
        {
          "output_type": "stream",
          "name": "stdout",
          "text": [
            "torch.Size([6])\n"
          ]
        }
      ],
      "source": [
        "model_lstm = LSTMClassifier().to(device)\n",
        "criterion_CE = nn.CrossEntropyLoss() #自带softmax\n",
        "optimizer_adam = optim.Adam(model_lstm.parameters(), lr=0.001)\n",
        "\n",
        "x = torch.rand(6,11,3) #(batch_size,seq_len,embed_size)\n",
        "y = model_lstm(x)\n",
        "z = torch.argmax(y,1)\n",
        "print(z.shape)"
      ]
    },
    {
      "cell_type": "code",
      "execution_count": null,
      "metadata": {
        "id": "3WI97-PTpCde",
        "colab": {
          "base_uri": "https://localhost:8080/"
        },
        "outputId": "d87acf98-86ea-4936-a87b-3586a5d273c1"
      },
      "outputs": [
        {
          "output_type": "stream",
          "name": "stdout",
          "text": [
            "Epoch [1/20], Loss: 0.5399\n",
            "Epoch [2/20], Loss: 0.5217\n",
            "Epoch [3/20], Loss: 0.5114\n",
            "Epoch [4/20], Loss: 0.4941\n",
            "Epoch [5/20], Loss: 0.4876\n",
            "Epoch [6/20], Loss: 0.4608\n",
            "Epoch [7/20], Loss: 0.4437\n",
            "Epoch [8/20], Loss: 0.3989\n",
            "Epoch [9/20], Loss: 0.3743\n",
            "Epoch [10/20], Loss: 0.3530\n",
            "Epoch [11/20], Loss: 0.3404\n",
            "Epoch [12/20], Loss: 0.3183\n",
            "Epoch [13/20], Loss: 0.2957\n",
            "Epoch [14/20], Loss: 0.2517\n",
            "Epoch [15/20], Loss: 0.1719\n",
            "Epoch [16/20], Loss: 0.1429\n",
            "Epoch [17/20], Loss: 0.0928\n",
            "Epoch [18/20], Loss: 0.0856\n",
            "Epoch [19/20], Loss: 0.0330\n",
            "Epoch [20/20], Loss: 0.0346\n"
          ]
        }
      ],
      "source": [
        "train_model(model=model_lstm, train_loader=trainloader, criterion=criterion_CE, optimizer = optimizer_adam, num_epochs=20)\n",
        "# 测试模型"
      ]
    },
    {
      "cell_type": "code",
      "execution_count": null,
      "metadata": {
        "colab": {
          "base_uri": "https://localhost:8080/"
        },
        "id": "649hYRcNJD5-",
        "outputId": "90dba546-e423-4767-9cb9-7da49aa47c54"
      },
      "outputs": [
        {
          "output_type": "stream",
          "name": "stdout",
          "text": [
            "Validation Accuracy: 98.54%\n",
            "Validation F1 score: 0.97\n",
            "(342,)\n",
            "(342,)\n"
          ]
        }
      ],
      "source": [
        "eval_model(model_lstm,testloader)"
      ]
    },
    {
      "cell_type": "code",
      "source": [
        "torch.save(model_lstm.state_dict(), './model_lstm1.pth')"
      ],
      "metadata": {
        "id": "krV-DRxJczzU"
      },
      "execution_count": null,
      "outputs": []
    },
    {
      "cell_type": "markdown",
      "source": [
        "泛化能力评估：长度21-50"
      ],
      "metadata": {
        "id": "RYFxNKlpcWDG"
      }
    },
    {
      "cell_type": "markdown",
      "source": [
        "参数优化：是否进行embedding; hidden_size取50，75，100.。。。。"
      ],
      "metadata": {
        "id": "NJrsLfzWcb1H"
      }
    }
  ],
  "metadata": {
    "colab": {
      "provenance": [],
      "authorship_tag": "ABX9TyO7q5rIuz0gx+Td8E3D8EWk",
      "include_colab_link": true
    },
    "kernelspec": {
      "display_name": "Python 3",
      "name": "python3"
    },
    "language_info": {
      "name": "python"
    }
  },
  "nbformat": 4,
  "nbformat_minor": 0
}